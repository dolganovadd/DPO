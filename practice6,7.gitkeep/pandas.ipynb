{
 "cells": [
  {
   "cell_type": "markdown",
   "metadata": {},
   "source": [
    "## Упражнение № 1\n",
    "\n",
    "Создайте Series из каждого из элементов: списка, ndarray и словаря.\n",
    "\n",
    "Пример входных данных:\n",
    "\n",
    "```python\n",
    "import numpy as np\n",
    "mylist = list('abcedfghijklmnopqrstuvwxyz')\n",
    "myarr = np.arange(26)\n",
    "mydict = dict(zip(mylist, myarr))\n",
    "```"
   ]
  },
  {
   "cell_type": "code",
   "execution_count": 1,
   "metadata": {},
   "outputs": [
    {
     "name": "stdout",
     "output_type": "stream",
     "text": [
      "Series из списка:\n",
      "0     a\n",
      "1     b\n",
      "2     c\n",
      "3     e\n",
      "4     d\n",
      "5     f\n",
      "6     g\n",
      "7     h\n",
      "8     i\n",
      "9     j\n",
      "10    k\n",
      "11    l\n",
      "12    m\n",
      "13    n\n",
      "14    o\n",
      "15    p\n",
      "16    q\n",
      "17    r\n",
      "18    s\n",
      "19    t\n",
      "20    u\n",
      "21    v\n",
      "22    w\n",
      "23    x\n",
      "24    y\n",
      "25    z\n",
      "dtype: object\n",
      "\n",
      "Series из ndarray:\n",
      "0      0\n",
      "1      1\n",
      "2      2\n",
      "3      3\n",
      "4      4\n",
      "5      5\n",
      "6      6\n",
      "7      7\n",
      "8      8\n",
      "9      9\n",
      "10    10\n",
      "11    11\n",
      "12    12\n",
      "13    13\n",
      "14    14\n",
      "15    15\n",
      "16    16\n",
      "17    17\n",
      "18    18\n",
      "19    19\n",
      "20    20\n",
      "21    21\n",
      "22    22\n",
      "23    23\n",
      "24    24\n",
      "25    25\n",
      "dtype: int64\n",
      "\n",
      "Series из словаря:\n",
      "a     0\n",
      "b     1\n",
      "c     2\n",
      "e     3\n",
      "d     4\n",
      "f     5\n",
      "g     6\n",
      "h     7\n",
      "i     8\n",
      "j     9\n",
      "k    10\n",
      "l    11\n",
      "m    12\n",
      "n    13\n",
      "o    14\n",
      "p    15\n",
      "q    16\n",
      "r    17\n",
      "s    18\n",
      "t    19\n",
      "u    20\n",
      "v    21\n",
      "w    22\n",
      "x    23\n",
      "y    24\n",
      "z    25\n",
      "dtype: int64\n"
     ]
    }
   ],
   "source": [
    "import pandas as pd\n",
    "import numpy as np\n",
    "\n",
    "# Создаем данные\n",
    "mylist = list('abcedfghijklmnopqrstuvwxyz')\n",
    "myarr = np.arange(26)\n",
    "mydict = dict(zip(mylist, myarr))\n",
    "\n",
    "# Создаем Series из списка\n",
    "series_from_list = pd.Series(mylist)\n",
    "print(\"Series из списка:\")\n",
    "print(series_from_list)\n",
    "\n",
    "# Создаем Series из ndarray\n",
    "series_from_array = pd.Series(myarr)\n",
    "print(\"\\nSeries из ndarray:\")\n",
    "print(series_from_array)\n",
    "\n",
    "# Создаем Series из словаря\n",
    "series_from_dict = pd.Series(mydict)\n",
    "print(\"\\nSeries из словаря:\")\n",
    "print(series_from_dict)\n"
   ]
  },
  {
   "cell_type": "markdown",
   "metadata": {},
   "source": [
    "## Упражнение № 2\n",
    "\n",
    "Преобразуйте `ser` в датафрейм с его индексом в качестве еще одного столбца датафрейма.\n",
    "\n",
    "Пример входных данных:\n",
    "\n",
    "```python\n",
    "import numpy as np\n",
    "mylist = list('abcedfghijklmnopqrstuvwxyz')\n",
    "myarr = np.arange(26)\n",
    "mydict = dict(zip(mylist, myarr))\n",
    "ser = pd.Series(mydict)\n",
    "```"
   ]
  },
  {
   "cell_type": "code",
   "execution_count": 2,
   "metadata": {},
   "outputs": [
    {
     "name": "stdout",
     "output_type": "stream",
     "text": [
      "   Index  Value\n",
      "0      a      0\n",
      "1      b      1\n",
      "2      c      2\n",
      "3      e      3\n",
      "4      d      4\n",
      "5      f      5\n",
      "6      g      6\n",
      "7      h      7\n",
      "8      i      8\n",
      "9      j      9\n",
      "10     k     10\n",
      "11     l     11\n",
      "12     m     12\n",
      "13     n     13\n",
      "14     o     14\n",
      "15     p     15\n",
      "16     q     16\n",
      "17     r     17\n",
      "18     s     18\n",
      "19     t     19\n",
      "20     u     20\n",
      "21     v     21\n",
      "22     w     22\n",
      "23     x     23\n",
      "24     y     24\n",
      "25     z     25\n"
     ]
    }
   ],
   "source": [
    "import pandas as pd\n",
    "import numpy as np\n",
    "\n",
    "# Создаем данные\n",
    "mylist = list('abcedfghijklmnopqrstuvwxyz')\n",
    "myarr = np.arange(26)\n",
    "mydict = dict(zip(mylist, myarr))\n",
    "ser = pd.Series(mydict)\n",
    "\n",
    "# Преобразуем Series в DataFrame\n",
    "df = ser.reset_index()  # используем reset_index() для сброса индекса\n",
    "df.columns = ['Index', 'Value']  # переименуем столбцы\n",
    "\n",
    "# Выводим результат\n",
    "print(df)\n"
   ]
  },
  {
   "cell_type": "markdown",
   "metadata": {},
   "source": [
    "## Упражнение № 3\n",
    "\n",
    "Объедините `ser1` и `ser2`, чтобы сформировать датафрейм.\n",
    "\n",
    "Пример входных данных:\n",
    "\n",
    "```python\n",
    "import numpy as np\n",
    "mylist = list('abcedfghijklmnopqrstuvwxyz')\n",
    "myarr = np.arange(26)\n",
    "mydict = dict(zip(mylist, myarr))\n",
    "```"
   ]
  },
  {
   "cell_type": "code",
   "execution_count": 3,
   "metadata": {},
   "outputs": [
    {
     "name": "stdout",
     "output_type": "stream",
     "text": [
      "   Column1  Column2\n",
      "a        0       51\n",
      "b        1       50\n",
      "c        2       49\n",
      "d        4       48\n",
      "e        3       47\n",
      "f        5       46\n",
      "g        6       45\n",
      "h        7       44\n",
      "i        8       43\n",
      "j        9       42\n",
      "k       10       41\n",
      "l       11       40\n",
      "m       12       39\n",
      "n       13       38\n",
      "o       14       37\n",
      "p       15       36\n",
      "q       16       35\n",
      "r       17       34\n",
      "s       18       33\n",
      "t       19       32\n",
      "u       20       31\n",
      "v       21       30\n",
      "w       22       29\n",
      "x       23       28\n",
      "y       24       27\n",
      "z       25       26\n"
     ]
    }
   ],
   "source": [
    "import pandas as pd\n",
    "import numpy as np\n",
    "\n",
    "# Создаем данные для ser1\n",
    "mylist = list('abcedfghijklmnopqrstuvwxyz')\n",
    "myarr = np.arange(26)\n",
    "mydict = dict(zip(mylist, myarr))\n",
    "ser1 = pd.Series(mydict)\n",
    "\n",
    "# Создаем данные для ser2 (например, можно использовать другой набор значений)\n",
    "mylist2 = list('zyxwvutsrqponmlkjihgfedcba')  # инвертируем порядок\n",
    "myarr2 = np.arange(26, 52)  # новые значения\n",
    "mydict2 = dict(zip(mylist2, myarr2))\n",
    "ser2 = pd.Series(mydict2)\n",
    "\n",
    "# Объединяем ser1 и ser2 в датафрейм\n",
    "df = pd.DataFrame({'Column1': ser1, 'Column2': ser2})\n",
    "\n",
    "# Выводим результат\n",
    "print(df)\n"
   ]
  },
  {
   "cell_type": "markdown",
   "metadata": {},
   "source": [
    "## Упражнение № 4\n",
    "\n",
    "Добавьте имя ряда  `ser`, назвав его `latin_letters`.\n",
    "\n",
    "Пример входных данных:\n",
    "\n",
    "```python\n",
    "ser = pd.Series(list('abcedfghijklmnopqrstuvwxyz'))\n",
    "```"
   ]
  },
  {
   "cell_type": "code",
   "execution_count": 4,
   "metadata": {},
   "outputs": [
    {
     "name": "stdout",
     "output_type": "stream",
     "text": [
      "0     a\n",
      "1     b\n",
      "2     c\n",
      "3     e\n",
      "4     d\n",
      "5     f\n",
      "6     g\n",
      "7     h\n",
      "8     i\n",
      "9     j\n",
      "10    k\n",
      "11    l\n",
      "12    m\n",
      "13    n\n",
      "14    o\n",
      "15    p\n",
      "16    q\n",
      "17    r\n",
      "18    s\n",
      "19    t\n",
      "20    u\n",
      "21    v\n",
      "22    w\n",
      "23    x\n",
      "24    y\n",
      "25    z\n",
      "Name: latin_letters, dtype: object\n"
     ]
    }
   ],
   "source": [
    "import pandas as pd\n",
    "\n",
    "# Создаем серию\n",
    "ser = pd.Series(list('abcedfghijklmnopqrstuvwxyz'))\n",
    "\n",
    "# Присваиваем имя рядy\n",
    "ser.name = 'latin_letters'\n",
    "\n",
    "# Выводим результат\n",
    "print(ser)\n"
   ]
  },
  {
   "cell_type": "markdown",
   "metadata": {},
   "source": [
    "## Упражнение № 5\n",
    "\n",
    "Из `ser1` удалите элементы, присутствующие в `ser2`.\n",
    "\n",
    "```python\n",
    "ser1 = pd.Series([1, 2, 3, 4, 5])\n",
    "ser2 = pd.Series([4, 5, 6, 7, 8])\n",
    "```"
   ]
  },
  {
   "cell_type": "code",
   "execution_count": 5,
   "metadata": {},
   "outputs": [
    {
     "name": "stdout",
     "output_type": "stream",
     "text": [
      "0    1\n",
      "1    2\n",
      "2    3\n",
      "dtype: int64\n"
     ]
    }
   ],
   "source": [
    "import pandas as pd\n",
    "\n",
    "# Определяем серии\n",
    "ser1 = pd.Series([1, 2, 3, 4, 5])\n",
    "ser2 = pd.Series([4, 5, 6, 7, 8])\n",
    "\n",
    "# Удаляем элементы из ser1, которые присутствуют в ser2\n",
    "ser1_filtered = ser1[~ser1.isin(ser2)]\n",
    "\n",
    "# Выводим результат\n",
    "print(ser1_filtered)\n"
   ]
  },
  {
   "cell_type": "markdown",
   "metadata": {},
   "source": [
    "## Упражнение № 6\n",
    "\n",
    "Получить все элементы `ser1` и `ser2`, которые не являются общими для обоих рядов.\n",
    "\n",
    "Пример входных данных:\n",
    "\n",
    "```python\n",
    "ser1 = pd.Series([1, 2, 3, 4, 5])\n",
    "ser2 = pd.Series([4, 5, 6, 7, 8])\n",
    "```"
   ]
  },
  {
   "cell_type": "code",
   "execution_count": 6,
   "metadata": {},
   "outputs": [
    {
     "name": "stdout",
     "output_type": "stream",
     "text": [
      "0    1\n",
      "1    2\n",
      "2    3\n",
      "2    6\n",
      "3    7\n",
      "4    8\n",
      "dtype: int64\n"
     ]
    }
   ],
   "source": [
    "import pandas as pd\n",
    "\n",
    "# Определяем серии\n",
    "ser1 = pd.Series([1, 2, 3, 4, 5])\n",
    "ser2 = pd.Series([4, 5, 6, 7, 8])\n",
    "\n",
    "# Объединяем две серии\n",
    "combined = pd.concat([ser1, ser2])\n",
    "\n",
    "# Удаляем общие элементы\n",
    "unique_elements = combined[~combined.isin(combined[combined.duplicated()])]\n",
    "\n",
    "# Выводим результат\n",
    "print(unique_elements)\n"
   ]
  },
  {
   "cell_type": "markdown",
   "metadata": {},
   "source": [
    "## Упражнение № 7\n",
    "\n",
    "Вычислите минимальное значение, 25-й процентиль, медиану, 75-й процентиль и максимальное значение `ser`.\n",
    "\n",
    "Пример входных данных:\n",
    "\n",
    "```python\n",
    "ser = pd.Series(np.random.normal(10, 5, 25))\n",
    "```"
   ]
  },
  {
   "cell_type": "code",
   "execution_count": 7,
   "metadata": {},
   "outputs": [
    {
     "name": "stdout",
     "output_type": "stream",
     "text": [
      "Минимальное значение: 0.999099561674818\n",
      "25-й процентиль: 7.49788000720637\n",
      "Медиана: 9.803168799233797\n",
      "75-й процентиль: 12.071145483539953\n",
      "Максимальное значение: 20.571688465709187\n"
     ]
    }
   ],
   "source": [
    "import pandas as pd\n",
    "import numpy as np\n",
    "\n",
    "# Генерируем случайную серию\n",
    "ser = pd.Series(np.random.normal(10, 5, 25))\n",
    "\n",
    "# Вычисляем необходимые статистики\n",
    "min_value = ser.min()\n",
    "percentile_25 = ser.quantile(0.25)\n",
    "median_value = ser.median()\n",
    "percentile_75 = ser.quantile(0.75)\n",
    "max_value = ser.max()\n",
    "\n",
    "# Выводим результаты\n",
    "print(f\"Минимальное значение: {min_value}\")\n",
    "print(f\"25-й процентиль: {percentile_25}\")\n",
    "print(f\"Медиана: {median_value}\")\n",
    "print(f\"75-й процентиль: {percentile_75}\")\n",
    "print(f\"Максимальное значение: {max_value}\")\n"
   ]
  },
  {
   "cell_type": "markdown",
   "metadata": {},
   "source": [
    "## Упражнение № 8\n",
    "\n",
    "Вычислите частоту встречаемости каждого уникального значения `ser`.\n",
    "\n",
    "Пример входных данных:\n",
    "\n",
    "```python\n",
    "ser = pd.Series(np.take(list('abcdefgh'), np.random.randint(8, size=30)))\n",
    "```\n"
   ]
  },
  {
   "cell_type": "code",
   "execution_count": 8,
   "metadata": {},
   "outputs": [
    {
     "name": "stdout",
     "output_type": "stream",
     "text": [
      "a    7\n",
      "g    7\n",
      "e    5\n",
      "f    3\n",
      "h    3\n",
      "b    3\n",
      "c    2\n",
      "Name: count, dtype: int64\n"
     ]
    }
   ],
   "source": [
    "import pandas as pd\n",
    "import numpy as np\n",
    "\n",
    "# Генерируем случайную серию с символами от 'a' до 'h'\n",
    "ser = pd.Series(np.take(list('abcdefgh'), np.random.randint(8, size=30)))\n",
    "\n",
    "# Вычисляем частоту встречаемости уникальных значений\n",
    "frequency_counts = ser.value_counts()\n",
    "\n",
    "# Выводим результаты\n",
    "print(frequency_counts)\n"
   ]
  },
  {
   "cell_type": "markdown",
   "metadata": {},
   "source": [
    "## Упражнение № 9\n",
    "\n",
    "Из `ser` оставить 2 наиболее часто встречающихся элемента без изменений, а все остальные заменить на `Прочее`.\n",
    "\n",
    "Пример входных данных:\n",
    "\n",
    "```python\n",
    "np.random.RandomState(100)\n",
    "ser = pd.Series(np.random.randint(1, 5, [12]))\n",
    "```"
   ]
  },
  {
   "cell_type": "code",
   "execution_count": 9,
   "metadata": {},
   "outputs": [
    {
     "name": "stdout",
     "output_type": "stream",
     "text": [
      "Исходная серия:\n",
      "0     1\n",
      "1     4\n",
      "2     1\n",
      "3     3\n",
      "4     1\n",
      "5     4\n",
      "6     1\n",
      "7     3\n",
      "8     1\n",
      "9     1\n",
      "10    2\n",
      "11    4\n",
      "dtype: int32\n",
      "\n",
      "Измененная серия:\n",
      "0          1\n",
      "1          4\n",
      "2          1\n",
      "3     Прочее\n",
      "4          1\n",
      "5          4\n",
      "6          1\n",
      "7     Прочее\n",
      "8          1\n",
      "9          1\n",
      "10    Прочее\n",
      "11         4\n",
      "dtype: object\n"
     ]
    }
   ],
   "source": [
    "import pandas as pd\n",
    "import numpy as np\n",
    "\n",
    "# Устанавливаем случайное состояние для воспроизводимости\n",
    "np.random.RandomState(100)\n",
    "ser = pd.Series(np.random.randint(1, 5, [12]))\n",
    "\n",
    "# Находим 2 наиболее часто встречающихся элемента\n",
    "top_two = ser.value_counts().index[:2]\n",
    "\n",
    "# Заменяем все значения, которые не относятся к топ-2, на прочее\n",
    "ser_modified = ser.where(ser.isin(top_two), \"Прочее\")\n",
    "\n",
    "# Выводим результаты\n",
    "print(\"Исходная серия:\")\n",
    "print(ser)\n",
    "print(\"\\nИзмененная серия:\")\n",
    "print(ser_modified)\n"
   ]
  },
  {
   "cell_type": "markdown",
   "metadata": {},
   "source": [
    "## Упражнение № 10\n",
    "\n",
    "Разбейте ряд `ser` на 10 равных децилей и замените значения на название дециля.\n",
    "\n",
    "Пример входных данных:\n",
    "\n",
    "```python\n",
    "ser = pd.Series(np.random.random(20))\n",
    "```\n",
    "\n",
    "Пример выходных данных:\n",
    "\n",
    "```python\n",
    "# First 5 items\n",
    "0    7th\n",
    "1    9th\n",
    "2    7th\n",
    "3    3rd\n",
    "4    8th\n",
    "dtype: category\n",
    "Categories (10, object): [1st < 2nd < 3rd < 4th ... 7th < 8th < 9th < 10th]\n",
    "```"
   ]
  },
  {
   "cell_type": "code",
   "execution_count": 10,
   "metadata": {},
   "outputs": [
    {
     "name": "stdout",
     "output_type": "stream",
     "text": [
      "Исходная серия:\n",
      "0     0.382245\n",
      "1     0.702007\n",
      "2     0.448655\n",
      "3     0.026556\n",
      "4     0.345973\n",
      "5     0.710589\n",
      "6     0.919692\n",
      "7     0.441007\n",
      "8     0.425828\n",
      "9     0.589554\n",
      "10    0.349082\n",
      "11    0.529662\n",
      "12    0.500923\n",
      "13    0.477455\n",
      "14    0.773648\n",
      "15    0.115225\n",
      "16    0.060087\n",
      "17    0.706741\n",
      "18    0.629349\n",
      "19    0.632216\n",
      "dtype: float64\n",
      "\n",
      "Серия с децилями:\n",
      "0      3th\n",
      "1      8th\n",
      "2      5th\n",
      "3      1th\n",
      "4      2th\n",
      "5      9th\n",
      "6     10th\n",
      "7      4th\n",
      "8      4th\n",
      "9      7th\n",
      "10     3th\n",
      "11     6th\n",
      "12     6th\n",
      "13     5th\n",
      "14    10th\n",
      "15     2th\n",
      "16     1th\n",
      "17     9th\n",
      "18     7th\n",
      "19     8th\n",
      "dtype: category\n",
      "Categories (10, object): ['1th' < '2th' < '3th' < '4th' ... '7th' < '8th' < '9th' < '10th']\n"
     ]
    }
   ],
   "source": [
    "import pandas as pd\n",
    "import numpy as np\n",
    "\n",
    "# Генерируем случайную серию из 20 значений\n",
    "ser = pd.Series(np.random.random(20))\n",
    "\n",
    "# Разбиваем на 10 децилей и заменяем значения на названия децилей\n",
    "déciles = pd.qcut(ser, 10, labels=[f'{i+1}th' for i in range(10)])\n",
    "\n",
    "# Выводим результаты\n",
    "print(\"Исходная серия:\")\n",
    "print(ser)\n",
    "print(\"\\nСерия с децилями:\")\n",
    "print(déciles)\n"
   ]
  },
  {
   "cell_type": "markdown",
   "metadata": {},
   "source": [
    "## Упражнение № 11\n",
    "\n",
    "Переформируйте ряд `ser` в датафрейм с 7 строками и 5 столбцами\n",
    "\n",
    "Пример входных данных:\n",
    "\n",
    "```python\n",
    "ser = pd.Series(np.random.randint(1, 10, 35))\n",
    "```"
   ]
  },
  {
   "cell_type": "code",
   "execution_count": 11,
   "metadata": {},
   "outputs": [
    {
     "name": "stdout",
     "output_type": "stream",
     "text": [
      "Исходная серия:\n",
      "0     5\n",
      "1     6\n",
      "2     4\n",
      "3     9\n",
      "4     2\n",
      "5     4\n",
      "6     9\n",
      "7     9\n",
      "8     6\n",
      "9     2\n",
      "10    2\n",
      "11    7\n",
      "12    4\n",
      "13    1\n",
      "14    1\n",
      "15    3\n",
      "16    2\n",
      "17    8\n",
      "18    5\n",
      "19    9\n",
      "20    4\n",
      "21    5\n",
      "22    2\n",
      "23    9\n",
      "24    8\n",
      "25    3\n",
      "26    5\n",
      "27    9\n",
      "28    8\n",
      "29    7\n",
      "30    4\n",
      "31    3\n",
      "32    8\n",
      "33    4\n",
      "34    7\n",
      "dtype: int32\n",
      "\n",
      "Датафрейм:\n",
      "   0  1  2  3  4\n",
      "0  5  6  4  9  2\n",
      "1  4  9  9  6  2\n",
      "2  2  7  4  1  1\n",
      "3  3  2  8  5  9\n",
      "4  4  5  2  9  8\n",
      "5  3  5  9  8  7\n",
      "6  4  3  8  4  7\n"
     ]
    }
   ],
   "source": [
    "import pandas as pd\n",
    "import numpy as np\n",
    "\n",
    "# Генерируем случайную серию из 35 целых чисел от 1 до 9\n",
    "ser = pd.Series(np.random.randint(1, 10, 35))\n",
    "\n",
    "# Преобразуем серию в датафрейм с 7 строками и 5 столбцами\n",
    "df = pd.DataFrame(ser.values.reshape(7, 5))\n",
    "\n",
    "# Выводим результат\n",
    "print(\"Исходная серия:\")\n",
    "print(ser)\n",
    "print(\"\\nДатафрейм:\")\n",
    "print(df)\n"
   ]
  },
  {
   "cell_type": "markdown",
   "metadata": {},
   "source": [
    "## Упражнение № 12\n",
    "\n",
    "Найти позиции чисел, кратных 3, из ряда `ser`.\n",
    "\n",
    "Пример входных данных:\n",
    "\n",
    "```python\n",
    "ser = pd.Series(np.random.randint(1, 10, 7))\n",
    "```"
   ]
  },
  {
   "cell_type": "code",
   "execution_count": 12,
   "metadata": {},
   "outputs": [
    {
     "name": "stdout",
     "output_type": "stream",
     "text": [
      "Исходная серия:\n",
      "0    5\n",
      "1    4\n",
      "2    8\n",
      "3    1\n",
      "4    1\n",
      "5    4\n",
      "6    3\n",
      "dtype: int32\n",
      "\n",
      "Позиции чисел, кратных 3:\n",
      "[6]\n"
     ]
    }
   ],
   "source": [
    "import pandas as pd\n",
    "import numpy as np\n",
    "\n",
    "# Генерируем случайную серию из 7 целых чисел от 1 до 9\n",
    "ser = pd.Series(np.random.randint(1, 10, 7))\n",
    "\n",
    "# Находим позиции чисел, кратных 3\n",
    "positions = ser[ser % 3 == 0].index.tolist()\n",
    "\n",
    "# Выводим результат\n",
    "print(\"Исходная серия:\")\n",
    "print(ser)\n",
    "print(\"\\nПозиции чисел, кратных 3:\")\n",
    "print(positions)\n"
   ]
  },
  {
   "cell_type": "markdown",
   "metadata": {},
   "source": [
    "## Упражнение № 13\n",
    "\n",
    "Из `ser` извлечь элементы, находящиеся на позициях в списке `pos`.\n",
    "\n",
    "Пример входных данных:\n",
    "\n",
    "```python\n",
    "ser = pd.Series(list('abcdefghijklmnopqrstuvwxyz'))\n",
    "pos = [0, 4, 8, 14, 20]\n",
    "```\n"
   ]
  },
  {
   "cell_type": "code",
   "execution_count": 13,
   "metadata": {},
   "outputs": [
    {
     "name": "stdout",
     "output_type": "stream",
     "text": [
      "Исходная серия:\n",
      "0     a\n",
      "1     b\n",
      "2     c\n",
      "3     d\n",
      "4     e\n",
      "5     f\n",
      "6     g\n",
      "7     h\n",
      "8     i\n",
      "9     j\n",
      "10    k\n",
      "11    l\n",
      "12    m\n",
      "13    n\n",
      "14    o\n",
      "15    p\n",
      "16    q\n",
      "17    r\n",
      "18    s\n",
      "19    t\n",
      "20    u\n",
      "21    v\n",
      "22    w\n",
      "23    x\n",
      "24    y\n",
      "25    z\n",
      "dtype: object\n",
      "\n",
      "Извлеченные элементы на позициях [0, 4, 8, 14, 20]:\n",
      "0     a\n",
      "4     e\n",
      "8     i\n",
      "14    o\n",
      "20    u\n",
      "dtype: object\n"
     ]
    }
   ],
   "source": [
    "import pandas as pd\n",
    "\n",
    "# Создаем серию из букв английского алфавита\n",
    "ser = pd.Series(list('abcdefghijklmnopqrstuvwxyz'))\n",
    "\n",
    "# Заданный список позиций\n",
    "pos = [0, 4, 8, 14, 20]\n",
    "\n",
    "# Извлекаем элементы по указанным позициям\n",
    "extracted_elements = ser.iloc[pos]\n",
    "\n",
    "# Выводим результат\n",
    "print(\"Исходная серия:\")\n",
    "print(ser)\n",
    "print(\"\\nИзвлеченные элементы на позициях {}:\".format(pos))\n",
    "print(extracted_elements)\n"
   ]
  },
  {
   "cell_type": "markdown",
   "metadata": {},
   "source": [
    "## Упражнение № 14\n",
    "\n",
    "Объедините `ser1` и `ser2` по вертикали и горизонтали (чтобы сформировать датафрейм).\n",
    "\n",
    "Пример входных данных:\n",
    "\n",
    "```python\n",
    "ser1 = pd.Series(range(5))\n",
    "ser2 = pd.Series(list('abcde'))\n",
    "```"
   ]
  },
  {
   "cell_type": "code",
   "execution_count": 14,
   "metadata": {},
   "outputs": [
    {
     "name": "stdout",
     "output_type": "stream",
     "text": [
      "Объединение по вертикали:\n",
      "0    0\n",
      "1    1\n",
      "2    2\n",
      "3    3\n",
      "4    4\n",
      "0    a\n",
      "1    b\n",
      "2    c\n",
      "3    d\n",
      "4    e\n",
      "dtype: object\n",
      "\n",
      "Объединение по горизонтали:\n",
      "   Numbers Letters\n",
      "0        0       a\n",
      "1        1       b\n",
      "2        2       c\n",
      "3        3       d\n",
      "4        4       e\n"
     ]
    }
   ],
   "source": [
    "import pandas as pd\n",
    "\n",
    "# Создаем две серии\n",
    "ser1 = pd.Series(range(5))  # Серия с числами от 0 до 4\n",
    "ser2 = pd.Series(list('abcde'))  # Серия с буквами a, b, c, d, e\n",
    "\n",
    "# Объединение по вертикали (конкатенация)\n",
    "vertical_concat = pd.concat([ser1, ser2], axis=0)\n",
    "print(\"Объединение по вертикали:\")\n",
    "print(vertical_concat)\n",
    "\n",
    "# Преобразуем серии в датафреймы для горизонтального объединения\n",
    "df1 = ser1.to_frame(name='Numbers')  # Преобразования в датафрейм с названием столбца\n",
    "df2 = ser2.to_frame(name='Letters')\n",
    "\n",
    "# Объединение по горизонтали\n",
    "horizontal_concat = pd.concat([df1, df2], axis=1)\n",
    "print(\"\\nОбъединение по горизонтали:\")\n",
    "print(horizontal_concat)\n"
   ]
  },
  {
   "cell_type": "markdown",
   "metadata": {},
   "source": [
    "## Упражнение № 15\n",
    "\n",
    "Получите позиции элементов `ser2` в `ser1` в виде списка.\n",
    "\n",
    "Пример входных данных:\n",
    "\n",
    "```python\n",
    "ser1 = pd.Series([10, 9, 6, 5, 3, 1, 12, 8, 13])\n",
    "ser2 = pd.Series([1, 3, 10, 13])\n",
    "```"
   ]
  },
  {
   "cell_type": "code",
   "execution_count": 15,
   "metadata": {},
   "outputs": [
    {
     "name": "stdout",
     "output_type": "stream",
     "text": [
      "Позиции элементов из ser2 в ser1: [5, 4, 0, 8]\n"
     ]
    }
   ],
   "source": [
    "import pandas as pd\n",
    "\n",
    "# Определяем серии\n",
    "ser1 = pd.Series([10, 9, 6, 5, 3, 1, 12, 8, 13])\n",
    "ser2 = pd.Series([1, 3, 10, 13])\n",
    "\n",
    "# Получаем позиции элементов ser2 в ser1\n",
    "positions = [ser1[ser1 == value].index.tolist()[0] for value in ser2 if value in ser1.values]\n",
    "\n",
    "# Выводим результат\n",
    "print(\"Позиции элементов из ser2 в ser1:\", positions)\n"
   ]
  },
  {
   "cell_type": "markdown",
   "metadata": {},
   "source": [
    "## Упражнение № 16\n",
    "\n",
    "Вычислить среднеквадратическую ошибку рядов `truth` и `pred`.\n",
    "\n",
    "Пример входных данных:\n",
    "\n",
    "```python\n",
    "truth = pd.Series(range(10))\n",
    "pred = pd.Series(range(10)) + np.random.random(10)\n",
    "```"
   ]
  },
  {
   "cell_type": "code",
   "execution_count": 16,
   "metadata": {},
   "outputs": [
    {
     "name": "stdout",
     "output_type": "stream",
     "text": [
      "Среднеквадратическая ошибка: 0.34296202823111327\n"
     ]
    }
   ],
   "source": [
    "import pandas as pd\n",
    "import numpy as np\n",
    "\n",
    "# Определяем серии\n",
    "truth = pd.Series(range(10))\n",
    "pred = pd.Series(range(10)) + np.random.random(10)\n",
    "\n",
    "# Вычисляем среднеквадратическую ошибку\n",
    "mse = ((truth - pred) ** 2).mean()\n",
    "\n",
    "# Выводим результат\n",
    "print(\"Среднеквадратическая ошибка:\", mse)\n"
   ]
  },
  {
   "cell_type": "markdown",
   "metadata": {},
   "source": [
    "## Упражнение № 17\n",
    "\n",
    "В каждом слове `ser` поставьте первый символ каждого слова в верхний регистр.\n",
    "\n",
    "```python\n",
    "ser = pd.Series(['how', 'to', 'kick', 'ass?'])\n",
    "```\n"
   ]
  },
  {
   "cell_type": "code",
   "execution_count": 17,
   "metadata": {},
   "outputs": [
    {
     "name": "stdout",
     "output_type": "stream",
     "text": [
      "0     How\n",
      "1      To\n",
      "2    Kick\n",
      "3    Ass?\n",
      "dtype: object\n"
     ]
    }
   ],
   "source": [
    "import pandas as pd\n",
    "\n",
    "# Определяем серию\n",
    "ser = pd.Series(['how', 'to', 'kick', 'ass?'])\n",
    "\n",
    "# Изменяем первый символ каждого слова на заглавный\n",
    "capitalized_ser = ser.str.capitalize()\n",
    "\n",
    "# Выводим результат\n",
    "print(capitalized_ser)\n"
   ]
  },
  {
   "cell_type": "markdown",
   "metadata": {},
   "source": [
    "## Упражнение № 18\n",
    "\n",
    "В каждом слове `ser` посчитайте число символов.\n",
    "\n",
    "Пример входных данных:\n",
    "\n",
    "```python\n",
    "ser = pd.Series(['how', 'to', 'kick', 'ass?'])\n",
    "```"
   ]
  },
  {
   "cell_type": "code",
   "execution_count": 18,
   "metadata": {},
   "outputs": [
    {
     "name": "stdout",
     "output_type": "stream",
     "text": [
      "0    3\n",
      "1    2\n",
      "2    4\n",
      "3    4\n",
      "dtype: int64\n"
     ]
    }
   ],
   "source": [
    "import pandas as pd\n",
    "\n",
    "# Определяем серию\n",
    "ser = pd.Series(['how', 'to', 'kick', 'ass?'])\n",
    "\n",
    "# Считаем количество символов в каждом слове\n",
    "lengths = ser.str.len()\n",
    "\n",
    "# Выводим результат\n",
    "print(lengths)\n"
   ]
  },
  {
   "cell_type": "markdown",
   "metadata": {},
   "source": [
    "## Упражнение № 19\n",
    "\n",
    "Вычислите разность разностей между последовательно идущими числами в `ser`.\n",
    "\n",
    "Пример входных данных:\n",
    "\n",
    "```python\n",
    "ser = pd.Series([1, 3, 6, 10, 15, 21, 27, 35])\n",
    "```\n",
    "\n",
    "Пример выходных данных:\n",
    "\n",
    "```\n",
    "[nan, 2.0, 3.0, 4.0, 5.0, 6.0, 6.0, 8.0]\n",
    "[nan, nan, 1.0, 1.0, 1.0, 1.0, 0.0, 2.0]\n",
    "```"
   ]
  },
  {
   "cell_type": "code",
   "execution_count": 19,
   "metadata": {},
   "outputs": [
    {
     "name": "stdout",
     "output_type": "stream",
     "text": [
      "0    NaN\n",
      "1    2.0\n",
      "2    3.0\n",
      "3    4.0\n",
      "4    5.0\n",
      "5    6.0\n",
      "6    6.0\n",
      "7    8.0\n",
      "dtype: float64\n",
      "0    NaN\n",
      "1    NaN\n",
      "2    1.0\n",
      "3    1.0\n",
      "4    1.0\n",
      "5    1.0\n",
      "6    0.0\n",
      "7    2.0\n",
      "dtype: float64\n"
     ]
    }
   ],
   "source": [
    "import pandas as pd\n",
    "\n",
    "# Определяем серию\n",
    "ser = pd.Series([1, 3, 6, 10, 15, 21, 27, 35])\n",
    "\n",
    "# Вычисляем разности между последовательно идущими числами\n",
    "first_difference = ser.diff()\n",
    "\n",
    "# Вычисляем разности между разностями\n",
    "second_difference = first_difference.diff()\n",
    "\n",
    "# Выводим результаты\n",
    "print(first_difference)\n",
    "print(second_difference)\n"
   ]
  },
  {
   "cell_type": "markdown",
   "metadata": {},
   "source": [
    "## Упражнение № 20\n",
    "\n",
    "Преобразуйте строковое представление дат в `datetime64`.\n",
    "\n",
    "Пример входных данных:\n",
    "\n",
    "```python\n",
    "ser = pd.Series(['01 Jan 2010', '02-02-2011', '20120303', '2013/04/04', '2014-05-05', '2015-06-06T12:20'])\n",
    "```\n",
    "\n",
    "Пример выходных данных:\n",
    "\n",
    "```\n",
    "0   2010-01-01 00:00:00\n",
    "1   2011-02-02 00:00:00\n",
    "2   2012-03-03 00:00:00\n",
    "3   2013-04-04 00:00:00\n",
    "4   2014-05-05 00:00:00\n",
    "5   2015-06-06 12:20:00\n",
    "dtype: datetime64[ns]\n",
    "```"
   ]
  },
  {
   "cell_type": "code",
   "execution_count": 24,
   "metadata": {},
   "outputs": [
    {
     "name": "stdout",
     "output_type": "stream",
     "text": [
      "0   2010-01-01\n",
      "1          NaT\n",
      "2          NaT\n",
      "3          NaT\n",
      "4          NaT\n",
      "5          NaT\n",
      "dtype: datetime64[ns]\n"
     ]
    }
   ],
   "source": [
    "import pandas as pd\n",
    "\n",
    "# Определяем серию с датами в строковом формате\n",
    "ser = pd.Series(['01 Jan 2010', '02-02-2011', '20120303', '2013/04/04', '2014-05-05', '2015-06-06T12:20'])\n",
    "\n",
    "# Преобразуем строки в datetime64 с обработкой ошибок\n",
    "datetime_series = pd.to_datetime(ser, errors='coerce')\n",
    "\n",
    "# Выводим результаты\n",
    "print(datetime_series)\n"
   ]
  },
  {
   "cell_type": "markdown",
   "metadata": {},
   "source": [
    "## Упражнение № 21\n",
    "\n",
    "Получите из `ser` день месяца, номер недели, день года и день недели.\n",
    "\n",
    "Пример входных данных:\n",
    "\n",
    "```python\n",
    "ser = pd.Series(['01 Jan 2010', '02-02-2011', '20120303', '2013/04/04', '2014-05-05', '2015-06-06T12:20'])\n",
    "```\n",
    "\n",
    "Пример выходных данных:\n",
    "\n",
    "```\n",
    "Date:  [1, 2, 3, 4, 5, 6]\n",
    "Week number:  [53, 5, 9, 14, 19, 23]\n",
    "Day num of year:  [1, 33, 63, 94, 125, 157]\n",
    "Day of week:  ['Friday', 'Wednesday', 'Saturday', 'Thursday', 'Monday', 'Saturday']\n",
    "```"
   ]
  },
  {
   "cell_type": "code",
   "execution_count": 23,
   "metadata": {},
   "outputs": [
    {
     "name": "stdout",
     "output_type": "stream",
     "text": [
      "Date:  [1.0, nan, nan, nan, nan, nan]\n",
      "Week number:  [np.uint32(53), <NA>, <NA>, <NA>, <NA>, <NA>]\n",
      "Day num of year:  [1.0, nan, nan, nan, nan, nan]\n",
      "Day of week:  ['Friday', nan, nan, nan, nan, nan]\n"
     ]
    }
   ],
   "source": [
    "import pandas as pd\n",
    "\n",
    "# Определяем серию с датами в строковом формате\n",
    "ser = pd.Series(['01 Jan 2010', '02-02-2011', '20120303', '2013/04/04', '2014-05-05', '2015-06-06T12:20'])\n",
    "\n",
    "# Преобразуем строки в datetime64 с обработкой ошибок\n",
    "datetime_series = pd.to_datetime(ser, errors='coerce')\n",
    "\n",
    "# Извлекаем необходимые значения\n",
    "day_of_month = datetime_series.dt.day\n",
    "week_number = datetime_series.dt.isocalendar().week\n",
    "day_num_of_year = datetime_series.dt.dayofyear\n",
    "day_of_week = datetime_series.dt.day_name()\n",
    "\n",
    "# Выводим результаты\n",
    "print(\"Date: \", list(day_of_month))\n",
    "print(\"Week number: \", list(week_number))\n",
    "print(\"Day num of year: \", list(day_num_of_year))\n",
    "print(\"Day of week: \", list(day_of_week))\n"
   ]
  },
  {
   "cell_type": "markdown",
   "metadata": {},
   "source": [
    "## Упражнение № 21\n",
    "\n",
    "Получите из `ser` день месяца, номер недели, день года и день недели.\n",
    "\n",
    "Пример входных данных:\n",
    "\n",
    "```python\n",
    "ser = pd.Series(['01 Jan 2010', '02-02-2011', '20120303', '2013/04/04', '2014-05-05', '2015-06-06T12:20'])\n",
    "```\n",
    "\n",
    "Пример выходных данных:\n",
    "\n",
    "```\n",
    "Date:  [1, 2, 3, 4, 5, 6]\n",
    "Week number:  [53, 5, 9, 14, 19, 23]\n",
    "Day num of year:  [1, 33, 63, 94, 125, 157]\n",
    "Day of week:  ['Friday', 'Wednesday', 'Saturday', 'Thursday', 'Monday', 'Saturday']\n",
    "```"
   ]
  },
  {
   "cell_type": "code",
   "execution_count": 82,
   "metadata": {},
   "outputs": [
    {
     "name": "stdout",
     "output_type": "stream",
     "text": [
      "Date:  [1.0, nan, nan, nan, nan, nan]\n",
      "Week number:  [53, <NA>, <NA>, <NA>, <NA>, <NA>]\n",
      "Day num of year:  [1.0, nan, nan, nan, nan, nan]\n",
      "Day of week:  ['Friday', nan, nan, nan, nan, nan]\n"
     ]
    }
   ],
   "source": [
    "import pandas as pd\n",
    "\n",
    "# Исходные данные\n",
    "ser = pd.Series(['01 Jan 2010', '02-02-2011', '20120303', '2013/04/04', '2014-05-05', '2015-06-06T12:20'])\n",
    "\n",
    "# Преобразуем строки в datetime64, убираем infer_datetime_format\n",
    "datetime_series = pd.to_datetime(ser, errors='coerce')\n",
    "\n",
    "# Извлекаем необходимые значения\n",
    "day_of_month = datetime_series.dt.day.tolist()  # День месяца\n",
    "week_number = datetime_series.dt.isocalendar().week.tolist()  # Номер недели\n",
    "day_num_of_year = datetime_series.dt.dayofyear.tolist()  # День года\n",
    "day_of_week = datetime_series.dt.day_name().tolist()  # День недели\n",
    "\n",
    "# Выводим результаты\n",
    "print(\"Date: \", day_of_month)\n",
    "print(\"Week number: \", week_number)\n",
    "print(\"Day num of year: \", day_num_of_year)\n",
    "print(\"Day of week: \", day_of_week)\n"
   ]
  },
  {
   "cell_type": "markdown",
   "metadata": {},
   "source": [
    "## Упражнение № 22\n",
    "\n",
    "Замените элементы `ser` на даты, начинающиеся с 4-го числа соответствующего месяца.\n",
    "\n",
    "Пример входных данных:\n",
    "\n",
    "```python\n",
    "ser = pd.Series(['Jan 2010', 'Feb 2011', 'Mar 2012'])\n",
    "```\n",
    "\n",
    "Пример выходных данных:\n",
    "\n",
    "```\n",
    "0   2010-01-04\n",
    "1   2011-02-04\n",
    "2   2012-03-04\n",
    "dtype: datetime64[ns]\n",
    "```"
   ]
  },
  {
   "cell_type": "code",
   "execution_count": 27,
   "metadata": {},
   "outputs": [
    {
     "name": "stdout",
     "output_type": "stream",
     "text": [
      "0   2010-01-04\n",
      "1   2011-02-04\n",
      "2   2012-03-04\n",
      "dtype: datetime64[ns]\n"
     ]
    }
   ],
   "source": [
    "import pandas as pd\n",
    "\n",
    "# Создаем серию с месяцами и годами в строковом формате\n",
    "ser = pd.Series(['Jan 2010', 'Feb 2011', 'Mar 2012'])\n",
    "\n",
    "# Преобразуем строки в datetime, устанавливая день равным 4\n",
    "dates = pd.to_datetime(ser + ' 4', format='%b %Y %d')\n",
    "\n",
    "# Выводим результат\n",
    "print(dates)\n"
   ]
  },
  {
   "cell_type": "markdown",
   "metadata": {},
   "source": [
    "## Упражнение № 23\n",
    "\n",
    "Из `ser` извлеките слова, содержащие не менее 2 гласных букв.\n",
    "\n",
    "Пример входных данных:\n",
    "\n",
    "```python\n",
    "ser = pd.Series(['Apple', 'Orange', 'Plan', 'Python', 'Money'])\n",
    "```\n",
    "\n",
    "Пример выходных данных:\n",
    "\n",
    "```\n",
    "0     Apple\n",
    "1    Orange\n",
    "4     Money\n",
    "dtype: object\n",
    "```"
   ]
  },
  {
   "cell_type": "code",
   "execution_count": 28,
   "metadata": {},
   "outputs": [
    {
     "name": "stdout",
     "output_type": "stream",
     "text": [
      "0     Apple\n",
      "1    Orange\n",
      "4     Money\n",
      "dtype: object\n"
     ]
    }
   ],
   "source": [
    "import pandas as pd\n",
    "\n",
    "# Определяем серию\n",
    "ser = pd.Series(['Apple', 'Orange', 'Plan', 'Python', 'Money'])\n",
    "\n",
    "# Определяем регулярное выражение для поиска слов с 2 и более гласными\n",
    "vowel_pattern = r'[AEIOUaeiou].*[AEIOUaeiou]'\n",
    "\n",
    "# Извлекаем слова, соответствующие шаблону\n",
    "filtered_words = ser[ser.str.contains(vowel_pattern)]\n",
    "\n",
    "# Выводим результат\n",
    "print(filtered_words)\n"
   ]
  },
  {
   "cell_type": "markdown",
   "metadata": {},
   "source": [
    "## Упражнение № 24\n",
    "\n",
    "Извлеките корректные адреса электронной почты из ряда `emails`. Шаблон регулярного выражения для корректных адресов электронной почты приведен в качестве образца.\n",
    "\n",
    "Пример входных данных:\n",
    "\n",
    "```python\n",
    "emails = pd.Series(['buying books at amazom.com', 'rameses@egypt.com', 'matt@t.co', 'narendra@modi.com'])\n",
    "pattern ='[A-Za-z0-9._%+-]+@[A-Za-z0-9.-]+\\\\.[A-Za-z]{2,4}'\n",
    "```\n",
    "\n",
    "Пример выходных данных:\n",
    "\n",
    "```\n",
    "1    rameses@egypt.com\n",
    "2            matt@t.co\n",
    "3    narendra@modi.com\n",
    "dtype: object\n",
    "```"
   ]
  },
  {
   "cell_type": "code",
   "execution_count": 30,
   "metadata": {},
   "outputs": [
    {
     "name": "stdout",
     "output_type": "stream",
     "text": [
      "1    rameses@egypt.com\n",
      "2            matt@t.co\n",
      "3    narendra@modi.com\n",
      "Name: 0, dtype: object\n"
     ]
    }
   ],
   "source": [
    "import pandas as pd\n",
    "\n",
    "# Определяем серию с электронными адресами\n",
    "emails = pd.Series(['buying books at amazom.com', 'rameses@egypt.com', 'matt@t.co', 'narendra@modi.com'])\n",
    "\n",
    "# Шаблон регулярного выражения для корректных адресов электронной почты с группами\n",
    "pattern = r'([A-Za-z0-9._%+-]+@[A-Za-z0-9.-]+\\.[A-Za-z]{2,4})'\n",
    "\n",
    "# Извлекаем адреса электронной почты\n",
    "extracted_emails = emails.str.extract(pattern)\n",
    "\n",
    "# Убираем NaN значения и оставляем только корректные адреса\n",
    "valid_emails = extracted_emails.dropna()[0]\n",
    "\n",
    "# Выводим результат\n",
    "print(valid_emails)\n"
   ]
  },
  {
   "cell_type": "markdown",
   "metadata": {},
   "source": [
    "## Упражнение № 25\n",
    "\n",
    "Вычислить среднее значение веса в `weights` для каждого фрукта из `fruit`.\n",
    "\n",
    "Пример входных данных:\n",
    "\n",
    "```python\n",
    "fruit = pd.Series(np.random.choice(['apple', 'banana', 'carrot'], 10))\n",
    "weights = pd.Series(np.linspace(1, 10, 10))\n",
    "print(weight.tolist())\n",
    "print(fruit.tolist())\n",
    "#> [1.0, 2.0, 3.0, 4.0, 5.0, 6.0, 7.0, 8.0, 9.0, 10.0]\n",
    "#> ['banana', 'carrot', 'apple', 'carrot', 'carrot', 'apple', 'banana', 'carrot', 'apple', 'carrot']\n",
    "```\n",
    "\n",
    "Пример выходных данных:\n",
    "\n",
    "```python\n",
    "# values can change due to randomness\n",
    "apple     6.0\n",
    "banana    4.0\n",
    "carrot    5.8\n",
    "dtype: float64\n",
    "```"
   ]
  },
  {
   "cell_type": "code",
   "execution_count": 31,
   "metadata": {},
   "outputs": [
    {
     "name": "stdout",
     "output_type": "stream",
     "text": [
      "fruit\n",
      "apple     4.00\n",
      "banana    9.00\n",
      "carrot    5.25\n",
      "Name: weight, dtype: float64\n"
     ]
    }
   ],
   "source": [
    "import pandas as pd\n",
    "import numpy as np\n",
    "\n",
    "# Генерируем фрукты и веса\n",
    "fruit = pd.Series(np.random.choice(['apple', 'banana', 'carrot'], 10))\n",
    "weights = pd.Series(np.linspace(1, 10, 10))\n",
    "\n",
    "# Объединяем фрукты и веса в DataFrame\n",
    "data = pd.DataFrame({'fruit': fruit, 'weight': weights})\n",
    "\n",
    "# Вычисляем среднее значение веса для каждого фрукта\n",
    "average_weights = data.groupby('fruit')['weight'].mean()\n",
    "\n",
    "# Выводим результат\n",
    "print(average_weights)\n"
   ]
  },
  {
   "cell_type": "markdown",
   "metadata": {},
   "source": [
    "## Упражнение № 26\n",
    "\n",
    "Вычислить [евклидово расстояние](https://en.wikipedia.org/wiki/Euclidean_distance) между векторами $p$ и $q$, не используя встроенную формулу.\n",
    "\n",
    "Пример входных данных:\n",
    "\n",
    "```python\n",
    "p = pd.Series([1, 2, 3, 4, 5, 6, 7, 8, 9, 10])\n",
    "q = pd.Series([10, 9, 8, 7, 6, 5, 4, 3, 2, 1])\n",
    "```\n",
    "\n",
    "Пример выходных данных:\n",
    "\n",
    "```\n",
    "18.165\n",
    "```"
   ]
  },
  {
   "cell_type": "code",
   "execution_count": 32,
   "metadata": {},
   "outputs": [
    {
     "name": "stdout",
     "output_type": "stream",
     "text": [
      "18.166\n"
     ]
    }
   ],
   "source": [
    "import pandas as pd\n",
    "import numpy as np\n",
    "\n",
    "# Задаем векторы p и q\n",
    "p = pd.Series([1, 2, 3, 4, 5, 6, 7, 8, 9, 10])\n",
    "q = pd.Series([10, 9, 8, 7, 6, 5, 4, 3, 2, 1])\n",
    "\n",
    "# Вычисляем евклидово расстояние\n",
    "distance = np.sqrt(((p - q) ** 2).sum())\n",
    "\n",
    "# Выводим результат\n",
    "print(f\"{distance:.3f}\")\n"
   ]
  },
  {
   "cell_type": "markdown",
   "metadata": {},
   "source": [
    "## Упражнение № 27\n",
    "\n",
    "Получите позиции пиков (значений, окруженных с двух сторон меньшими значениями) в `ser`.\n",
    "\n",
    "Пример входных данных:\n",
    "\n",
    "```python\n",
    "ser = pd.Series([2, 10, 3, 4, 9, 10, 2, 7, 3])\n",
    "```\n",
    "\n",
    "Пример выходных данных:\n",
    "\n",
    "```\n",
    "array([1, 5, 7])\n",
    "```"
   ]
  },
  {
   "cell_type": "code",
   "execution_count": 33,
   "metadata": {},
   "outputs": [
    {
     "name": "stdout",
     "output_type": "stream",
     "text": [
      "[1 5 7]\n"
     ]
    }
   ],
   "source": [
    "import pandas as pd\n",
    "import numpy as np\n",
    "\n",
    "# Задаем серию\n",
    "ser = pd.Series([2, 10, 3, 4, 9, 10, 2, 7, 3])\n",
    "\n",
    "# Находим позиции пиков\n",
    "peaks = []\n",
    "for i in range(1, len(ser) - 1):\n",
    "    if ser[i] > ser[i - 1] and ser[i] > ser[i + 1]:\n",
    "        peaks.append(i)\n",
    "\n",
    "# Преобразуем список в массив и выводим результат\n",
    "peaks_array = np.array(peaks)\n",
    "print(peaks_array)\n"
   ]
  },
  {
   "cell_type": "markdown",
   "metadata": {},
   "source": [
    "## Упражнение № 28\n",
    "\n",
    "Замените пробелы в `my_str` на наименее часто встречающийся символ.\n",
    "\n",
    "Пример входных данных:\n",
    "\n",
    "```python\n",
    "my_str = 'dbc deb abed gade'\n",
    "```\n",
    "\n",
    "Пример выходных данных:\n",
    "\n",
    "```\n",
    "'dbccdebcabedcgade'  # least frequent is 'c'\n",
    "```"
   ]
  },
  {
   "cell_type": "code",
   "execution_count": 34,
   "metadata": {},
   "outputs": [
    {
     "name": "stdout",
     "output_type": "stream",
     "text": [
      "dbccdebcabedcgade\n"
     ]
    }
   ],
   "source": [
    "from collections import Counter\n",
    "\n",
    "# Задаем строку\n",
    "my_str = 'dbc deb abed gade'\n",
    "\n",
    "# Считаем частоту символов, игнорируя пробелы\n",
    "char_count = Counter(my_str.replace(' ', ''))\n",
    "\n",
    "# Находим наименее часто встречающийся символ\n",
    "least_frequent_char = min(char_count, key=char_count.get)\n",
    "\n",
    "# Заменяем пробелы на наименее часто встречающийся символ\n",
    "result_str = my_str.replace(' ', least_frequent_char)\n",
    "\n",
    "# Выводим результат\n",
    "print(result_str)\n"
   ]
  },
  {
   "cell_type": "markdown",
   "metadata": {},
   "source": [
    "## Упражнение № 29\n",
    "\n",
    "Создайте временной ряд, начинающийся с `2000-01-01`, содержащий 10 субботних дней после этого и имеющий в качестве значений случайные числа\n",
    "\n",
    "Пример выходных данных:\n",
    "\n",
    "```\n",
    "# values can be random\n",
    "2000-01-01    4\n",
    "2000-01-08    1\n",
    "2000-01-15    8\n",
    "2000-01-22    4\n",
    "2000-01-29    4\n",
    "2000-02-05    2\n",
    "2000-02-12    4\n",
    "2000-02-19    9\n",
    "2000-02-26    6\n",
    "2000-03-04    6\n",
    "```"
   ]
  },
  {
   "cell_type": "code",
   "execution_count": 35,
   "metadata": {},
   "outputs": [
    {
     "name": "stdout",
     "output_type": "stream",
     "text": [
      "2000-01-01    3\n",
      "2000-01-08    7\n",
      "2000-01-15    1\n",
      "2000-01-22    9\n",
      "2000-01-29    2\n",
      "2000-02-05    8\n",
      "2000-02-12    6\n",
      "2000-02-19    7\n",
      "2000-02-26    9\n",
      "2000-03-04    8\n",
      "Freq: W-SAT, dtype: int32\n"
     ]
    }
   ],
   "source": [
    "import pandas as pd\n",
    "import numpy as np\n",
    "\n",
    "# Устанавливаем начальную дату\n",
    "start_date = '2000-01-01'\n",
    "\n",
    "# Генерируем 10 субботних дней начиная с начальной даты\n",
    "date_rng = pd.date_range(start=start_date, periods=10, freq='W-SAT')\n",
    "\n",
    "# Генерируем случайные значения\n",
    "values = np.random.randint(1, 10, size=len(date_rng))  # значения от 1 до 9\n",
    "\n",
    "# Создаем временной ряд\n",
    "time_series = pd.Series(data=values, index=date_rng)\n",
    "\n",
    "# Выводим временной ряд\n",
    "print(time_series)\n"
   ]
  },
  {
   "cell_type": "markdown",
   "metadata": {},
   "source": [
    "## Упражнение № 30\n",
    "\n",
    "В `ser` отсутствуют некоторые даты и значения. Сделайте так, чтобы все отсутствующие даты появились и заполнились значением из предыдущей даты.\n",
    "\n",
    "Пример входных данных:\n",
    "\n",
    "```python\n",
    "ser = pd.Series([1,10,3,np.nan], index=pd.to_datetime(['2000-01-01', '2000-01-03', '2000-01-06', '2000-01-08']))\n",
    "print(ser)\n",
    "#> 2000-01-01     1.0\n",
    "#> 2000-01-03    10.0\n",
    "#> 2000-01-06     3.0\n",
    "#> 2000-01-08     NaN\n",
    "#> dtype: float64\n",
    "```\n",
    "\n",
    "Пример выходных данных:\n",
    "\n",
    "```\n",
    "2000-01-01     1.0\n",
    "2000-01-02     1.0\n",
    "2000-01-03    10.0\n",
    "2000-01-04    10.0\n",
    "2000-01-05    10.0\n",
    "2000-01-06     3.0\n",
    "2000-01-07     3.0\n",
    "2000-01-08     NaN\n",
    "```"
   ]
  },
  {
   "cell_type": "code",
   "execution_count": 36,
   "metadata": {},
   "outputs": [
    {
     "name": "stdout",
     "output_type": "stream",
     "text": [
      "Original Series:\n",
      "2000-01-01     1.0\n",
      "2000-01-03    10.0\n",
      "2000-01-06     3.0\n",
      "2000-01-08     NaN\n",
      "dtype: float64\n",
      "\n",
      "Filled Series:\n",
      "2000-01-01     1.0\n",
      "2000-01-02     1.0\n",
      "2000-01-03    10.0\n",
      "2000-01-04    10.0\n",
      "2000-01-05    10.0\n",
      "2000-01-06     3.0\n",
      "2000-01-07     3.0\n",
      "2000-01-08     3.0\n",
      "Freq: D, dtype: float64\n"
     ]
    },
    {
     "name": "stderr",
     "output_type": "stream",
     "text": [
      "C:\\Users\\Диана Долганова\\AppData\\Local\\Temp\\ipykernel_4472\\2834950698.py:16: FutureWarning: Series.fillna with 'method' is deprecated and will raise in a future version. Use obj.ffill() or obj.bfill() instead.\n",
      "  ser_filled = ser_full.fillna(method='ffill')\n"
     ]
    }
   ],
   "source": [
    "import pandas as pd\n",
    "import numpy as np\n",
    "\n",
    "# Создаем серию с данными\n",
    "ser = pd.Series([1, 10, 3, np.nan], index=pd.to_datetime(['2000-01-01', '2000-01-03', '2000-01-06', '2000-01-08']))\n",
    "print(\"Original Series:\")\n",
    "print(ser)\n",
    "\n",
    "# Создаем полный диапазон дат от минимальной до максимальной даты в серии\n",
    "full_range = pd.date_range(start=ser.index.min(), end=ser.index.max())\n",
    "\n",
    "# Перемещаем серию по полному диапазону дат\n",
    "ser_full = ser.reindex(full_range)\n",
    "\n",
    "# Заполняем пропущенные значения предыдущими\n",
    "ser_filled = ser_full.fillna(method='ffill')\n",
    "\n",
    "# Выводим результат\n",
    "print(\"\\nFilled Series:\")\n",
    "print(ser_filled)\n"
   ]
  },
  {
   "cell_type": "markdown",
   "metadata": {},
   "source": [
    "## Упражнение № 31\n",
    "\n",
    "Вычислите автокорреляции для первых 10 лагов `ser`. Определите, какой из лагов имеет наибольшую корреляцию. (см. также [Модель авторегрессии и распределённого лага — Википедия](https://ru.wikipedia.org/wiki/%D0%9C%D0%BE%D0%B4%D0%B5%D0%BB%D1%8C_%D0%B0%D0%B2%D1%82%D0%BE%D1%80%D0%B5%D0%B3%D1%80%D0%B5%D1%81%D1%81%D0%B8%D0%B8_%D0%B8_%D1%80%D0%B0%D1%81%D0%BF%D1%80%D0%B5%D0%B4%D0%B5%D0%BB%D1%91%D0%BD%D0%BD%D0%BE%D0%B3%D0%BE_%D0%BB%D0%B0%D0%B3%D0%B0))\n",
    "\n",
    "Пример входных данных:\n",
    "\n",
    "```python\n",
    "ser = pd.Series(np.arange(20) + np.random.normal(1, 10, 20))\n",
    "```\n",
    "\n",
    "Пример выходных данных:\n",
    "\n",
    "```\n",
    "# values will change due to randomness\n",
    "[0.29999999999999999, -0.11, -0.17000000000000001, 0.46000000000000002, 0.28000000000000003, -0.040000000000000001, -0.37, 0.41999999999999998, 0.47999999999999998, 0.17999999999999999]\n",
    "Lag having highest correlation:  9\n",
    "```"
   ]
  },
  {
   "cell_type": "code",
   "execution_count": 37,
   "metadata": {},
   "outputs": [
    {
     "name": "stdout",
     "output_type": "stream",
     "text": [
      "Autocorrelations for the first 10 lags:\n",
      "[np.float64(-0.03581945085095045), np.float64(-0.3554658547577508), np.float64(0.2435387274242055), np.float64(-0.22886231778550958), np.float64(-0.0610049216621662), np.float64(0.10261951291041886), np.float64(-0.5934975070400584), np.float64(-0.12621105571001182), np.float64(0.32558148560211725), np.float64(-0.027390597912749007)]\n",
      "Lag having highest correlation: 9 (Correlation: 0.32558148560211725)\n"
     ]
    }
   ],
   "source": [
    "import pandas as pd\n",
    "import numpy as np\n",
    "\n",
    "# Создаем серию с случайными данными\n",
    "np.random.seed(42)  # Для воспроизводимости\n",
    "ser = pd.Series(np.arange(20) + np.random.normal(1, 10, 20))\n",
    "\n",
    "# Вычисляем автокорреляции для первых 10 лагов\n",
    "autocorrelations = [ser.autocorr(lag) for lag in range(1, 11)]\n",
    "\n",
    "# Находим лаг с наибольшей корреляцией\n",
    "max_lag = np.argmax(autocorrelations) + 1  # +1, так как индексы начинаются с 0\n",
    "max_correlation = autocorrelations[max_lag - 1]  # Получаем значение корреляции\n",
    "\n",
    "# Выводим результаты\n",
    "print(\"Autocorrelations for the first 10 lags:\")\n",
    "print(autocorrelations)\n",
    "print(f\"Lag having highest correlation: {max_lag} (Correlation: {max_correlation})\")\n"
   ]
  },
  {
   "cell_type": "markdown",
   "metadata": {},
   "source": [
    "## Упражнение № 32\n",
    "\n",
    "Импортируйте каждую 50-ю строку набора данных [BostonHousing dataset](https://raw.githubusercontent.com/selva86/datasets/master/BostonHousing.csv) в виде датафрейма."
   ]
  },
  {
   "cell_type": "code",
   "execution_count": 38,
   "metadata": {},
   "outputs": [
    {
     "name": "stdout",
     "output_type": "stream",
     "text": [
      "         crim    zn  indus  chas    nox     rm    age     dis  rad  tax  \\\n",
      "0     0.00632  18.0   2.31     0  0.538  6.575   65.2  4.0900    1  296   \n",
      "50    0.08873  21.0   5.64     0  0.439  5.963   45.7  6.8147    4  243   \n",
      "100   0.14866   0.0   8.56     0  0.520  6.727   79.9  2.7778    5  384   \n",
      "150   1.65660   0.0  19.58     0  0.871  6.122   97.3  1.6180    5  403   \n",
      "200   0.01778  95.0   1.47     0  0.403  7.135   13.9  7.6534    3  402   \n",
      "250   0.14030  22.0   5.86     0  0.431  6.487   13.0  7.3967    7  330   \n",
      "300   0.04417  70.0   2.24     0  0.400  6.871   47.4  7.8278    5  358   \n",
      "350   0.06211  40.0   1.25     0  0.429  6.490   44.4  8.7921    1  335   \n",
      "400  25.04610   0.0  18.10     0  0.693  5.987  100.0  1.5888   24  666   \n",
      "450   6.71772   0.0  18.10     0  0.713  6.749   92.6  2.3236   24  666   \n",
      "500   0.22438   0.0   9.69     0  0.585  6.027   79.7  2.4982    6  391   \n",
      "\n",
      "     ptratio       b  lstat  medv  \n",
      "0       15.3  396.90   4.98  24.0  \n",
      "50      16.8  395.56  13.45  19.7  \n",
      "100     20.9  394.76   9.42  27.5  \n",
      "150     14.7  372.80  14.10  21.5  \n",
      "200     17.0  384.30   4.45  32.9  \n",
      "250     19.1  396.28   5.90  24.4  \n",
      "300     14.8  390.86   6.07  24.8  \n",
      "350     19.7  396.90   5.98  22.9  \n",
      "400     20.2  396.90  26.77   5.6  \n",
      "450     20.2    0.32  17.44  13.4  \n",
      "500     19.2  396.90  14.33  16.8  \n"
     ]
    }
   ],
   "source": [
    "import pandas as pd\n",
    "\n",
    "# Загрузка данных\n",
    "url = \"https://raw.githubusercontent.com/selva86/datasets/master/BostonHousing.csv\"\n",
    "data = pd.read_csv(url)\n",
    "\n",
    "# Выбор каждой 50-й строки\n",
    "data_every_50th = data.iloc[::50]\n",
    "\n",
    "# Выводим результат\n",
    "print(data_every_50th)\n"
   ]
  },
  {
   "cell_type": "markdown",
   "metadata": {},
   "source": [
    "## Упражнение № 33\n",
    "\n",
    "Импортируйте набор данных [boston housing dataset](https://raw.githubusercontent.com/selva86/datasets/master/BostonHousing.csv), но при импорте измените столбец `'medv'` (*median house value*) так, чтобы значения < 25 стали `Low`, а > 25 - `High`."
   ]
  },
  {
   "cell_type": "code",
   "execution_count": 39,
   "metadata": {},
   "outputs": [
    {
     "name": "stdout",
     "output_type": "stream",
     "text": [
      "      crim    zn  indus  chas    nox     rm   age     dis  rad  tax  ptratio  \\\n",
      "0  0.00632  18.0   2.31     0  0.538  6.575  65.2  4.0900    1  296     15.3   \n",
      "1  0.02731   0.0   7.07     0  0.469  6.421  78.9  4.9671    2  242     17.8   \n",
      "2  0.02729   0.0   7.07     0  0.469  7.185  61.1  4.9671    2  242     17.8   \n",
      "3  0.03237   0.0   2.18     0  0.458  6.998  45.8  6.0622    3  222     18.7   \n",
      "4  0.06905   0.0   2.18     0  0.458  7.147  54.2  6.0622    3  222     18.7   \n",
      "\n",
      "        b  lstat  medv  \n",
      "0  396.90   4.98   Low  \n",
      "1  396.90   9.14   Low  \n",
      "2  392.83   4.03  High  \n",
      "3  394.63   2.94  High  \n",
      "4  396.90   5.33  High  \n"
     ]
    }
   ],
   "source": [
    "import pandas as pd\n",
    "\n",
    "# Загрузка данных\n",
    "url = \"https://raw.githubusercontent.com/selva86/datasets/master/BostonHousing.csv\"\n",
    "data = pd.read_csv(url)\n",
    "\n",
    "# Замена значений в столбце 'medv'\n",
    "data['medv'] = data['medv'].apply(lambda x: 'Low' if x < 25 else 'High')\n",
    "\n",
    "# Выводим результат\n",
    "print(data.head())  # Показываем первые несколько строк для проверки\n"
   ]
  },
  {
   "cell_type": "markdown",
   "metadata": {},
   "source": [
    "## Упражнение № 34\n",
    "\n",
    "Создайте датафрейм со строками в виде шагов (интервалов) заданного ряда\n",
    "\n",
    "Пример входных данных:\n",
    "\n",
    "```python\n",
    "L = pd.Series(range(15))\n",
    "```\n",
    "\n",
    "Пример выходных данных:\n",
    "\n",
    "```\n",
    "array([[ 0,  1,  2,  3],\n",
    "       [ 2,  3,  4,  5],\n",
    "       [ 4,  5,  6,  7],\n",
    "       [ 6,  7,  8,  9],\n",
    "       [ 8,  9, 10, 11],\n",
    "       [10, 11, 12, 13]])\n",
    "```\n"
   ]
  },
  {
   "cell_type": "code",
   "execution_count": 40,
   "metadata": {},
   "outputs": [
    {
     "name": "stdout",
     "output_type": "stream",
     "text": [
      "    0   1   2   3\n",
      "0   0   1   2   3\n",
      "1   2   3   4   5\n",
      "2   4   5   6   7\n",
      "3   6   7   8   9\n",
      "4   8   9  10  11\n",
      "5  10  11  12  13\n"
     ]
    }
   ],
   "source": [
    "import pandas as pd\n",
    "\n",
    "# Исходные данные\n",
    "L = pd.Series(range(15))\n",
    "\n",
    "# Создание датафрейма со строками в виде шагов\n",
    "step_size = 2  # Размер шага\n",
    "window_size = 4  # Размер окна\n",
    "data = [L[i:i + window_size].values for i in range(0, len(L) - window_size + 1, step_size)]\n",
    "\n",
    "# Создаем датафрейм\n",
    "df = pd.DataFrame(data)\n",
    "\n",
    "# Выводим результат\n",
    "print(df)\n"
   ]
  },
  {
   "cell_type": "markdown",
   "metadata": {},
   "source": [
    "## Упражнение № 35\n",
    "\n",
    "Импортируйте столбцы 'crim' и 'medv' из набора данных [BostonHousing dataset](https://raw.githubusercontent.com/selva86/datasets/master/BostonHousing.csv) в виде датафрейма.\n"
   ]
  },
  {
   "cell_type": "code",
   "execution_count": 41,
   "metadata": {},
   "outputs": [
    {
     "name": "stdout",
     "output_type": "stream",
     "text": [
      "      crim  medv\n",
      "0  0.00632  24.0\n",
      "1  0.02731  21.6\n",
      "2  0.02729  34.7\n",
      "3  0.03237  33.4\n",
      "4  0.06905  36.2\n"
     ]
    }
   ],
   "source": [
    "import pandas as pd\n",
    "\n",
    "# Загрузка данных\n",
    "url = \"https://raw.githubusercontent.com/selva86/datasets/master/BostonHousing.csv\"\n",
    "data = pd.read_csv(url, usecols=['crim', 'medv'])\n",
    "\n",
    "# Выводим результат\n",
    "print(data.head())  # Показываем первые несколько строк для проверки\n"
   ]
  },
  {
   "cell_type": "markdown",
   "metadata": {},
   "source": [
    "## Упражнение № 36\n",
    "\n",
    "Получите количество строк, столбцов, тип данных и суммарную статистику каждого столбца набора данных [Cars93](https://raw.githubusercontent.com/selva86/datasets/master/Cars93_miss.csv). Также получите эквивалент датафрейма в виде numpy-массива и списка.\n"
   ]
  },
  {
   "cell_type": "code",
   "execution_count": 42,
   "metadata": {},
   "outputs": [
    {
     "name": "stdout",
     "output_type": "stream",
     "text": [
      "Количество строк: 93, Количество столбцов: 27\n",
      "\n",
      "Типы данных каждого столбца:\n",
      " Manufacturer           object\n",
      "Model                  object\n",
      "Type                   object\n",
      "Min.Price             float64\n",
      "Price                 float64\n",
      "Max.Price             float64\n",
      "MPG.city              float64\n",
      "MPG.highway           float64\n",
      "AirBags                object\n",
      "DriveTrain             object\n",
      "Cylinders              object\n",
      "EngineSize            float64\n",
      "Horsepower            float64\n",
      "RPM                   float64\n",
      "Rev.per.mile          float64\n",
      "Man.trans.avail        object\n",
      "Fuel.tank.capacity    float64\n",
      "Passengers            float64\n",
      "Length                float64\n",
      "Wheelbase             float64\n",
      "Width                 float64\n",
      "Turn.circle           float64\n",
      "Rear.seat.room        float64\n",
      "Luggage.room          float64\n",
      "Weight                float64\n",
      "Origin                 object\n",
      "Make                   object\n",
      "dtype: object\n",
      "\n",
      "Суммарная статистика каждого столбца:\n",
      "        Manufacturer    Model     Type  Min.Price      Price  Max.Price  \\\n",
      "count            89       92       90  86.000000  91.000000  88.000000   \n",
      "unique           31       92        6        NaN        NaN        NaN   \n",
      "top       Chevrolet  Integra  Midsize        NaN        NaN        NaN   \n",
      "freq              8        1       22        NaN        NaN        NaN   \n",
      "mean            NaN      NaN      NaN  17.118605  19.616484  21.459091   \n",
      "std             NaN      NaN      NaN   8.828290   9.724280  10.696563   \n",
      "min             NaN      NaN      NaN   6.700000   7.400000   7.900000   \n",
      "25%             NaN      NaN      NaN  10.825000  12.350000  14.575000   \n",
      "50%             NaN      NaN      NaN  14.600000  17.700000  19.150000   \n",
      "75%             NaN      NaN      NaN  20.250000  23.500000  24.825000   \n",
      "max             NaN      NaN      NaN  45.400000  61.900000  80.000000   \n",
      "\n",
      "         MPG.city  MPG.highway      AirBags DriveTrain  ... Passengers  \\\n",
      "count   84.000000    91.000000           55         86  ...  91.000000   \n",
      "unique        NaN          NaN            2          3  ...        NaN   \n",
      "top           NaN          NaN  Driver only      Front  ...        NaN   \n",
      "freq          NaN          NaN           39         61  ...        NaN   \n",
      "mean    22.404762    29.065934          NaN        NaN  ...   5.076923   \n",
      "std      5.841520     5.370293          NaN        NaN  ...   1.045953   \n",
      "min     15.000000    20.000000          NaN        NaN  ...   2.000000   \n",
      "25%     18.000000    26.000000          NaN        NaN  ...   4.000000   \n",
      "50%     21.000000    28.000000          NaN        NaN  ...   5.000000   \n",
      "75%     25.000000    31.000000          NaN        NaN  ...   6.000000   \n",
      "max     46.000000    50.000000          NaN        NaN  ...   8.000000   \n",
      "\n",
      "            Length   Wheelbase      Width  Turn.circle Rear.seat.room  \\\n",
      "count    89.000000   92.000000  87.000000    88.000000      89.000000   \n",
      "unique         NaN         NaN        NaN          NaN            NaN   \n",
      "top            NaN         NaN        NaN          NaN            NaN   \n",
      "freq           NaN         NaN        NaN          NaN            NaN   \n",
      "mean    182.865169  103.956522  69.448276    38.954545      27.853933   \n",
      "std      14.792651    6.856317   3.778023     3.304157       3.018129   \n",
      "min     141.000000   90.000000  60.000000    32.000000      19.000000   \n",
      "25%     174.000000   98.000000  67.000000    36.000000      26.000000   \n",
      "50%     181.000000  103.000000  69.000000    39.000000      27.500000   \n",
      "75%     192.000000  110.000000  72.000000    42.000000      30.000000   \n",
      "max     219.000000  119.000000  78.000000    45.000000      36.000000   \n",
      "\n",
      "        Luggage.room       Weight  Origin           Make  \n",
      "count      74.000000    86.000000      88             90  \n",
      "unique           NaN          NaN       2             90  \n",
      "top              NaN          NaN     USA  Acura Integra  \n",
      "freq             NaN          NaN      46              1  \n",
      "mean       13.986486  3104.593023     NaN            NaN  \n",
      "std         3.120824   600.129993     NaN            NaN  \n",
      "min         6.000000  1695.000000     NaN            NaN  \n",
      "25%        12.000000  2647.500000     NaN            NaN  \n",
      "50%        14.000000  3085.000000     NaN            NaN  \n",
      "75%        16.000000  3567.500000     NaN            NaN  \n",
      "max        22.000000  4105.000000     NaN            NaN  \n",
      "\n",
      "[11 rows x 27 columns]\n",
      "\n",
      "Numpy массив:\n",
      " [['Acura' 'Integra' 'Small' ... 2705.0 'non-USA' 'Acura Integra']\n",
      " [nan 'Legend' 'Midsize' ... 3560.0 'non-USA' 'Acura Legend']\n",
      " ['Audi' '90' 'Compact' ... 3375.0 'non-USA' 'Audi 90']\n",
      " ...\n",
      " ['Volkswagen' 'Corrado' 'Sporty' ... 2810.0 'non-USA'\n",
      "  'Volkswagen Corrado']\n",
      " ['Volvo' '240' 'Compact' ... 2985.0 'non-USA' 'Volvo 240']\n",
      " [nan '850' 'Midsize' ... 3245.0 'non-USA' 'Volvo 850']]\n",
      "\n",
      "Список:\n",
      " [['Acura', 'Integra', 'Small', 12.9, 15.9, 18.8, 25.0, 31.0, nan, 'Front', '4', 1.8, 140.0, 6300.0, 2890.0, 'Yes', 13.2, 5.0, 177.0, 102.0, 68.0, 37.0, 26.5, nan, 2705.0, 'non-USA', 'Acura Integra'], [nan, 'Legend', 'Midsize', 29.2, 33.9, 38.7, 18.0, 25.0, 'Driver & Passenger', 'Front', '6', 3.2, 200.0, 5500.0, 2335.0, 'Yes', 18.0, 5.0, 195.0, 115.0, 71.0, 38.0, 30.0, 15.0, 3560.0, 'non-USA', 'Acura Legend'], ['Audi', '90', 'Compact', 25.9, 29.1, 32.3, 20.0, 26.0, 'Driver only', 'Front', '6', 2.8, 172.0, 5500.0, 2280.0, 'Yes', 16.9, 5.0, 180.0, 102.0, 67.0, 37.0, 28.0, 14.0, 3375.0, 'non-USA', 'Audi 90'], ['Audi', '100', 'Midsize', nan, 37.7, 44.6, 19.0, 26.0, 'Driver & Passenger', nan, '6', nan, 172.0, 5500.0, 2535.0, nan, 21.1, 6.0, 193.0, 106.0, nan, 37.0, 31.0, 17.0, 3405.0, 'non-USA', 'Audi 100'], ['BMW', '535i', 'Midsize', nan, 30.0, nan, 22.0, 30.0, nan, 'Rear', '4', 3.5, 208.0, 5700.0, 2545.0, 'Yes', 21.1, 4.0, 186.0, 109.0, 69.0, 39.0, 27.0, 13.0, 3640.0, 'non-USA', 'BMW 535i'], ['Buick', 'Century', 'Midsize', 14.2, 15.7, 17.3, 22.0, 31.0, 'Driver only', nan, '4', 2.2, 110.0, 5200.0, 2565.0, 'No', 16.4, 6.0, 189.0, 105.0, 69.0, 41.0, 28.0, 16.0, nan, 'USA', 'Buick Century'], ['Buick', 'LeSabre', 'Large', 19.9, 20.8, nan, 19.0, 28.0, 'Driver only', 'Front', '6', 3.8, 170.0, 4800.0, nan, 'No', nan, 6.0, 200.0, 111.0, 74.0, 42.0, 30.5, 17.0, 3470.0, 'USA', 'Buick LeSabre'], ['Buick', 'Roadmaster', 'Large', 22.6, 23.7, 24.9, 16.0, 25.0, 'Driver only', 'Rear', '6', 5.7, 180.0, 4000.0, 1320.0, 'No', 23.0, 6.0, 216.0, 116.0, 78.0, 45.0, 30.5, 21.0, 4105.0, 'USA', 'Buick Roadmaster'], ['Buick', 'Riviera', 'Midsize', 26.3, 26.3, 26.3, 19.0, 27.0, 'Driver only', 'Front', '6', 3.8, 170.0, 4800.0, 1690.0, 'No', 18.8, 5.0, 198.0, 108.0, nan, 41.0, 26.5, 14.0, 3495.0, 'USA', 'Buick Riviera'], ['Cadillac', 'DeVille', 'Large', 33.0, 34.7, 36.3, 16.0, 25.0, 'Driver only', 'Front', '8', 4.9, 200.0, 4100.0, nan, 'No', 18.0, 6.0, 206.0, 114.0, 73.0, 43.0, 35.0, 18.0, 3620.0, 'USA', 'Cadillac DeVille'], ['Cadillac', 'Seville', 'Midsize', 37.5, 40.1, 42.7, 16.0, 25.0, 'Driver & Passenger', 'Front', '8', 4.6, 295.0, 6000.0, 1985.0, 'No', 20.0, 5.0, 204.0, 111.0, 74.0, 44.0, 31.0, nan, 3935.0, 'USA', 'Cadillac Seville'], ['Chevrolet', 'Cavalier', 'Compact', 8.5, 13.4, 18.3, 25.0, 36.0, nan, nan, '4', 2.2, nan, 5200.0, 2380.0, 'Yes', 15.2, 5.0, 182.0, 101.0, 66.0, 38.0, 25.0, 13.0, 2490.0, 'USA', 'Chevrolet Cavalier'], ['Chevrolet', 'Corsica', 'Compact', 11.4, 11.4, 11.4, 25.0, 34.0, 'Driver only', 'Front', nan, 2.2, 110.0, 5200.0, 2665.0, 'Yes', 15.6, 5.0, 184.0, 103.0, 68.0, 39.0, 26.0, nan, 2785.0, 'USA', 'Chevrolet Corsica'], ['Chevrolet', 'Camaro', 'Sporty', 13.4, 15.1, 16.8, 19.0, 28.0, 'Driver & Passenger', 'Rear', nan, 3.4, 160.0, 4600.0, 1805.0, 'Yes', nan, 4.0, 193.0, 101.0, 74.0, 43.0, 25.0, 13.0, 3240.0, 'USA', 'Chevrolet Camaro'], ['Chevrolet', 'Lumina', 'Midsize', 13.4, 15.9, 18.4, nan, 29.0, nan, 'Front', '4', 2.2, nan, 5200.0, 2595.0, 'No', 16.5, 6.0, nan, 108.0, 71.0, nan, 28.5, 16.0, 3195.0, 'USA', 'Chevrolet Lumina'], ['Chevrolet', 'Lumina_APV', 'Van', 14.7, 16.3, 18.0, 18.0, 23.0, nan, 'Front', '6', 3.8, 170.0, 4800.0, 1690.0, 'No', 20.0, 7.0, 178.0, 110.0, 74.0, 44.0, 30.5, nan, 3715.0, 'USA', 'Chevrolet Lumina_APV'], ['Chevrolet', 'Astro', 'Van', 14.7, 16.6, 18.6, 15.0, 20.0, nan, '4WD', '6', 4.3, nan, 4000.0, 1790.0, 'No', 27.0, 8.0, 194.0, 111.0, 78.0, 42.0, 33.5, nan, 4025.0, 'USA', 'Chevrolet Astro'], ['Chevrolet', 'Caprice', 'Large', 18.0, 18.8, 19.6, 17.0, 26.0, 'Driver only', 'Rear', '8', 5.0, 170.0, 4200.0, 1350.0, 'No', 23.0, 6.0, 214.0, 116.0, 77.0, 42.0, 29.5, 20.0, 3910.0, 'USA', 'Chevrolet Caprice'], ['Chevrolet', 'Corvette', 'Sporty', 34.6, 38.0, 41.5, 17.0, 25.0, 'Driver only', 'Rear', '8', 5.7, 300.0, 5000.0, 1450.0, 'Yes', 20.0, 2.0, 179.0, 96.0, 74.0, 43.0, nan, nan, 3380.0, nan, 'Chevrolet Corvette'], [nan, 'Concorde', 'Large', 18.4, 18.4, 18.4, 20.0, 28.0, 'Driver & Passenger', 'Front', '6', 3.3, 153.0, 5300.0, 1990.0, 'No', 18.0, 6.0, 203.0, 113.0, 74.0, nan, 31.0, 15.0, 3515.0, 'USA', 'Chrylser Concorde'], ['Chrysler', 'LeBaron', 'Compact', 14.5, 15.8, 17.1, 23.0, 28.0, 'Driver & Passenger', 'Front', '4', 3.0, 141.0, 5000.0, 2090.0, 'No', 16.0, 6.0, 183.0, 104.0, 68.0, 41.0, 30.5, 14.0, 3085.0, 'USA', 'Chrysler LeBaron'], ['Chrysler', 'Imperial', 'Large', 29.5, 29.5, 29.5, 20.0, 26.0, 'Driver only', 'Front', '6', 3.3, 147.0, 4800.0, 1785.0, 'No', 16.0, 6.0, 203.0, 110.0, 69.0, 44.0, 36.0, 17.0, 3570.0, 'USA', 'Chrysler Imperial'], ['Dodge', 'Colt', 'Small', 7.9, 9.2, 10.6, 29.0, 33.0, nan, 'Front', '4', 1.5, 92.0, 6000.0, 3285.0, 'Yes', nan, 5.0, 174.0, 98.0, 66.0, 32.0, nan, 11.0, 2270.0, 'USA', 'Dodge Colt'], ['Dodge', 'Shadow', 'Small', 8.4, 11.3, 14.2, 23.0, 29.0, 'Driver only', 'Front', '4', 2.2, 93.0, 4800.0, nan, 'Yes', 14.0, 5.0, 172.0, 97.0, 67.0, 38.0, 26.5, nan, 2670.0, 'USA', 'Dodge Shadow'], ['Dodge', 'Spirit', 'Compact', 11.9, 13.3, 14.7, 22.0, 27.0, 'Driver only', 'Front', '4', 2.5, 100.0, 4800.0, 2535.0, 'Yes', nan, 6.0, 181.0, 104.0, 68.0, 39.0, 30.5, nan, 2970.0, 'USA', 'Dodge Spirit'], ['Dodge', 'Caravan', 'Van', nan, 19.0, 24.4, 17.0, 21.0, 'Driver only', '4WD', '6', 3.0, 142.0, 5000.0, 1970.0, 'No', 20.0, 7.0, 175.0, 112.0, 72.0, 42.0, 26.5, nan, 3705.0, 'USA', 'Dodge Caravan'], ['Dodge', 'Dynasty', 'Midsize', 14.8, 15.6, 16.4, 21.0, nan, 'Driver only', 'Front', nan, 2.5, 100.0, 4800.0, 2465.0, 'No', 16.0, 6.0, 192.0, 105.0, 69.0, 42.0, 30.5, 16.0, 3080.0, 'USA', 'Dodge Dynasty'], ['Dodge', 'Stealth', 'Sporty', 18.5, 25.8, 33.1, nan, 24.0, 'Driver only', '4WD', '6', 3.0, 300.0, 6000.0, 2120.0, 'Yes', 19.8, 4.0, 180.0, 97.0, nan, 40.0, 20.0, 11.0, 3805.0, 'USA', 'Dodge Stealth'], ['Eagle', 'Summit', 'Small', 7.9, 12.2, 16.5, 29.0, 33.0, nan, 'Front', '4', 1.5, 92.0, 6000.0, 2505.0, 'Yes', 13.2, 5.0, 174.0, 98.0, 66.0, 36.0, 26.5, 11.0, 2295.0, 'USA', 'Eagle Summit'], ['Eagle', 'Vision', 'Large', nan, 19.3, 21.2, 20.0, 28.0, 'Driver & Passenger', 'Front', '6', 3.5, nan, 5800.0, 1980.0, 'No', 18.0, 6.0, 202.0, 113.0, 74.0, 40.0, 30.0, 15.0, 3490.0, 'USA', 'Eagle Vision'], ['Ford', 'Festiva', 'Small', 6.9, 7.4, 7.9, 31.0, 33.0, nan, 'Front', '4', 1.3, 63.0, 5000.0, 3150.0, 'Yes', 10.0, 4.0, 141.0, 90.0, 63.0, 33.0, 26.0, 12.0, 1845.0, 'USA', 'Ford Festiva'], ['Ford', 'Escort', 'Small', 8.4, 10.1, 11.9, 23.0, 30.0, nan, 'Front', '4', 1.8, 127.0, 6500.0, 2410.0, nan, 13.2, 5.0, 171.0, 98.0, 67.0, 36.0, 28.0, 12.0, 2530.0, 'USA', 'Ford Escort'], ['Ford', 'Tempo', 'Compact', 10.4, 11.3, 12.2, 22.0, 27.0, nan, 'Front', '4', 2.3, 96.0, 4200.0, 2805.0, 'Yes', 15.9, 5.0, 177.0, 100.0, 68.0, nan, 27.5, 13.0, nan, 'USA', nan], ['Ford', 'Mustang', 'Sporty', 10.8, 15.9, 21.0, 22.0, 29.0, 'Driver only', 'Rear', '4', 2.3, 105.0, 4600.0, 2285.0, 'Yes', 15.4, 4.0, 180.0, 101.0, 68.0, 40.0, 24.0, 12.0, nan, 'USA', 'Ford Mustang'], ['Ford', 'Probe', 'Sporty', 12.8, 14.0, 15.2, nan, 30.0, 'Driver only', 'Front', '4', 2.0, 115.0, 5500.0, 2340.0, 'Yes', 15.5, 4.0, 179.0, 103.0, 70.0, 38.0, 23.0, 18.0, 2710.0, 'USA', 'Ford Probe'], ['Ford', 'Aerostar', 'Van', 14.5, 19.9, 25.3, 15.0, 20.0, 'Driver only', '4WD', '6', 3.0, 145.0, 4800.0, 2080.0, 'Yes', 21.0, 7.0, 176.0, 119.0, 72.0, 45.0, 30.0, nan, 3735.0, 'USA', 'Ford Aerostar'], ['Ford', 'Taurus', 'Midsize', 15.6, 20.2, 24.8, 21.0, 30.0, 'Driver only', 'Front', '6', 3.0, nan, 4800.0, 1885.0, 'No', nan, 5.0, 192.0, 106.0, 71.0, 40.0, 27.5, 18.0, 3325.0, 'USA', 'Ford Taurus'], ['Ford', 'Crown_Victoria', 'Large', 20.1, 20.9, 21.7, 18.0, 26.0, 'Driver only', 'Rear', '8', 4.6, 190.0, 4200.0, nan, 'No', 20.0, 6.0, 212.0, 114.0, 78.0, 43.0, 30.0, 21.0, 3950.0, 'USA', 'Ford Crown_Victoria'], ['Geo', 'Metro', 'Small', 6.7, 8.4, 10.0, 46.0, 50.0, nan, 'Front', '3', 1.0, 55.0, 5700.0, 3755.0, nan, 10.6, 4.0, 151.0, 93.0, 63.0, 34.0, 27.5, 10.0, 1695.0, 'non-USA', 'Geo Metro'], ['Geo', 'Storm', 'Sporty', 11.5, 12.5, 13.5, 30.0, 36.0, 'Driver only', 'Front', '4', 1.6, 90.0, 5400.0, 3250.0, 'Yes', 12.4, 4.0, 164.0, 97.0, nan, 37.0, 24.5, 11.0, 2475.0, 'non-USA', 'Geo Storm'], ['Honda', 'Prelude', 'Sporty', 17.0, 19.8, 22.7, 24.0, 31.0, 'Driver & Passenger', 'Front', '4', 2.3, 160.0, 5800.0, 2855.0, 'Yes', nan, 4.0, 175.0, 100.0, 70.0, 39.0, 23.5, 8.0, 2865.0, 'non-USA', 'Honda Prelude'], ['Honda', 'Civic', 'Small', 8.4, 12.1, 15.8, 42.0, 46.0, 'Driver only', 'Front', '4', 1.5, nan, 5900.0, 2650.0, 'Yes', 11.9, 4.0, 173.0, nan, 67.0, 36.0, 28.0, 12.0, nan, 'non-USA', 'Honda Civic'], ['Honda', 'Accord', 'Compact', 13.8, 17.5, 21.2, 24.0, 31.0, 'Driver & Passenger', 'Front', '4', 2.2, 140.0, 5600.0, nan, 'Yes', 17.0, 4.0, 185.0, 107.0, 67.0, 41.0, 28.0, 14.0, 3040.0, 'non-USA', 'Honda Accord'], ['Hyundai', 'Excel', 'Small', 6.8, 8.0, 9.2, 29.0, 33.0, nan, 'Front', '4', 1.5, 81.0, 5500.0, 2710.0, 'Yes', 11.9, 5.0, 168.0, 94.0, 63.0, 35.0, 26.0, 11.0, 2345.0, 'non-USA', 'Hyundai Excel'], ['Hyundai', 'Elantra', 'Small', 9.0, 10.0, 11.0, nan, 29.0, nan, 'Front', '4', 1.8, 124.0, 6000.0, 2745.0, 'Yes', 13.7, 5.0, 172.0, 98.0, 66.0, 36.0, 28.0, 12.0, 2620.0, 'non-USA', 'Hyundai Elantra'], ['Hyundai', 'Scoupe', nan, 9.1, 10.0, 11.0, 26.0, 34.0, nan, 'Front', '4', 1.5, 92.0, 5550.0, 2540.0, 'Yes', 11.9, 4.0, 166.0, 94.0, 64.0, 34.0, 23.5, 9.0, 2285.0, 'non-USA', nan], ['Hyundai', 'Sonata', 'Midsize', 12.4, 13.9, 15.3, 20.0, 27.0, nan, 'Front', '4', 2.0, 128.0, 6000.0, 2335.0, 'Yes', 17.2, 5.0, 184.0, 104.0, 69.0, 41.0, 31.0, nan, 2885.0, nan, 'Hyundai Sonata'], ['Infiniti', 'Q45', 'Midsize', 45.4, 47.9, nan, 17.0, 22.0, nan, 'Rear', '8', 4.5, 278.0, 6000.0, 1955.0, 'No', 22.5, 5.0, 200.0, 113.0, 72.0, 42.0, 29.0, 15.0, 4000.0, 'non-USA', 'Infiniti Q45'], ['Lexus', 'ES300', 'Midsize', 27.5, 28.0, 28.4, 18.0, 24.0, 'Driver only', 'Front', '6', 3.0, 185.0, nan, 2325.0, 'Yes', 18.5, 5.0, 188.0, 103.0, 70.0, 40.0, 27.5, 14.0, 3510.0, 'non-USA', 'Lexus ES300'], [nan, 'SC300', 'Midsize', 34.7, 35.2, 35.6, 18.0, 23.0, 'Driver & Passenger', 'Rear', '6', 3.0, 225.0, 6000.0, 2510.0, 'Yes', nan, 4.0, 191.0, 106.0, 71.0, 39.0, 25.0, 9.0, 3515.0, 'non-USA', 'Lexus SC300'], ['Lincoln', 'Continental', 'Midsize', 33.3, 34.3, 35.3, 17.0, 26.0, 'Driver & Passenger', nan, '6', 3.8, 160.0, 4400.0, 1835.0, 'No', 18.4, 6.0, 205.0, 109.0, 73.0, 42.0, 30.0, 19.0, 3695.0, 'USA', 'Lincoln Continental'], ['Lincoln', 'Town_Car', 'Large', 34.4, 36.1, 37.8, 18.0, 26.0, 'Driver & Passenger', 'Rear', '8', 4.6, 210.0, 4600.0, 1840.0, 'No', 20.0, nan, 219.0, 117.0, 77.0, 45.0, 31.5, 22.0, 4055.0, 'USA', 'Lincoln Town_Car'], ['Mazda', '323', 'Small', 7.4, 8.3, 9.1, 29.0, 37.0, nan, 'Front', '4', 1.6, 82.0, 5000.0, 2370.0, 'Yes', 13.2, 4.0, 164.0, 97.0, 66.0, 34.0, 27.0, 16.0, 2325.0, 'non-USA', 'Mazda 323'], ['Mazda', 'Protege', 'Small', 10.9, 11.6, 12.3, 28.0, 36.0, nan, 'Front', '4', 1.8, 103.0, 5500.0, 2220.0, 'Yes', 14.5, 5.0, 172.0, 98.0, 66.0, 36.0, 26.5, 13.0, 2440.0, 'non-USA', 'Mazda Protege'], ['Mazda', '626', 'Compact', 14.3, 16.5, 18.7, 26.0, 34.0, 'Driver only', 'Front', '4', 2.5, 164.0, 5600.0, 2505.0, 'Yes', 15.5, 5.0, 184.0, 103.0, 69.0, 40.0, 29.5, 14.0, 2970.0, 'non-USA', 'Mazda 626'], ['Mazda', 'MPV', 'Van', 16.6, 19.1, 21.7, 18.0, 24.0, nan, '4WD', '6', 3.0, 155.0, 5000.0, 2240.0, 'No', 19.6, 7.0, 190.0, 110.0, 72.0, 39.0, 27.5, nan, 3735.0, 'non-USA', 'Mazda MPV'], ['Mazda', 'RX-7', 'Sporty', 32.5, 32.5, 32.5, 17.0, 25.0, 'Driver only', nan, 'rotary', 1.3, 255.0, 6500.0, 2325.0, 'Yes', 20.0, 2.0, 169.0, 96.0, 69.0, nan, nan, nan, nan, 'non-USA', 'Mazda RX-7'], ['Mercedes-Benz', '190E', 'Compact', 29.0, 31.9, 34.9, nan, 29.0, 'Driver only', 'Rear', '4', 2.3, 130.0, 5100.0, 2425.0, 'Yes', 14.5, 5.0, 175.0, 105.0, 67.0, 34.0, 26.0, 12.0, 2920.0, nan, 'Mercedes-Benz 190E'], ['Mercedes-Benz', '300E', 'Midsize', 43.8, 61.9, 80.0, 19.0, 25.0, 'Driver & Passenger', 'Rear', '6', 3.2, 217.0, 5500.0, 2220.0, 'No', 18.5, 5.0, nan, 110.0, 69.0, 37.0, nan, 15.0, 3525.0, 'non-USA', 'Mercedes-Benz 300E'], ['Mercury', nan, 'Sporty', 13.3, 14.1, 15.0, 23.0, 26.0, 'Driver only', 'Front', '4', 1.6, 100.0, 5750.0, 2475.0, 'Yes', 11.1, 4.0, 166.0, 95.0, 65.0, 36.0, 19.0, 6.0, 2450.0, 'USA', 'Mercury Capri'], ['Mercury', 'Cougar', 'Midsize', 14.9, 14.9, 14.9, 19.0, 26.0, nan, 'Rear', '6', 3.8, 140.0, 3800.0, 1730.0, 'No', 18.0, 5.0, 199.0, 113.0, 73.0, 38.0, 28.0, 15.0, 3610.0, 'USA', 'Mercury Cougar'], ['Mitsubishi', 'Mirage', 'Small', 7.7, 10.3, 12.9, 29.0, nan, nan, 'Front', '4', 1.5, 92.0, 6000.0, 2505.0, 'Yes', 13.2, 5.0, 172.0, 98.0, 67.0, 36.0, 26.0, 11.0, 2295.0, 'non-USA', 'Mitsubishi Mirage'], ['Mitsubishi', 'Diamante', 'Midsize', 22.4, 26.1, nan, 18.0, 24.0, 'Driver only', 'Front', '6', 3.0, 202.0, 6000.0, 2210.0, 'No', 19.0, 5.0, 190.0, 107.0, 70.0, 43.0, 27.5, 14.0, 3730.0, 'non-USA', 'Mitsubishi Diamante'], ['Nissan', 'Sentra', 'Small', 8.7, 11.8, 14.9, 29.0, 33.0, 'Driver only', 'Front', nan, 1.6, 110.0, 6000.0, 2435.0, 'Yes', 13.2, 5.0, 170.0, 96.0, 66.0, 33.0, 26.0, nan, nan, 'non-USA', 'Nissan Sentra'], ['Nissan', 'Altima', 'Compact', 13.0, 15.7, 18.3, 24.0, 30.0, 'Driver only', 'Front', '4', 2.4, 150.0, 5600.0, 2130.0, 'Yes', 15.9, 5.0, 181.0, 103.0, 67.0, 40.0, 28.5, 14.0, 3050.0, 'non-USA', 'Nissan Altima'], ['Nissan', 'Quest', 'Van', 16.7, 19.1, 21.5, 17.0, 23.0, nan, 'Front', '6', 3.0, nan, 4800.0, 2065.0, 'No', 20.0, 7.0, 190.0, 112.0, 74.0, 41.0, 27.0, nan, 4100.0, 'non-USA', 'Nissan Quest'], ['Nissan', 'Maxima', 'Midsize', 21.0, 21.5, 22.0, 21.0, 26.0, 'Driver only', 'Front', '6', 3.0, 160.0, 5200.0, 2045.0, nan, 18.5, 5.0, 188.0, 104.0, 69.0, 41.0, 28.5, 14.0, 3200.0, 'non-USA', 'Nissan Maxima'], ['Oldsmobile', 'Achieva', 'Compact', 13.0, 13.5, 14.0, 24.0, 31.0, nan, 'Front', '4', 2.3, 155.0, 6000.0, 2380.0, 'No', 15.2, 5.0, 188.0, 103.0, 67.0, 39.0, 28.0, 14.0, 2910.0, 'USA', 'Oldsmobile Achieva'], ['Oldsmobile', 'Cutlass_Ciera', 'Midsize', 14.2, 16.3, 18.4, 23.0, 31.0, 'Driver only', 'Front', '4', 2.2, 110.0, 5200.0, 2565.0, 'No', nan, 5.0, 190.0, 105.0, 70.0, 42.0, 28.0, 16.0, 2890.0, 'USA', 'Oldsmobile Cutlass_Ciera'], ['Oldsmobile', 'Silhouette', 'Van', 19.5, 19.5, 19.5, 18.0, 23.0, nan, 'Front', '6', 3.8, 170.0, 4800.0, 1690.0, 'No', 20.0, 7.0, nan, 110.0, 74.0, 44.0, 30.5, nan, 3715.0, 'USA', 'Oldsmobile Silhouette'], ['Oldsmobile', 'Eighty-Eight', 'Large', 19.5, 20.7, 21.9, nan, 28.0, 'Driver only', 'Front', '6', 3.8, 170.0, 4800.0, 1570.0, 'No', 18.0, 6.0, 201.0, 111.0, 74.0, 42.0, 31.5, 17.0, 3470.0, 'USA', 'Oldsmobile Eighty-Eight'], ['Plymouth', 'Laser', 'Sporty', 11.4, 14.4, 17.4, nan, 30.0, nan, '4WD', '4', 1.8, 92.0, 5000.0, 2360.0, 'Yes', 15.9, 4.0, 173.0, 97.0, 67.0, 39.0, 24.5, 8.0, 2640.0, nan, 'Plymouth Laser'], ['Pontiac', 'LeMans', 'Small', nan, 9.0, 9.9, 31.0, 41.0, nan, 'Front', '4', 1.6, 74.0, 5600.0, 3130.0, 'Yes', 13.2, 4.0, 177.0, 99.0, 66.0, 35.0, 25.5, 17.0, 2350.0, 'USA', 'Pontiac LeMans'], ['Pontiac', 'Sunbird', 'Compact', 9.4, 11.1, 12.8, nan, 31.0, nan, nan, '4', 2.0, 110.0, 5200.0, 2665.0, 'Yes', 15.2, 5.0, 181.0, 101.0, 66.0, 39.0, 25.0, 13.0, nan, 'USA', nan], ['Pontiac', 'Firebird', nan, 14.0, 17.7, 21.4, 19.0, 28.0, 'Driver & Passenger', 'Rear', '6', nan, 160.0, 4600.0, 1805.0, 'Yes', 15.5, 4.0, 196.0, 101.0, 75.0, 43.0, 25.0, 13.0, 3240.0, 'USA', 'Pontiac Firebird'], ['Pontiac', 'Grand_Prix', 'Midsize', 15.4, 18.5, 21.6, 19.0, 27.0, nan, 'Front', '6', 3.4, 200.0, 5000.0, 1890.0, 'Yes', 16.5, 5.0, 195.0, 108.0, 72.0, 41.0, 28.5, 16.0, 3450.0, 'USA', 'Pontiac Grand_Prix'], ['Pontiac', 'Bonneville', 'Large', 19.4, 24.4, 29.4, 19.0, 28.0, 'Driver & Passenger', 'Front', '6', 3.8, 170.0, 4800.0, 1565.0, 'No', 18.0, 6.0, 177.0, 111.0, 74.0, 43.0, 30.5, 18.0, 3495.0, 'USA', 'Pontiac Bonneville'], ['Saab', '900', 'Compact', 20.3, 28.7, 37.1, 20.0, 26.0, nan, 'Front', '4', 2.1, 140.0, 6000.0, 2910.0, 'Yes', 18.0, 5.0, nan, 99.0, 67.0, 37.0, 26.5, 14.0, 2775.0, 'non-USA', 'Saab 900'], ['Saturn', 'SL', 'Small', 9.2, nan, 12.9, nan, 38.0, 'Driver only', 'Front', '4', 1.9, 85.0, 5000.0, 2145.0, 'Yes', 12.8, 5.0, 176.0, 102.0, 68.0, 40.0, 26.5, nan, 2495.0, 'USA', 'Saturn SL'], ['Subaru', 'Justy', 'Small', 7.3, 8.4, 9.5, 33.0, 37.0, nan, '4WD', '3', 1.2, 73.0, 5600.0, 2875.0, 'Yes', 9.2, 4.0, 146.0, 90.0, 60.0, 32.0, 23.5, 10.0, 2045.0, 'non-USA', 'Subaru Justy'], ['Subaru', 'Loyale', 'Small', 10.5, 10.9, 11.3, 25.0, 30.0, nan, '4WD', '4', 1.8, 90.0, 5200.0, 3375.0, 'Yes', 15.9, 5.0, 175.0, 97.0, 65.0, 35.0, 27.5, 15.0, 2490.0, 'non-USA', 'Subaru Loyale'], ['Subaru', 'Legacy', 'Compact', 16.3, 19.5, 22.7, 23.0, 30.0, 'Driver only', '4WD', '4', 2.2, 130.0, nan, 2330.0, 'Yes', 15.9, 5.0, 179.0, 102.0, 67.0, 37.0, 27.0, 14.0, 3085.0, 'non-USA', 'Subaru Legacy'], ['Suzuki', 'Swift', nan, 7.3, 8.6, nan, 39.0, 43.0, nan, 'Front', '3', 1.3, 70.0, 6000.0, 3360.0, 'Yes', 10.6, 4.0, 161.0, 93.0, nan, 34.0, 27.5, 10.0, 1965.0, 'non-USA', 'Suzuki Swift'], ['Toyota', 'Tercel', 'Small', nan, 9.8, 11.8, 32.0, 37.0, 'Driver only', 'Front', '4', 1.5, 82.0, 5200.0, 3505.0, 'Yes', 11.9, nan, 162.0, 94.0, nan, 36.0, 24.0, 11.0, 2055.0, 'non-USA', 'Toyota Tercel'], ['Toyota', 'Celica', 'Sporty', 14.2, 18.4, 22.6, 25.0, 32.0, nan, 'Front', '4', 2.2, 135.0, nan, 2405.0, 'Yes', 15.9, 4.0, 174.0, 99.0, 69.0, nan, 23.0, 13.0, 2950.0, 'non-USA', 'Toyota Celica'], ['Toyota', 'Camry', 'Midsize', 15.2, nan, 21.2, 22.0, 29.0, 'Driver only', nan, '4', 2.2, 130.0, 5400.0, 2340.0, nan, 18.5, 5.0, 188.0, 103.0, 70.0, 38.0, 28.5, 15.0, 3030.0, 'non-USA', 'Toyota Camry'], ['Toyota', 'Previa', 'Van', nan, 22.7, 26.6, 18.0, 22.0, 'Driver only', '4WD', '4', 2.4, 138.0, 5000.0, 2515.0, 'Yes', 19.8, 7.0, 187.0, 113.0, 71.0, 41.0, 35.0, nan, 3785.0, 'non-USA', 'Toyota Previa'], ['Volkswagen', 'Fox', 'Small', 8.7, 9.1, 9.5, 25.0, 33.0, nan, 'Front', '4', 1.8, 81.0, 5500.0, 2550.0, 'Yes', 12.4, 4.0, 163.0, 93.0, 63.0, 34.0, 26.0, 10.0, 2240.0, 'non-USA', 'Volkswagen Fox'], ['Volkswagen', 'Eurovan', 'Van', 16.6, 19.7, 22.7, 17.0, 21.0, nan, 'Front', '5', 2.5, 109.0, 4500.0, 2915.0, 'Yes', 21.1, 7.0, 187.0, 115.0, 72.0, 38.0, 34.0, nan, 3960.0, nan, 'Volkswagen Eurovan'], ['Volkswagen', 'Passat', 'Compact', 17.6, 20.0, 22.4, 21.0, 30.0, nan, 'Front', '4', 2.0, 134.0, 5800.0, 2685.0, 'Yes', 18.5, 5.0, 180.0, 103.0, 67.0, 35.0, 31.5, 14.0, 2985.0, 'non-USA', 'Volkswagen Passat'], ['Volkswagen', 'Corrado', 'Sporty', 22.9, 23.3, 23.7, 18.0, 25.0, nan, 'Front', '6', 2.8, 178.0, 5800.0, 2385.0, 'Yes', 18.5, 4.0, 159.0, 97.0, 66.0, 36.0, 26.0, 15.0, 2810.0, 'non-USA', 'Volkswagen Corrado'], ['Volvo', '240', 'Compact', 21.8, 22.7, 23.5, 21.0, 28.0, 'Driver only', 'Rear', nan, 2.3, 114.0, 5400.0, 2215.0, 'Yes', 15.8, 5.0, 190.0, 104.0, 67.0, 37.0, 29.5, 14.0, 2985.0, 'non-USA', 'Volvo 240'], [nan, '850', 'Midsize', 24.8, 26.7, 28.5, 20.0, 28.0, 'Driver & Passenger', 'Front', '5', 2.4, 168.0, 6200.0, nan, 'Yes', 19.3, 5.0, 184.0, 105.0, 69.0, 38.0, 30.0, 15.0, 3245.0, 'non-USA', 'Volvo 850']]\n"
     ]
    }
   ],
   "source": [
    "import pandas as pd\n",
    "\n",
    "# Загрузка данных\n",
    "url = \"https://raw.githubusercontent.com/selva86/datasets/master/Cars93_miss.csv\"\n",
    "data = pd.read_csv(url)\n",
    "\n",
    "# Получение количества строк и столбцов\n",
    "num_rows, num_columns = data.shape\n",
    "print(f\"Количество строк: {num_rows}, Количество столбцов: {num_columns}\")\n",
    "\n",
    "# Получение типов данных каждого столбца\n",
    "data_types = data.dtypes\n",
    "print(\"\\nТипы данных каждого столбца:\\n\", data_types)\n",
    "\n",
    "# Получение суммарной статистики для каждого столбца\n",
    "summary_statistics = data.describe(include='all')\n",
    "print(\"\\nСуммарная статистика каждого столбца:\\n\", summary_statistics)\n",
    "\n",
    "# Преобразование датафрейма в numpy-массив\n",
    "numpy_array = data.to_numpy()\n",
    "print(\"\\nNumpy массив:\\n\", numpy_array)\n",
    "\n",
    "# Преобразование датафрейма в список\n",
    "list_data = data.values.tolist()\n",
    "print(\"\\nСписок:\\n\", list_data)\n"
   ]
  },
  {
   "cell_type": "markdown",
   "metadata": {},
   "source": [
    "## Упражнение № 37\n",
    "\n",
    "Извлеките номер строки и столбца конкретной ячейки по заданному критерию.\n",
    "\n",
    "Пример входных данных:\n",
    "\n",
    "```python\n",
    "df = pd.read_csv('https://raw.githubusercontent.com/selva86/datasets/master/Cars93_miss.csv')\n",
    "```\n",
    "\n",
    "*Какой производитель, модель и тип имеет наибольшую цену в `Price`? Каков номер строки и столбца ячейки с наибольшим значением `Price`?*"
   ]
  },
  {
   "cell_type": "code",
   "execution_count": 43,
   "metadata": {},
   "outputs": [
    {
     "name": "stdout",
     "output_type": "stream",
     "text": [
      "Производитель: Mercedes-Benz\n",
      "Модель: 300E\n",
      "Тип: Midsize\n",
      "Номер строки: 58\n",
      "Номер столбца (Price): 4\n"
     ]
    }
   ],
   "source": [
    "import pandas as pd\n",
    "\n",
    "# Загрузка данных\n",
    "df = pd.read_csv('https://raw.githubusercontent.com/selva86/datasets/master/Cars93_miss.csv')\n",
    "\n",
    "# Нахождение строки с наибольшей ценой\n",
    "max_price_row = df.loc[df['Price'].idxmax()]\n",
    "\n",
    "# Извлечение информации\n",
    "manufacturer = max_price_row['Manufacturer']\n",
    "model = max_price_row['Model']\n",
    "car_type = max_price_row['Type']\n",
    "max_price_index = df['Price'].idxmax()  # Номер строки\n",
    "max_price_column = df.columns.get_loc('Price')  # Номер столбца\n",
    "\n",
    "# Вывод результатов\n",
    "print(f\"Производитель: {manufacturer}\")\n",
    "print(f\"Модель: {model}\")\n",
    "print(f\"Тип: {car_type}\")\n",
    "print(f\"Номер строки: {max_price_index}\")\n",
    "print(f\"Номер столбца (Price): {max_price_column}\")\n"
   ]
  },
  {
   "cell_type": "markdown",
   "metadata": {},
   "source": [
    "## Упражнение № 38\n",
    "\n",
    "Переименуйте в `df` столбец `Type` в `CarType` и замените `.` в именах столбцов на `_`.\n",
    "\n",
    "Пример входных данных:\n",
    "\n",
    "```python\n",
    "df = pd.read_csv('https://raw.githubusercontent.com/selva86/datasets/master/Cars93_miss.csv')\n",
    "print(df.columns)\n",
    "#> Index(['Manufacturer', 'Model', 'Type', 'Min.Price', 'Price', 'Max.Price',\n",
    "#>        'MPG.city', 'MPG.highway', 'AirBags', 'DriveTrain', 'Cylinders',\n",
    "#>        'EngineSize', 'Horsepower', 'RPM', 'Rev.per.mile', 'Man.trans.avail',\n",
    "#>        'Fuel.tank.capacity', 'Passengers', 'Length', 'Wheelbase', 'Width',\n",
    "#>        'Turn.circle', 'Rear.seat.room', 'Luggage.room', 'Weight', 'Origin',\n",
    "#>        'Make'],\n",
    "#>       dtype='object')\n",
    "```\n",
    "\n",
    "Пример выходных данных:\n",
    "\n",
    "```python\n",
    "print(df.columns)\n",
    "#> Index(['Manufacturer', 'Model', 'CarType', 'Min_Price', 'Price', 'Max_Price',\n",
    "#>        'MPG_city', 'MPG_highway', 'AirBags', 'DriveTrain', 'Cylinders',\n",
    "#>        'EngineSize', 'Horsepower', 'RPM', 'Rev_per_mile', 'Man_trans_avail',\n",
    "#>        'Fuel_tank_capacity', 'Passengers', 'Length', 'Wheelbase', 'Width',\n",
    "#>        'Turn_circle', 'Rear_seat_room', 'Luggage_room', 'Weight', 'Origin',\n",
    "#>        'Make'],\n",
    "#>       dtype='object')\n",
    "```"
   ]
  },
  {
   "cell_type": "code",
   "execution_count": 44,
   "metadata": {},
   "outputs": [
    {
     "name": "stdout",
     "output_type": "stream",
     "text": [
      "Index(['Manufacturer', 'Model', 'CarType', 'Min_Price', 'Price', 'Max_Price',\n",
      "       'MPG_city', 'MPG_highway', 'AirBags', 'DriveTrain', 'Cylinders',\n",
      "       'EngineSize', 'Horsepower', 'RPM', 'Rev_per_mile', 'Man_trans_avail',\n",
      "       'Fuel_tank_capacity', 'Passengers', 'Length', 'Wheelbase', 'Width',\n",
      "       'Turn_circle', 'Rear_seat_room', 'Luggage_room', 'Weight', 'Origin',\n",
      "       'Make'],\n",
      "      dtype='object')\n"
     ]
    }
   ],
   "source": [
    "import pandas as pd\n",
    "\n",
    "# Загрузка данных\n",
    "df = pd.read_csv('https://raw.githubusercontent.com/selva86/datasets/master/Cars93_miss.csv')\n",
    "\n",
    "# Переименование столбца 'Type' в 'CarType'\n",
    "df.rename(columns={'Type': 'CarType'}, inplace=True)\n",
    "\n",
    "# Замена '.' на '_'\n",
    "df.columns = df.columns.str.replace('.', '_', regex=False)\n",
    "\n",
    "# Вывод измененных имен столбцов\n",
    "print(df.columns)\n"
   ]
  },
  {
   "cell_type": "markdown",
   "metadata": {},
   "source": [
    "## Упражнение № 39\n",
    "\n",
    "Проверьте, нет ли в `df` отсутствующих значений.\n",
    "\n",
    "Пример входных данных:\n",
    "\n",
    "```python\n",
    "df = pd.read_csv('https://raw.githubusercontent.com/selva86/datasets/master/Cars93_miss.csv')\n",
    "```"
   ]
  },
  {
   "cell_type": "code",
   "execution_count": 45,
   "metadata": {},
   "outputs": [
    {
     "name": "stdout",
     "output_type": "stream",
     "text": [
      "Manufacturer           4\n",
      "Model                  1\n",
      "Type                   3\n",
      "Min.Price              7\n",
      "Price                  2\n",
      "Max.Price              5\n",
      "MPG.city               9\n",
      "MPG.highway            2\n",
      "AirBags               38\n",
      "DriveTrain             7\n",
      "Cylinders              5\n",
      "EngineSize             2\n",
      "Horsepower             7\n",
      "RPM                    3\n",
      "Rev.per.mile           6\n",
      "Man.trans.avail        5\n",
      "Fuel.tank.capacity     8\n",
      "Passengers             2\n",
      "Length                 4\n",
      "Wheelbase              1\n",
      "Width                  6\n",
      "Turn.circle            5\n",
      "Rear.seat.room         4\n",
      "Luggage.room          19\n",
      "Weight                 7\n",
      "Origin                 5\n",
      "Make                   3\n",
      "dtype: int64\n"
     ]
    }
   ],
   "source": [
    "import pandas as pd\n",
    "\n",
    "# Загрузка данных\n",
    "df = pd.read_csv('https://raw.githubusercontent.com/selva86/datasets/master/Cars93_miss.csv')\n",
    "\n",
    "# Проверка на наличие отсутствующих значений\n",
    "missing_values = df.isnull().sum()\n",
    "\n",
    "# Вывод результатов\n",
    "print(missing_values[missing_values > 0])  # Показывает только те столбцы, где есть пропуски\n"
   ]
  },
  {
   "cell_type": "markdown",
   "metadata": {},
   "source": [
    "## Упражнение № 40\n",
    "\n",
    "Подсчитайте количество пропущенных значений в каждом столбце `df`. Какой столбец имеет наибольшее число пропущенных значений?\n",
    "\n",
    "Пример входных данных:\n",
    "\n",
    "```python\n",
    "df = pd.read_csv('https://raw.githubusercontent.com/selva86/datasets/master/Cars93_miss.csv')\n",
    "```"
   ]
  },
  {
   "cell_type": "code",
   "execution_count": 46,
   "metadata": {},
   "outputs": [
    {
     "name": "stdout",
     "output_type": "stream",
     "text": [
      "Количество пропущенных значений в каждом столбце:\n",
      " Manufacturer           4\n",
      "Model                  1\n",
      "Type                   3\n",
      "Min.Price              7\n",
      "Price                  2\n",
      "Max.Price              5\n",
      "MPG.city               9\n",
      "MPG.highway            2\n",
      "AirBags               38\n",
      "DriveTrain             7\n",
      "Cylinders              5\n",
      "EngineSize             2\n",
      "Horsepower             7\n",
      "RPM                    3\n",
      "Rev.per.mile           6\n",
      "Man.trans.avail        5\n",
      "Fuel.tank.capacity     8\n",
      "Passengers             2\n",
      "Length                 4\n",
      "Wheelbase              1\n",
      "Width                  6\n",
      "Turn.circle            5\n",
      "Rear.seat.room         4\n",
      "Luggage.room          19\n",
      "Weight                 7\n",
      "Origin                 5\n",
      "Make                   3\n",
      "dtype: int64\n",
      "\n",
      "Столбец с наибольшим количеством пропущенных значений: 'AirBags' (38 пропусков)\n"
     ]
    }
   ],
   "source": [
    "import pandas as pd\n",
    "\n",
    "# Загрузка данных\n",
    "df = pd.read_csv('https://raw.githubusercontent.com/selva86/datasets/master/Cars93_miss.csv')\n",
    "\n",
    "# Подсчет пропущенных значений в каждом столбце\n",
    "missing_counts = df.isnull().sum()\n",
    "\n",
    "# Вывод общего количества пропущенных значений по каждому столбцу\n",
    "print(\"Количество пропущенных значений в каждом столбце:\\n\", missing_counts)\n",
    "\n",
    "# Находим столбец с наибольшим количеством пропущенных значений\n",
    "max_missing_column = missing_counts.idxmax()\n",
    "max_missing_value = missing_counts.max()\n",
    "\n",
    "print(f\"\\nСтолбец с наибольшим количеством пропущенных значений: '{max_missing_column}' ({max_missing_value} пропусков)\")\n"
   ]
  },
  {
   "cell_type": "markdown",
   "metadata": {},
   "source": [
    "## Упражнение № 41\n",
    "\n",
    "Замените отсутствующие значения в столбцах `Min.Price` и `Max.Price` на соответствующие им средние значения.\n",
    "\n",
    "Пример входных данных:\n",
    "\n",
    "```python\n",
    "df = pd.read_csv('https://raw.githubusercontent.com/selva86/datasets/master/Cars93_miss.csv')\n",
    "```"
   ]
  },
  {
   "cell_type": "code",
   "execution_count": 48,
   "metadata": {},
   "outputs": [
    {
     "name": "stdout",
     "output_type": "stream",
     "text": [
      "Количество пропущенных значений после замены:\n",
      " Min.Price    0\n",
      "Max.Price    0\n",
      "dtype: int64\n"
     ]
    }
   ],
   "source": [
    "import pandas as pd\n",
    "\n",
    "# Загрузка данных\n",
    "df = pd.read_csv('https://raw.githubusercontent.com/selva86/datasets/master/Cars93_miss.csv')\n",
    "\n",
    "# Вычисление средних значений по столбцам Min.Price и Max.Price\n",
    "mean_min_price = df['Min.Price'].mean()\n",
    "mean_max_price = df['Max.Price'].mean()\n",
    "\n",
    "# Замена пропущенных значений на вычисленные средние\n",
    "df['Min.Price'] = df['Min.Price'].fillna(mean_min_price)\n",
    "df['Max.Price'] = df['Max.Price'].fillna(mean_max_price)\n",
    "\n",
    "# Проверка, что пропуски заменены\n",
    "print(\"Количество пропущенных значений после замены:\\n\", df[['Min.Price', 'Max.Price']].isnull().sum())\n"
   ]
  },
  {
   "cell_type": "markdown",
   "metadata": {},
   "source": [
    "## Упражнение № 42\n",
    "\n",
    "В `df` с помощью метода `apply` замените недостающие значения в `Min.Price` на среднее значение столбца, а в `Max.Price` — на медиану столбца.\n",
    "\n",
    "Пример входных данных:\n",
    "\n",
    "```python\n",
    "df = pd.read_csv('https://raw.githubusercontent.com/selva86/datasets/master/Cars93_miss.csv')\n",
    "```\n",
    "\n",
    "[Подсказка на StackOverflow](https://stackoverflow.com/questions/32437435/passing-additional-arguments-to-python-pandas-dataframe-apply)"
   ]
  },
  {
   "cell_type": "code",
   "execution_count": 49,
   "metadata": {},
   "outputs": [
    {
     "name": "stdout",
     "output_type": "stream",
     "text": [
      "Количество пропущенных значений после замены:\n",
      " Min.Price    0\n",
      "Max.Price    0\n",
      "dtype: int64\n"
     ]
    }
   ],
   "source": [
    "import pandas as pd\n",
    "\n",
    "# Загрузка данных\n",
    "df = pd.read_csv('https://raw.githubusercontent.com/selva86/datasets/master/Cars93_miss.csv')\n",
    "\n",
    "# Вычисление среднего и медианного значений\n",
    "mean_min_price = df['Min.Price'].mean()\n",
    "median_max_price = df['Max.Price'].median()\n",
    "\n",
    "# Функция для замены NaN на среднее/медиану\n",
    "def fill_na(series, fill_value):\n",
    "    return series.apply(lambda x: fill_value if pd.isna(x) else x)\n",
    "\n",
    "# Применение функции к столбцам\n",
    "df['Min.Price'] = fill_na(df['Min.Price'], mean_min_price)\n",
    "df['Max.Price'] = fill_na(df['Max.Price'], median_max_price)\n",
    "\n",
    "# Проверка, что пропуски заменены\n",
    "print(\"Количество пропущенных значений после замены:\\n\", df[['Min.Price', 'Max.Price']].isnull().sum())\n"
   ]
  },
  {
   "cell_type": "markdown",
   "metadata": {},
   "source": [
    "## Упражнение № 43\n",
    "\n",
    "Получите первый столбец (`a`) в `df` в виде датафрейма (а не в виде ряда).\n",
    "\n",
    "Пример входных данных:\n",
    "\n",
    "```python\n",
    "df = pd.DataFrame(np.arange(20).reshape(-1, 5), columns=list('abcde'))\n",
    "```\n"
   ]
  },
  {
   "cell_type": "code",
   "execution_count": 50,
   "metadata": {},
   "outputs": [
    {
     "name": "stdout",
     "output_type": "stream",
     "text": [
      "    a\n",
      "0   0\n",
      "1   5\n",
      "2  10\n",
      "3  15\n",
      "<class 'pandas.core.frame.DataFrame'>\n"
     ]
    }
   ],
   "source": [
    "import pandas as pd\n",
    "import numpy as np\n",
    "\n",
    "# Создание исходного датафрейма\n",
    "df = pd.DataFrame(np.arange(20).reshape(-1, 5), columns=list('abcde'))\n",
    "\n",
    "# Получение первого столбца 'a' в виде датафрейма\n",
    "first_column_df = df[['a']]\n",
    "\n",
    "# Проверка результата\n",
    "print(first_column_df)\n",
    "print(type(first_column_df))  # Проверка типа переменной\n"
   ]
  },
  {
   "cell_type": "markdown",
   "metadata": {},
   "source": [
    "# Упражнение № 44\n",
    "\n",
    "1. В `df` поменяйте местами столбцы `'a'` и `'c'`.\n",
    "2. Создайте обобщенную функцию для обмена данными между двумя столбцами без фиксированного задания имен столбцов.\n",
    "3. Отсортируйте столбцы в обратном алфавитном порядке, т.е. от столбца `'e'` до столбца `'a'`.\n",
    "\n",
    "Пример входных данных:\n",
    "\n",
    "```python\n",
    "df = pd.DataFrame(np.arange(20).reshape(-1, 5), columns=list('abcde'))\n",
    "```\n"
   ]
  },
  {
   "cell_type": "code",
   "execution_count": 51,
   "metadata": {},
   "outputs": [
    {
     "name": "stdout",
     "output_type": "stream",
     "text": [
      "После обмена 'a' и 'c':\n",
      "    a   b   c   d   e\n",
      "0   2   1   0   3   4\n",
      "1   7   6   5   8   9\n",
      "2  12  11  10  13  14\n",
      "3  17  16  15  18  19\n",
      "\n",
      "После обмена 'b' и 'd':\n",
      "    a   b   c   d   e\n",
      "0   2   3   0   1   4\n",
      "1   7   8   5   6   9\n",
      "2  12  13  10  11  14\n",
      "3  17  18  15  16  19\n",
      "\n",
      "После сортировки столбцов в обратном алфавитном порядке:\n",
      "    e   d   c   b   a\n",
      "0   4   1   0   3   2\n",
      "1   9   6   5   8   7\n",
      "2  14  11  10  13  12\n",
      "3  19  16  15  18  17\n"
     ]
    }
   ],
   "source": [
    "import pandas as pd\n",
    "import numpy as np\n",
    "\n",
    "# Создание исходного датафрейма\n",
    "df = pd.DataFrame(np.arange(20).reshape(-1, 5), columns=list('abcde'))\n",
    "\n",
    "# 1. Меняем местами столбцы 'a' и 'c'\n",
    "df[['a', 'c']] = df[['c', 'a']]\n",
    "\n",
    "# Вывод измененного датафрейма\n",
    "print(\"После обмена 'a' и 'c':\")\n",
    "print(df)\n",
    "\n",
    "# 2. Функция для обмена данными между двумя столбцами\n",
    "def swap_columns(df, col1, col2):\n",
    "    df[[col1, col2]] = df[[col2, col1]]\n",
    "\n",
    "# Пример использования функции для обмена 'b' и 'd'\n",
    "swap_columns(df, 'b', 'd')\n",
    "\n",
    "# Вывод измененного датафрейма после использования функции\n",
    "print(\"\\nПосле обмена 'b' и 'd':\")\n",
    "print(df)\n",
    "\n",
    "# 3. Сортировка столбцов в обратном алфавитном порядке\n",
    "df = df.reindex(columns=sorted(df.columns, reverse=True))\n",
    "\n",
    "# Вывод окончательного датафрейма\n",
    "print(\"\\nПосле сортировки столбцов в обратном алфавитном порядке:\")\n",
    "print(df)\n"
   ]
  },
  {
   "cell_type": "markdown",
   "metadata": {},
   "source": [
    "## Упражнение № 45\n",
    "\n",
    "Измените настройки отображения `pandas` при выводе на печать датафрейма `df`, чтобы он показывал максимум 10 строк и 10 столбцов.\n",
    "\n",
    "Пример входных данных:\n",
    "\n",
    "```python\n",
    "df = pd.read_csv('https://raw.githubusercontent.com/selva86/datasets/master/Cars93_miss.csv')\n",
    "```"
   ]
  },
  {
   "cell_type": "code",
   "execution_count": 52,
   "metadata": {},
   "outputs": [
    {
     "name": "stdout",
     "output_type": "stream",
     "text": [
      "   Manufacturer    Model     Type  Min.Price  Price  ...  Rear.seat.room  \\\n",
      "0         Acura  Integra    Small       12.9   15.9  ...            26.5   \n",
      "1           NaN   Legend  Midsize       29.2   33.9  ...            30.0   \n",
      "2          Audi       90  Compact       25.9   29.1  ...            28.0   \n",
      "3          Audi      100  Midsize        NaN   37.7  ...            31.0   \n",
      "4           BMW     535i  Midsize        NaN   30.0  ...            27.0   \n",
      "..          ...      ...      ...        ...    ...  ...             ...   \n",
      "88   Volkswagen  Eurovan      Van       16.6   19.7  ...            34.0   \n",
      "89   Volkswagen   Passat  Compact       17.6   20.0  ...            31.5   \n",
      "90   Volkswagen  Corrado   Sporty       22.9   23.3  ...            26.0   \n",
      "91        Volvo      240  Compact       21.8   22.7  ...            29.5   \n",
      "92          NaN      850  Midsize       24.8   26.7  ...            30.0   \n",
      "\n",
      "    Luggage.room  Weight   Origin                Make  \n",
      "0            NaN  2705.0  non-USA       Acura Integra  \n",
      "1           15.0  3560.0  non-USA        Acura Legend  \n",
      "2           14.0  3375.0  non-USA             Audi 90  \n",
      "3           17.0  3405.0  non-USA            Audi 100  \n",
      "4           13.0  3640.0  non-USA            BMW 535i  \n",
      "..           ...     ...      ...                 ...  \n",
      "88           NaN  3960.0      NaN  Volkswagen Eurovan  \n",
      "89          14.0  2985.0  non-USA   Volkswagen Passat  \n",
      "90          15.0  2810.0  non-USA  Volkswagen Corrado  \n",
      "91          14.0  2985.0  non-USA           Volvo 240  \n",
      "92          15.0  3245.0  non-USA           Volvo 850  \n",
      "\n",
      "[93 rows x 27 columns]\n"
     ]
    }
   ],
   "source": [
    "import pandas as pd\n",
    "\n",
    "# Загрузка данных\n",
    "df = pd.read_csv('https://raw.githubusercontent.com/selva86/datasets/master/Cars93_miss.csv')\n",
    "\n",
    "# Изменение настроек отображения\n",
    "pd.set_option('display.max_rows', 10)  # Максимум 10 строк\n",
    "pd.set_option('display.max_columns', 10)  # Максимум 10 столбцов\n",
    "\n",
    "# Вывод датафрейма\n",
    "print(df)  # Датафрейм будет отображен с новыми настройками\n"
   ]
  },
  {
   "cell_type": "markdown",
   "metadata": {},
   "source": [
    "## Упражнение № 46\n",
    "\n",
    "Исключите вывод научной нотации типа 'e-03' в `df` и выведите до 4 чисел после запятой.\n",
    "\n",
    "Пример входных данных:\n",
    "\n",
    "```python\n",
    "df = pd.DataFrame(np.random.random(4)**10, columns=['random'])\n",
    "df\n",
    "#>          random\n",
    "#> 0  3.474280e-03\n",
    "#> 1  3.951517e-05\n",
    "#> 2  7.469702e-02\n",
    "#> 3  5.541282e-28\n",
    "```\n",
    "\n",
    "Пример выходных данных:\n",
    "\n",
    "```python\n",
    "#>    random\n",
    "#> 0  0.0035\n",
    "#> 1  0.0000\n",
    "#> 2  0.0747\n",
    "#> 3  0.0000\n",
    "```"
   ]
  },
  {
   "cell_type": "code",
   "execution_count": 53,
   "metadata": {},
   "outputs": [
    {
     "name": "stdout",
     "output_type": "stream",
     "text": [
      "   random\n",
      "0  0.0004\n",
      "1  0.0891\n",
      "2  0.0000\n",
      "3  0.0013\n"
     ]
    }
   ],
   "source": [
    "import pandas as pd\n",
    "import numpy as np\n",
    "\n",
    "# Создание датафрейма\n",
    "df = pd.DataFrame(np.random.random(4)**10, columns=['random'])\n",
    "\n",
    "# Изменение настроек отображения\n",
    "pd.set_option('display.float_format', '{:.4f}'.format)  # Устанавливаем формат с 4 знаками после запятой\n",
    "\n",
    "# Вывод датафрейма\n",
    "print(df)\n"
   ]
  },
  {
   "cell_type": "markdown",
   "metadata": {},
   "source": [
    "## Упражнение № 47\n",
    "\n",
    "Отформатируйте значения в столбце `'random'` из `df` в виде процентов.\n",
    "\n",
    "Пример входных данных:\n",
    "\n",
    "```python\n",
    "df = pd.DataFrame(np.random.random(4), columns=['random'])\n",
    "df\n",
    "#>      random\n",
    "#> 0    .689723\n",
    "#> 1    .957224\n",
    "#> 2    .159157\n",
    "#> 3    .21082\n",
    "```\n",
    "\n",
    "Пример выходных данных:\n",
    "\n",
    "```python\n",
    "#>      random\n",
    "#> 0    68.97%\n",
    "#> 1    95.72%\n",
    "#> 2    15.91%\n",
    "#> 3    2.10%\n",
    "```"
   ]
  },
  {
   "cell_type": "code",
   "execution_count": 54,
   "metadata": {},
   "outputs": [
    {
     "name": "stdout",
     "output_type": "stream",
     "text": [
      "   random\n",
      "0  59.24%\n",
      "1   4.65%\n",
      "2  60.75%\n",
      "3  17.05%\n"
     ]
    }
   ],
   "source": [
    "import pandas as pd\n",
    "import numpy as np\n",
    "\n",
    "# Создание датафрейма\n",
    "df = pd.DataFrame(np.random.random(4), columns=['random'])\n",
    "\n",
    "# Форматирование значений в столбце 'random' в проценты\n",
    "df['random'] = (df['random'] * 100).map('{:.2f}%'.format)\n",
    "\n",
    "# Вывод датафрейма\n",
    "print(df)\n"
   ]
  },
  {
   "cell_type": "markdown",
   "metadata": {},
   "source": [
    "## Упражнение № 48\n",
    "\n",
    "Из `df` отфильтруйте значения `Manufacturer`, `Model` и `Type` для каждой 20-й строки, начиная с 1-й (строка 0).\n",
    "\n",
    "Пример входных данных:\n",
    "\n",
    "```python\n",
    "df = pd.read_csv('https://raw.githubusercontent.com/selva86/datasets/master/Cars93_miss.csv')\n",
    "```\n"
   ]
  },
  {
   "cell_type": "code",
   "execution_count": 55,
   "metadata": {},
   "outputs": [
    {
     "name": "stdout",
     "output_type": "stream",
     "text": [
      "   Manufacturer    Model     Type\n",
      "0         Acura  Integra    Small\n",
      "20     Chrysler  LeBaron  Compact\n",
      "40        Honda  Prelude   Sporty\n",
      "60      Mercury   Cougar  Midsize\n",
      "80       Subaru   Loyale    Small\n"
     ]
    }
   ],
   "source": [
    "import pandas as pd\n",
    "\n",
    "# Загрузка данных\n",
    "df = pd.read_csv('https://raw.githubusercontent.com/selva86/datasets/master/Cars93_miss.csv')\n",
    "\n",
    "# Фильтрация для каждой 20-й строки, начиная с 1-й (0-индексация)\n",
    "filtered_df = df.iloc[::20, [0, 1, 2]]  # 0, 1, 2 — это индексы столбцов 'Manufacturer', 'Model', 'Type'\n",
    "\n",
    "# Вывод результирующего датафрейма\n",
    "print(filtered_df)\n"
   ]
  },
  {
   "cell_type": "markdown",
   "metadata": {},
   "source": [
    "## Упражнение № 49\n",
    "\n",
    "В `df` замените `NaN` на `missing` в столбцах `Manufacturer`, `Model` и `Type` , создайте индекс как комбинацию этих трех столбцов и проверьте, является ли этот индекс первичным ключом.\n",
    "\n",
    "Пример входных данных:\n",
    "\n",
    "```python\n",
    "df = pd.read_csv('https://raw.githubusercontent.com/selva86/datasets/master/Cars93_miss.csv', usecols=[0,1,2,3,5])\n",
    "```\n",
    "\n",
    "Пример выходных данных:\n",
    "\n",
    "```\n",
    "                       Manufacturer    Model     Type  Min.Price  Max.Price\n",
    "Acura_Integra_Small           Acura  Integra    Small       12.9       18.8\n",
    "missing_Legend_Midsize      missing   Legend  Midsize       29.2       38.7\n",
    "Audi_90_Compact                Audi       90  Compact       25.9       32.3\n",
    "Audi_100_Midsize               Audi      100  Midsize        NaN       44.6\n",
    "BMW_535i_Midsize                BMW     535i  Midsize        NaN        NaN\n",
    "```"
   ]
  },
  {
   "cell_type": "code",
   "execution_count": 56,
   "metadata": {},
   "outputs": [
    {
     "name": "stdout",
     "output_type": "stream",
     "text": [
      "                              Min.Price  Max.Price\n",
      "Manufacturer Model   Type                         \n",
      "Acura        Integra Small      12.9000    18.8000\n",
      "missing      Legend  Midsize    29.2000    38.7000\n",
      "Audi         90      Compact    25.9000    32.3000\n",
      "             100     Midsize        NaN    44.6000\n",
      "BMW          535i    Midsize        NaN        NaN\n",
      "...                                 ...        ...\n",
      "Volkswagen   Eurovan Van        16.6000    22.7000\n",
      "             Passat  Compact    17.6000    22.4000\n",
      "             Corrado Sporty     22.9000    23.7000\n",
      "Volvo        240     Compact    21.8000    23.5000\n",
      "missing      850     Midsize    24.8000    28.5000\n",
      "\n",
      "[93 rows x 2 columns]\n",
      "\n",
      "Является ли индекс первичным ключом? True\n"
     ]
    }
   ],
   "source": [
    "import pandas as pd\n",
    "\n",
    "# Загрузка данных\n",
    "df = pd.read_csv('https://raw.githubusercontent.com/selva86/datasets/master/Cars93_miss.csv', usecols=[0, 1, 2, 3, 5])\n",
    "\n",
    "# Замена NaN на 'missing' в указанных столбцах\n",
    "df[['Manufacturer', 'Model', 'Type']] = df[['Manufacturer', 'Model', 'Type']].fillna('missing')\n",
    "\n",
    "# Создание индекса на основе комбинации трех столбцов\n",
    "df.set_index(['Manufacturer', 'Model', 'Type'], inplace=True)\n",
    "\n",
    "# Проверка, является ли этот индекс первичным ключом\n",
    "is_unique = df.index.is_unique\n",
    "\n",
    "# Вывод результатов\n",
    "print(df)\n",
    "print(\"\\nЯвляется ли индекс первичным ключом?\", is_unique)\n"
   ]
  },
  {
   "cell_type": "markdown",
   "metadata": {},
   "source": [
    "## Упражнение № 50\n",
    "\n",
    "Найти положение строки с 5-м наибольшим значением столбца `'a'` в `df`.\n",
    "\n",
    "Пример входных данных:\n",
    "\n",
    "```python\n",
    "df = pd.DataFrame(np.random.randint(1, 30, 30).reshape(10,-1), columns=list('abc'))\n",
    "```"
   ]
  },
  {
   "cell_type": "code",
   "execution_count": 57,
   "metadata": {},
   "outputs": [
    {
     "name": "stdout",
     "output_type": "stream",
     "text": [
      "Исходный датафрейм:\n",
      "     a   b   c\n",
      "0   7  18   4\n",
      "1  25  28  14\n",
      "2  18  26   9\n",
      "3  26  21   2\n",
      "4  20  28  15\n",
      "5  28   7  12\n",
      "6  29   8  15\n",
      "7   3  14  17\n",
      "8   4  18   8\n",
      "9   4   2   6\n",
      "\n",
      "Положение строки с 5-м наибольшим значением столбца 'a': 4\n"
     ]
    }
   ],
   "source": [
    "import pandas as pd\n",
    "import numpy as np\n",
    "\n",
    "# Создание примера датафрейма\n",
    "df = pd.DataFrame(np.random.randint(1, 30, 30).reshape(10, -1), columns=list('abc'))\n",
    "\n",
    "# Печатаем датафрейм для наглядности\n",
    "print(\"Исходный датафрейм:\\n\", df)\n",
    "\n",
    "# Находим индекс строки с 5-м наибольшим значением в столбце 'a'\n",
    "position_5th_largest = df['a'].nlargest(5).index[-1]\n",
    "\n",
    "# Выводим результат\n",
    "print(\"\\nПоложение строки с 5-м наибольшим значением столбца 'a':\", position_5th_largest)\n"
   ]
  },
  {
   "cell_type": "markdown",
   "metadata": {},
   "source": [
    "## Упражнение № 51\n",
    "\n",
    "В `ser` найдите положение 2-го наибольшего значения, превышающего среднее.\n",
    "\n",
    "Пример входных данных:\n",
    "\n",
    "```python\n",
    "ser = pd.Series(np.random.randint(1, 100, 15))\n",
    "```"
   ]
  },
  {
   "cell_type": "code",
   "execution_count": 58,
   "metadata": {},
   "outputs": [
    {
     "name": "stdout",
     "output_type": "stream",
     "text": [
      "Исходная серия:\n",
      " 0     54\n",
      "1      4\n",
      "2     54\n",
      "3     93\n",
      "4     63\n",
      "      ..\n",
      "10    62\n",
      "11    14\n",
      "12    95\n",
      "13    48\n",
      "14    15\n",
      "Length: 15, dtype: int32\n",
      "\n",
      "Среднее значение: 50.8\n",
      "\n",
      "Положение 2-го наибольшего значения, превышающего среднее: 3\n"
     ]
    }
   ],
   "source": [
    "import pandas as pd\n",
    "import numpy as np\n",
    "\n",
    "# Создаем пример серии из 15 случайных целых чисел от 1 до 100\n",
    "ser = pd.Series(np.random.randint(1, 100, 15))\n",
    "\n",
    "# Печатаем исходную серию для наглядности\n",
    "print(\"Исходная серия:\\n\", ser)\n",
    "\n",
    "# Рассчитываем среднее значение\n",
    "mean_value = ser.mean()\n",
    "print(\"\\nСреднее значение:\", mean_value)\n",
    "\n",
    "# Отфильтровываем значения, превышающие среднее\n",
    "filtered_values = ser[ser > mean_value]\n",
    "\n",
    "# Находим 2-е наибольшее значение среди отфильтрованных значений\n",
    "second_largest = filtered_values.nlargest(2).iloc[-1]\n",
    "\n",
    "# Находим положение (индекс) 2-го наибольшего значения\n",
    "position_second_largest = filtered_values[filtered_values == second_largest].index[0]\n",
    "\n",
    "# Выводим результат\n",
    "print(\"\\nПоложение 2-го наибольшего значения, превышающего среднее:\", position_second_largest)\n"
   ]
  },
  {
   "cell_type": "markdown",
   "metadata": {},
   "source": [
    "## Упражнение № 52\n",
    "\n",
    "Получите две последние строки `df`, сумма строк которых больше 100.\n",
    "\n",
    "```python\n",
    "df = pd.DataFrame(np.random.randint(10, 40, 60).reshape(-1, 4))\n",
    "```"
   ]
  },
  {
   "cell_type": "code",
   "execution_count": 59,
   "metadata": {},
   "outputs": [
    {
     "name": "stdout",
     "output_type": "stream",
     "text": [
      "Исходный DataFrame:\n",
      "      0   1   2   3\n",
      "0   17  23  32  37\n",
      "1   34  39  17  30\n",
      "2   25  22  27  24\n",
      "3   30  33  35  34\n",
      "4   37  37  37  22\n",
      "..  ..  ..  ..  ..\n",
      "10  36  14  19  16\n",
      "11  35  18  37  16\n",
      "12  18  17  21  11\n",
      "13  10  25  32  32\n",
      "14  39  33  14  12\n",
      "\n",
      "[15 rows x 4 columns]\n",
      "\n",
      "Две последние строки с суммой больше 100:\n",
      "      0   1   2   3\n",
      "8   33  20  28  26\n",
      "11  35  18  37  16\n"
     ]
    }
   ],
   "source": [
    "import pandas as pd\n",
    "import numpy as np\n",
    "\n",
    "# Создаем DataFrame с 60 случайными целыми числами от 10 до 40, размером 15x4\n",
    "df = pd.DataFrame(np.random.randint(10, 40, 60).reshape(-1, 4))\n",
    "\n",
    "# Печатаем исходный DataFrame для наглядности\n",
    "print(\"Исходный DataFrame:\\n\", df)\n",
    "\n",
    "# Рассчитываем сумму по строкам\n",
    "row_sums = df.sum(axis=1)\n",
    "\n",
    "# Отфильтровываем строки, сумма которых больше 100\n",
    "filtered_df = df[row_sums > 100]\n",
    "\n",
    "# Получаем две последние строки из отфильтрованного DataFrame\n",
    "result = filtered_df.tail(2)  # tail(2) возвращает последние 2 строки\n",
    "\n",
    "# Выводим результат\n",
    "print(\"\\nДве последние строки с суммой больше 100:\\n\", result)\n"
   ]
  },
  {
   "cell_type": "markdown",
   "metadata": {},
   "source": [
    "## Упражнение № 53\n",
    "\n",
    "Замените все значения `ser`, находящиеся ниже 5%-ного и выше 95%-ного перцентиля, на соответствующие значения 5-го и 95-го перцентиля.\n",
    "\n",
    "Пример входных данных:\n",
    "\n",
    "```python\n",
    "ser = pd.Series(np.logspace(-2, 2, 30))\n",
    "```"
   ]
  },
  {
   "cell_type": "code",
   "execution_count": 60,
   "metadata": {},
   "outputs": [
    {
     "name": "stdout",
     "output_type": "stream",
     "text": [
      "0     0.0160\n",
      "1     0.0160\n",
      "2     0.0189\n",
      "3     0.0259\n",
      "4     0.0356\n",
      "       ...  \n",
      "25   28.0722\n",
      "26   38.5662\n",
      "27   52.9832\n",
      "28   63.8767\n",
      "29   63.8767\n",
      "Length: 30, dtype: float64\n"
     ]
    }
   ],
   "source": [
    "import pandas as pd\n",
    "import numpy as np\n",
    "\n",
    "# Создаем Series\n",
    "ser = pd.Series(np.logspace(-2, 2, 30))\n",
    "\n",
    "# Находим 5-й и 95-й перцентиль\n",
    "lower_percentile = ser.quantile(0.05)\n",
    "upper_percentile = ser.quantile(0.95)\n",
    "\n",
    "# Заменяем значения ниже 5% на 5%-ный перцентиль\n",
    "ser[ser < lower_percentile] = lower_percentile\n",
    "\n",
    "# Заменяем значения выше 95% на 95%-ный перцентиль\n",
    "ser[ser > upper_percentile] = upper_percentile\n",
    "\n",
    "# Выводим обработанную Series\n",
    "print(ser)\n"
   ]
  },
  {
   "cell_type": "markdown",
   "metadata": {},
   "source": [
    "## Упражнение № 54\n",
    "\n",
    "Перестройте `df` в максимально возможный квадрат с удалением отрицательных значений. При необходимости отбросьте наименьшие значения. Порядок положительных чисел в результате должен остаться тем же, что и в исходном варианте.\n",
    "\n",
    "Пример входных данных:\n",
    "\n",
    "```python\n",
    "df = pd.DataFrame(np.random.randint(-20, 50, 100).reshape(10,-1))\n",
    "```"
   ]
  },
  {
   "cell_type": "code",
   "execution_count": 61,
   "metadata": {},
   "outputs": [
    {
     "name": "stdout",
     "output_type": "stream",
     "text": [
      "Исходный DataFrame:\n",
      "     0   1   2   3   4   5   6   7   8   9\n",
      "0  23  14  44  26 -18 -20 -16  -7   6 -12\n",
      "1  -6  21  30  42  31 -17   2  -6  22   8\n",
      "2  15  -8  11  38   7  45  21  24  41  36\n",
      "3 -15   7   7  23   9  41  41 -20   6  41\n",
      "4 -18  49   6 -12  41  16  30  23   3  38\n",
      "5  11  31  41  37  31  -9  18 -19 -18  35\n",
      "6  38 -19 -19  33 -20  -2 -19  32  23  11\n",
      "7  49  11  47  34  35  -4  17   3  48  49\n",
      "8 -10  -5  38  49 -18  -1  38  15  -2  46\n",
      "9  -2  -1  31  12  19  18 -20 -10  36  29\n",
      "\n",
      "Квадратный DataFrame:\n",
      "         0       1       2       3       4       5       6       7\n",
      "0 23.0000 14.0000 44.0000 26.0000  6.0000 21.0000 30.0000 42.0000\n",
      "1 31.0000  2.0000 22.0000  8.0000 15.0000 11.0000 38.0000  7.0000\n",
      "2 45.0000 21.0000 24.0000 41.0000 36.0000  7.0000  7.0000 23.0000\n",
      "3  9.0000 41.0000 41.0000  6.0000 41.0000 49.0000  6.0000 41.0000\n",
      "4 16.0000 30.0000 23.0000  3.0000 38.0000 11.0000 31.0000 41.0000\n",
      "5 37.0000 31.0000 18.0000 35.0000 38.0000 33.0000 32.0000 23.0000\n",
      "6 11.0000 49.0000 11.0000 47.0000 34.0000 35.0000 17.0000  3.0000\n",
      "7 48.0000 49.0000 38.0000 49.0000 38.0000 15.0000 46.0000 31.0000\n"
     ]
    }
   ],
   "source": [
    "import pandas as pd\n",
    "import numpy as np\n",
    "\n",
    "# Создаем DataFrame с отрицательными и положительными значениями\n",
    "df = pd.DataFrame(np.random.randint(-20, 50, 100).reshape(10, -1))\n",
    "\n",
    "# Печатаем исходный DataFrame для наглядности\n",
    "print(\"Исходный DataFrame:\\n\", df)\n",
    "\n",
    "# Убираем отрицательные значения и оставляем только положительные\n",
    "positive_values = df[df >= 0].values.flatten()\n",
    "positive_values = positive_values[~np.isnan(positive_values)]  # Удаляем NaN\n",
    "\n",
    "# Определяем максимальный размер квадрата\n",
    "n = int(np.sqrt(len(positive_values)))\n",
    "\n",
    "# Создаем новый DataFrame, если есть положительные значения\n",
    "if n > 0:\n",
    "    square_df = pd.DataFrame(positive_values[:n * n].reshape(n, n))\n",
    "else:\n",
    "    square_df = pd.DataFrame()\n",
    "\n",
    "# Выводим результат\n",
    "print(\"\\nКвадратный DataFrame:\\n\", square_df)\n"
   ]
  },
  {
   "cell_type": "markdown",
   "metadata": {},
   "source": [
    "## Упражнение № 55\n",
    "\n",
    "Поменяйте местами строки 1 и 2 в `df`.\n",
    "\n",
    "Пример входных данных:\n",
    "\n",
    "```python\n",
    "df = pd.DataFrame(np.arange(25).reshape(5, -1))\n",
    "```"
   ]
  },
  {
   "cell_type": "code",
   "execution_count": 62,
   "metadata": {},
   "outputs": [
    {
     "name": "stdout",
     "output_type": "stream",
     "text": [
      "Исходный DataFrame:\n",
      "     0   1   2   3   4\n",
      "0   0   1   2   3   4\n",
      "1   5   6   7   8   9\n",
      "2  10  11  12  13  14\n",
      "3  15  16  17  18  19\n",
      "4  20  21  22  23  24\n",
      "\n",
      "DataFrame после замены строк 1 и 2:\n",
      "     0   1   2   3   4\n",
      "0   0   1   2   3   4\n",
      "1  10  11  12  13  14\n",
      "2   5   6   7   8   9\n",
      "3  15  16  17  18  19\n",
      "4  20  21  22  23  24\n"
     ]
    }
   ],
   "source": [
    "import pandas as pd\n",
    "import numpy as np\n",
    "\n",
    "# Создаем DataFrame с примером входных данных\n",
    "df = pd.DataFrame(np.arange(25).reshape(5, -1))\n",
    "\n",
    "# Печатаем исходный DataFrame для наглядности\n",
    "print(\"Исходный DataFrame:\\n\", df)\n",
    "\n",
    "# Меняем местами строки 1 и 2\n",
    "df.iloc[[1, 2]] = df.iloc[[2, 1]].values\n",
    "\n",
    "# Выводим результат\n",
    "print(\"\\nDataFrame после замены строк 1 и 2:\\n\", df)\n"
   ]
  },
  {
   "cell_type": "markdown",
   "metadata": {},
   "source": [
    "## Упражнение № 56\n",
    "\n",
    "Переверните строки датафрейма `df` (первая строка становится последней).\n",
    "\n",
    "Пример входных данных:\n",
    "\n",
    "```python\n",
    "df = pd.DataFrame(np.arange(25).reshape(5, -1))\n",
    "```"
   ]
  },
  {
   "cell_type": "code",
   "execution_count": 63,
   "metadata": {},
   "outputs": [
    {
     "name": "stdout",
     "output_type": "stream",
     "text": [
      "Исходный DataFrame:\n",
      "     0   1   2   3   4\n",
      "0   0   1   2   3   4\n",
      "1   5   6   7   8   9\n",
      "2  10  11  12  13  14\n",
      "3  15  16  17  18  19\n",
      "4  20  21  22  23  24\n",
      "\n",
      "Перевернутый DataFrame:\n",
      "     0   1   2   3   4\n",
      "0  20  21  22  23  24\n",
      "1  15  16  17  18  19\n",
      "2  10  11  12  13  14\n",
      "3   5   6   7   8   9\n",
      "4   0   1   2   3   4\n"
     ]
    }
   ],
   "source": [
    "import pandas as pd\n",
    "import numpy as np\n",
    "\n",
    "# Создаем DataFrame с примером входных данных\n",
    "df = pd.DataFrame(np.arange(25).reshape(5, -1))\n",
    "\n",
    "# Печатаем исходный DataFrame для наглядности\n",
    "print(\"Исходный DataFrame:\\n\", df)\n",
    "\n",
    "# Переворачиваем строки\n",
    "reversed_df = df.iloc[::-1].reset_index(drop=True)\n",
    "\n",
    "# Выводим результат\n",
    "print(\"\\nПеревернутый DataFrame:\\n\", reversed_df)\n"
   ]
  },
  {
   "cell_type": "markdown",
   "metadata": {},
   "source": [
    "## Упражнение № 57\n",
    "\n",
    "Получите бинарный код для столбца `'a'` в датафрейме `df` и добавьте его в виде столбцов.\n",
    "\n",
    "Пример входных данных:\n",
    "\n",
    "```python\n",
    "df = pd.DataFrame(np.arange(25).reshape(5,-1), columns=list('abcde'))\n",
    "    a   b   c   d   e\n",
    "0   0   1   2   3   4\n",
    "1   5   6   7   8   9\n",
    "2  10  11  12  13  14\n",
    "3  15  16  17  18  19\n",
    "4  20  21  22  23  24\n",
    "```\n",
    "\n",
    "Пример выходных данных:\n",
    "\n",
    "```python\n",
    "   0  5  10  15  20   b   c   d   e\n",
    "0  1  0   0   0   0   1   2   3   4\n",
    "1  0  1   0   0   0   6   7   8   9\n",
    "2  0  0   1   0   0  11  12  13  14\n",
    "3  0  0   0   1   0  16  17  18  19\n",
    "4  0  0   0   0   1  21  22  23  24\n",
    "```"
   ]
  },
  {
   "cell_type": "code",
   "execution_count": 64,
   "metadata": {},
   "outputs": [
    {
     "name": "stdout",
     "output_type": "stream",
     "text": [
      "Исходный DataFrame:\n",
      "     a   b   c   d   e\n",
      "0   0   1   2   3   4\n",
      "1   5   6   7   8   9\n",
      "2  10  11  12  13  14\n",
      "3  15  16  17  18  19\n",
      "4  20  21  22  23  24\n",
      "\n",
      "Итоговый DataFrame с бинарными столбцами:\n",
      "    bit_0  bit_1  bit_2  bit_3  bit_4   b   c   d   e\n",
      "0      0      0      0      0      0   1   2   3   4\n",
      "1      0      0      1      0      1   6   7   8   9\n",
      "2      0      1      0      1      0  11  12  13  14\n",
      "3      0      1      1      1      1  16  17  18  19\n",
      "4      1      0      1      0      0  21  22  23  24\n"
     ]
    }
   ],
   "source": [
    "import pandas as pd\n",
    "import numpy as np\n",
    "\n",
    "# Создание исходного DataFrame\n",
    "df = pd.DataFrame(np.arange(25).reshape(5, -1), columns=list('abcde'))\n",
    "\n",
    "# Печать исходного DataFrame\n",
    "print(\"Исходный DataFrame:\\n\", df)\n",
    "\n",
    "# Преобразование столбца 'a' в бинарный код\n",
    "# Для этого используем метод .apply() с форматом для строк\n",
    "binary_codes = df['a'].apply(lambda x: f\"{x:05b}\")  # 5 бит для чисел от 0 до 24\n",
    "\n",
    "# Создаем новый DataFrame из строк бинарного кода\n",
    "binary_df = binary_codes.apply(lambda x: pd.Series(list(x))).astype(int)\n",
    "\n",
    "# Переименовываем столбцы бинарного DataFrame для ясности\n",
    "binary_df.columns = [f\"bit_{i}\" for i in range(binary_df.shape[1])]\n",
    "\n",
    "# Объединяем бинарный DataFrame с исходным, добавляя к правому краю\n",
    "result_df = pd.concat([binary_df, df.iloc[:, 1:]], axis=1)\n",
    "\n",
    "# Печать итогового DataFrame\n",
    "print(\"\\nИтоговый DataFrame с бинарными столбцами:\\n\", result_df)\n"
   ]
  },
  {
   "cell_type": "markdown",
   "metadata": {},
   "source": [
    "## Упражнение № 58\n",
    "\n",
    "Получите название столбца с наибольшим количеством строчных максимумов в `df`.\n",
    "\n",
    "```python\n",
    "df = pd.DataFrame(np.random.randint(1,100, 40).reshape(10, -1))\n",
    "```"
   ]
  },
  {
   "cell_type": "code",
   "execution_count": 65,
   "metadata": {},
   "outputs": [
    {
     "name": "stdout",
     "output_type": "stream",
     "text": [
      "Исходный DataFrame:\n",
      "     0   1   2   3\n",
      "0  23  31  94  42\n",
      "1  99   7  16  90\n",
      "2  60   2   1  48\n",
      "3  12  69  37  32\n",
      "4   9  99  19  48\n",
      "5  80   3  20  24\n",
      "6  54  33  24  75\n",
      "7  72  36  38  84\n",
      "8  99  89  99  25\n",
      "9  93  18  82  66\n",
      "\n",
      "Столбец с наибольшим количеством строчных максимумов: 0\n"
     ]
    }
   ],
   "source": [
    "import pandas as pd\n",
    "import numpy as np\n",
    "\n",
    "# Создаем DataFrame с 10 строками и 4 столбцами случайных чисел от 1 до 100\n",
    "df = pd.DataFrame(np.random.randint(1, 100, 40).reshape(10, -1))\n",
    "\n",
    "# Печать исходного DataFrame\n",
    "print(\"Исходный DataFrame:\\n\", df)\n",
    "\n",
    "# Находим индексы столбцов, в которых находятся строчные максимумы\n",
    "# Сначала мы берем максимальные значения по строкам\n",
    "row_maxes = df.max(axis=1)\n",
    "\n",
    "# Теперь создадим маску, где максимальное значение равно значению в соответствующем столбце\n",
    "# и подсчитаем количество максимумов для каждого столбца\n",
    "max_count = (df == row_maxes.values[:, None]).sum()\n",
    "\n",
    "# Находим столбец с максимальным количеством строчных максимумов\n",
    "column_with_max_maxes = max_count.idxmax()\n",
    "\n",
    "# Печатаем результат\n",
    "print(\"\\nСтолбец с наибольшим количеством строчных максимумов:\", column_with_max_maxes)\n"
   ]
  },
  {
   "cell_type": "markdown",
   "metadata": {},
   "source": [
    "## Упражнение № 59\n",
    "\n",
    "Создать новый столбец, в каждой строке которого будет указан номер строки, ближайшей по евклидову расстоянию к данной строке.\n",
    "\n",
    "Пример входных данных:\n",
    "\n",
    "```python\n",
    "df = pd.DataFrame(np.random.randint(1,100, 40).reshape(10, -1), columns=list('pqrs'), index=list('abcdefghij'))\n",
    "df\n",
    "#     p   q   r   s\n",
    "# a  57  77  13  62\n",
    "# b  68   5  92  24\n",
    "# c  74  40  18  37\n",
    "# d  80  17  39  60\n",
    "# e  93  48  85  33\n",
    "# f  69  55   8  11\n",
    "# g  39  23  88  53\n",
    "# h  63  28  25  61\n",
    "# i  18   4  73   7\n",
    "# j  79  12  45  34\n",
    "```\n",
    "\n",
    "Пример выходных данных:\n",
    "\n",
    "```python\n",
    "df\n",
    "#    p   q   r   s nearest_row   dist\n",
    "# a  57  77  13  62           i  116.0\n",
    "# b  68   5  92  24           a  114.0\n",
    "# c  74  40  18  37           i   91.0\n",
    "# d  80  17  39  60           i   89.0\n",
    "# e  93  48  85  33           i   92.0\n",
    "# f  69  55   8  11           g  100.0\n",
    "# g  39  23  88  53           f  100.0\n",
    "# h  63  28  25  61           i   88.0\n",
    "# i  18   4  73   7           a  116.0\n",
    "# j  79  12  45  34           a   81.0\n",
    "```"
   ]
  },
  {
   "cell_type": "code",
   "execution_count": 66,
   "metadata": {},
   "outputs": [
    {
     "name": "stdout",
     "output_type": "stream",
     "text": [
      "    p   q   r   s nearest_row    dist\n",
      "a  54  35  80  61           e 25.0998\n",
      "b  41  33  68  33           e 32.0780\n",
      "c  14  21  48  20           d 24.5357\n",
      "d   8   7  67  17           c 24.5357\n",
      "e  33  48  76  59           a 25.0998\n",
      "f  86  22  30  38           j 49.9500\n",
      "g  51  54   8  27           j 45.1331\n",
      "h  27  98  21  30           g 51.8652\n",
      "i  97  28  64  97           a 58.7367\n",
      "j  69  61  48  19           g 45.1331\n"
     ]
    }
   ],
   "source": [
    "import pandas as pd\n",
    "import numpy as np\n",
    "\n",
    "# Создаем DataFrame с 10 строками и 4 столбцами случайных чисел от 1 до 100\n",
    "df = pd.DataFrame(np.random.randint(1, 100, 40).reshape(10, -1), columns=list('pqrs'), index=list('abcdefghij'))\n",
    "\n",
    "# Функция для вычисления евклидова расстояния\n",
    "def euclidean_distance(row1, row2):\n",
    "    return np.sqrt(np.sum((row1 - row2) ** 2))\n",
    "\n",
    "# Списки для хранения результатов\n",
    "nearest_rows = []\n",
    "distances = []\n",
    "\n",
    "# Для каждой строки находим ближайшую строку\n",
    "for i in range(len(df)):\n",
    "    current_row = df.iloc[i]\n",
    "    # Находим расстояния до всех остальных строк\n",
    "    dists = []\n",
    "    for j in range(len(df)):\n",
    "        if i != j:\n",
    "            dist = euclidean_distance(current_row, df.iloc[j])\n",
    "            dists.append((df.index[j], dist))\n",
    "    # Находим ближайшую строку и ее расстояние\n",
    "    nearest_row, min_dist = min(dists, key=lambda x: x[1])\n",
    "    nearest_rows.append(nearest_row)\n",
    "    distances.append(min_dist)\n",
    "\n",
    "# Добавляем новые столбцы в DataFrame\n",
    "df['nearest_row'] = nearest_rows\n",
    "df['dist'] = distances\n",
    "\n",
    "# Печатаем результат\n",
    "print(df)\n"
   ]
  },
  {
   "cell_type": "markdown",
   "metadata": {},
   "source": [
    "## Упражнение № 60\n",
    "\n",
    "Вычислите максимально возможное абсолютное значение корреляции каждого столбца с другими столбцами в `df`.\n",
    "\n",
    "Пример входных данных:\n",
    "\n",
    "```python\n",
    "df = pd.DataFrame(np.random.randint(1,100, 80).reshape(8, -1), columns=list('pqrstuvwxy'), index=list('abcdefgh'))\n",
    "```"
   ]
  },
  {
   "cell_type": "code",
   "execution_count": 67,
   "metadata": {},
   "outputs": [
    {
     "name": "stdout",
     "output_type": "stream",
     "text": [
      "  Column  Max Abs Correlation\n",
      "0      p               0.7050\n",
      "1      q               0.8106\n",
      "2      r               0.7808\n",
      "3      s               0.7992\n",
      "4      t               0.7528\n",
      "5      u               0.8106\n",
      "6      v               0.7485\n",
      "7      w               0.5501\n",
      "8      x               0.7808\n",
      "9      y               0.7992\n"
     ]
    }
   ],
   "source": [
    "import pandas as pd\n",
    "import numpy as np\n",
    "\n",
    "# Создаем DataFrame с 8 строками и 10 столбцами случайных чисел от 1 до 100\n",
    "df = pd.DataFrame(np.random.randint(1, 100, 80).reshape(8, -1), columns=list('pqrstuvwxy'), index=list('abcdefgh'))\n",
    "\n",
    "# Создаем DataFrame для хранения максимальных абсолютных корреляций\n",
    "max_abs_correlation = {}\n",
    "\n",
    "# Вычисляем корреляцию для каждого столбца\n",
    "correlation_matrix = df.corr()\n",
    "\n",
    "# Проходим по каждому столбцу и находим максимальное абсолютное значение корреляции\n",
    "for column in df.columns:\n",
    "    max_corr = correlation_matrix[column].drop(column).abs().max()  # исключаем сам столбец\n",
    "    max_abs_correlation[column] = max_corr\n",
    "\n",
    "# Превращаем словарь в DataFrame для удобного отображения\n",
    "max_abs_correlation_df = pd.DataFrame(max_abs_correlation.items(), columns=['Column', 'Max Abs Correlation'])\n",
    "\n",
    "# Печатаем результат\n",
    "print(max_abs_correlation_df)\n"
   ]
  },
  {
   "cell_type": "markdown",
   "metadata": {},
   "source": [
    "## Упражнение № 61\n",
    "\n",
    "Вычислите минимум-максимум для каждой строки `df`.\n",
    "\n",
    "```python\n",
    "df = pd.DataFrame(np.random.randint(1,100, 80).reshape(8, -1))\n",
    "```"
   ]
  },
  {
   "cell_type": "code",
   "execution_count": 68,
   "metadata": {},
   "outputs": [
    {
     "name": "stdout",
     "output_type": "stream",
     "text": [
      "Исходный DataFrame:\n",
      "     0   1   2   3   4   5   6   7   8   9\n",
      "0  63  62  22  58  58  86  49  52  42  70\n",
      "1  15  54  60  97   8  53  60   5  68   6\n",
      "2  96  94  47  99  55  40  52  16  13  30\n",
      "3  19  17  63  19  92  58  55  90  90  62\n",
      "4  23   9  12   1  58   1  34  96  48  89\n",
      "5   1  16  61  64  63  69  22  93  67  76\n",
      "6  26  16  51  86  57  29  78  92  69  47\n",
      "7  94  62  69  76  16  90  90  48  85  39\n",
      "\n",
      "Минимум и максимум для каждой строки:\n",
      "    Min  Max\n",
      "0   22   86\n",
      "1    5   97\n",
      "2   13   99\n",
      "3   17   92\n",
      "4    1   96\n",
      "5    1   93\n",
      "6   16   92\n",
      "7   16   94\n"
     ]
    }
   ],
   "source": [
    "import pandas as pd\n",
    "import numpy as np\n",
    "\n",
    "# Создаем DataFrame с 8 строками и 10 столбцами случайных чисел от 1 до 100\n",
    "df = pd.DataFrame(np.random.randint(1, 100, 80).reshape(8, -1))\n",
    "\n",
    "# Печатаем исходный DataFrame для наглядности\n",
    "print(\"Исходный DataFrame:\\n\", df)\n",
    "\n",
    "# Вычисляем минимум и максимум для каждой строки\n",
    "min_values = df.min(axis=1)  # Минимум по строкам\n",
    "max_values = df.max(axis=1)  # Максимум по строкам\n",
    "\n",
    "# Создаём DataFrame с результатами\n",
    "result = pd.DataFrame({'Min': min_values, 'Max': max_values})\n",
    "\n",
    "# Печатаем результат\n",
    "print(\"\\nМинимум и максимум для каждой строки:\\n\", result)\n"
   ]
  },
  {
   "cell_type": "markdown",
   "metadata": {},
   "source": [
    "## Упражнение № 62\n",
    "\n",
    "Создайте новый столбец `penultimate`, который содержит второе по величине значение каждой строки `df`.\n",
    "\n",
    "Пример входных данных:\n",
    "\n",
    "```python\n",
    "df = pd.DataFrame(np.random.randint(1,100, 80).reshape(8, -1))\n",
    "```"
   ]
  },
  {
   "cell_type": "code",
   "execution_count": 69,
   "metadata": {},
   "outputs": [
    {
     "name": "stdout",
     "output_type": "stream",
     "text": [
      "Исходный DataFrame:\n",
      "     0   1   2   3   4   5   6   7   8   9\n",
      "0  33  94  23  10  69  34  52  95  10  19\n",
      "1  58  96   1  69   4  16  24  80   2  92\n",
      "2  32  91  84  24  12  50  35  33  33  61\n",
      "3  51  43  12  67  65  33  40  74  43  44\n",
      "4  29  13  12  95  46   2  35  87  81  90\n",
      "5   8  93  26  74  90  34   7  68  58  75\n",
      "6  29  36  89  21  36  10  73  24  64  99\n",
      "7  49  99  36  82  96  24  23  62  96  37\n",
      "\n",
      "DataFrame с новым столбцом 'penultimate':\n",
      "     0   1   2   3   4  ...   6   7   8   9  penultimate\n",
      "0  33  94  23  10  69  ...  52  95  10  19           94\n",
      "1  58  96   1  69   4  ...  24  80   2  92           92\n",
      "2  32  91  84  24  12  ...  35  33  33  61           84\n",
      "3  51  43  12  67  65  ...  40  74  43  44           67\n",
      "4  29  13  12  95  46  ...  35  87  81  90           90\n",
      "5   8  93  26  74  90  ...   7  68  58  75           90\n",
      "6  29  36  89  21  36  ...  73  24  64  99           89\n",
      "7  49  99  36  82  96  ...  23  62  96  37           96\n",
      "\n",
      "[8 rows x 11 columns]\n"
     ]
    }
   ],
   "source": [
    "import pandas as pd\n",
    "import numpy as np\n",
    "\n",
    "# Создаем DataFrame с 8 строками и 10 столбцами случайных чисел от 1 до 100\n",
    "df = pd.DataFrame(np.random.randint(1, 100, 80).reshape(8, -1))\n",
    "\n",
    "# Печатаем исходный DataFrame для наглядности\n",
    "print(\"Исходный DataFrame:\\n\", df)\n",
    "\n",
    "# Функция для нахождения второго по величине значения\n",
    "def second_largest(row):\n",
    "    return row.nlargest(2).min()\n",
    "\n",
    "# Применяем функцию ко всем строкам и создаем новый столбец 'penultimate'\n",
    "df['penultimate'] = df.apply(second_largest, axis=1)\n",
    "\n",
    "# Печатаем результат\n",
    "print(\"\\nDataFrame с новым столбцом 'penultimate':\\n\", df)\n"
   ]
  },
  {
   "cell_type": "markdown",
   "metadata": {},
   "source": [
    "# Упражнение № 63\n",
    "\n",
    "1. Нормализуйте все столбцы `df`, вычитая среднее значение столбца и деля его на стандартное отклонение.\n",
    "2. Произведите ранжирование всех столбцов `df` таким образом, чтобы минимальное значение в каждом столбце было равно 0, а максимальное — 1.\n",
    "\n",
    "Не используйте внешние пакеты типа `sklearn`.\n",
    "\n",
    "Пример входных данных:\n",
    "\n",
    "```python\n",
    "df = pd.DataFrame(np.random.randint(1,100, 80).reshape(8, -1))\n",
    "```"
   ]
  },
  {
   "cell_type": "code",
   "execution_count": 70,
   "metadata": {},
   "outputs": [
    {
     "name": "stdout",
     "output_type": "stream",
     "text": [
      "Исходный DataFrame:\n",
      "     0   1   2   3   4   5   6   7   8   9\n",
      "0  12  55  13  23  89  99  30  17  62  84\n",
      "1  89  86  13  59  19  49  12  61  19  76\n",
      "2   9  71  28  78  95  52  83  16  69  99\n",
      "3  12  25  52  85  53  23  16  57  39  53\n",
      "4  42  58  39  14  95   5  35  87  93  75\n",
      "5  18  76   9  74  58  17   7  46  13  40\n",
      "6  42   9  50  27  66   5  29  37  38  83\n",
      "7   8  65  86  17  71  89  45   4  36  70\n",
      "\n",
      "Нормализованный DataFrame:\n",
      "         0       1       2       3       4       5       6       7       8  \\\n",
      "0 -0.6077 -0.0239 -0.8868 -0.8078  0.8062  1.5510 -0.0881 -0.8520  0.5925   \n",
      "1  2.1448  1.1624 -0.8868  0.3976 -1.9134  0.1815 -0.8343  0.7348 -1.0124   \n",
      "2 -0.7149  0.5884 -0.3147  1.0339  1.0393  0.2636  2.1091 -0.8881  0.8538   \n",
      "3 -0.6077 -1.1720  0.6007  1.2683 -0.5925 -0.5307 -0.6685  0.5906 -0.2659   \n",
      "4  0.4647  0.0909  0.1049 -1.1092  1.0393 -1.0237  0.1192  1.6725  1.7496   \n",
      "5 -0.3932  0.7797 -1.0394  0.8999 -0.3982 -0.6951 -1.0416  0.1938 -1.2364   \n",
      "6  0.4647 -1.7843  0.5245 -0.6739 -0.0874 -1.0237 -0.1296 -0.1307 -0.3033   \n",
      "7 -0.7507  0.3588  1.8976 -1.0088  0.1068  1.2771  0.5338 -1.3209 -0.3779   \n",
      "\n",
      "        9  \n",
      "0  0.6203  \n",
      "1  0.1888  \n",
      "2  1.4294  \n",
      "3 -1.0518  \n",
      "4  0.1348  \n",
      "5 -1.7530  \n",
      "6  0.5664  \n",
      "7 -0.1348  \n",
      "\n",
      "Ранжированный DataFrame:\n",
      "        0      1      2      3      4      5      6      7      8      9\n",
      "0 0.0494 0.5974 0.0519 0.1268 0.9211 1.0000 0.3026 0.1566 0.6125 0.7458\n",
      "1 1.0000 1.0000 0.0519 0.6338 0.0000 0.4681 0.0658 0.6867 0.0750 0.6102\n",
      "2 0.0123 0.8052 0.2468 0.9014 1.0000 0.5000 1.0000 0.1446 0.7000 1.0000\n",
      "3 0.0494 0.2078 0.5584 1.0000 0.4474 0.1915 0.1184 0.6386 0.3250 0.2203\n",
      "4 0.4198 0.6364 0.3896 0.0000 1.0000 0.0000 0.3684 1.0000 1.0000 0.5932\n",
      "5 0.1235 0.8701 0.0000 0.8451 0.5132 0.1277 0.0000 0.5060 0.0000 0.0000\n",
      "6 0.4198 0.0000 0.5325 0.1831 0.6184 0.0000 0.2895 0.3976 0.3125 0.7288\n",
      "7 0.0000 0.7273 1.0000 0.0423 0.6842 0.8936 0.5000 0.0000 0.2875 0.5085\n"
     ]
    }
   ],
   "source": [
    "import pandas as pd\n",
    "import numpy as np\n",
    "\n",
    "# Создаем DataFrame с 8 строками и 10 столбцами случайных чисел от 1 до 100\n",
    "df = pd.DataFrame(np.random.randint(1, 100, 80).reshape(8, -1))\n",
    "\n",
    "# Печатаем исходный DataFrame для наглядности\n",
    "print(\"Исходный DataFrame:\\n\", df)\n",
    "\n",
    "# 1. Нормализация\n",
    "normalized_df = (df - df.mean()) / df.std()\n",
    "\n",
    "# Печатаем результат нормализации\n",
    "print(\"\\nНормализованный DataFrame:\\n\", normalized_df)\n",
    "\n",
    "# 2. Ранжирование\n",
    "ranked_df = (normalized_df - normalized_df.min()) / (normalized_df.max() - normalized_df.min())\n",
    "\n",
    "# Печатаем результат ранжирования\n",
    "print(\"\\nРанжированный DataFrame:\\n\", ranked_df)\n"
   ]
  },
  {
   "cell_type": "markdown",
   "metadata": {},
   "source": [
    "## Упражнение № 64\n",
    "\n",
    "Вычислите корреляцию каждой строки `df` с последующей строкой.\n",
    "\n",
    "Пример входных данных:\n",
    "\n",
    "```python\n",
    "df = pd.DataFrame(np.random.randint(1,100, 80).reshape(8, -1))\n",
    "```"
   ]
  },
  {
   "cell_type": "code",
   "execution_count": 71,
   "metadata": {},
   "outputs": [
    {
     "name": "stdout",
     "output_type": "stream",
     "text": [
      "Исходный DataFrame:\n",
      "     0   1   2   3   4   5   6   7   8   9\n",
      "0  31  19  61  54  39  91  74  90  19  39\n",
      "1  67  45  13  92  58  20  92  72  61  39\n",
      "2   1   3  77  92  62  63  25  56  33  38\n",
      "3   6  58  44  45  32  45  61  47  21  80\n",
      "4  85  75  36  99  19  20  57  18  47  49\n",
      "5  14  15  31   1  54   3  16  87  57  75\n",
      "6  12  74  96  16  72  76  24  28   8  92\n",
      "7  36  90   8  58  60  50  28  92  41  64\n",
      "\n",
      "Корреляция каждой строки с последующей:\n",
      "    Correlation\n",
      "0      -0.0241\n",
      "1      -0.1094\n",
      "2       0.1165\n",
      "3      -0.0991\n",
      "4      -0.5510\n",
      "5       0.1007\n",
      "6       0.0154\n"
     ]
    }
   ],
   "source": [
    "import pandas as pd\n",
    "import numpy as np\n",
    "\n",
    "# Создаем DataFrame с 8 строками и 10 столбцами случайных чисел от 1 до 100\n",
    "df = pd.DataFrame(np.random.randint(1, 100, 80).reshape(8, -1))\n",
    "\n",
    "# Печатаем исходный DataFrame\n",
    "print(\"Исходный DataFrame:\\n\", df)\n",
    "\n",
    "# Список для хранения корреляций\n",
    "correlation_list = []\n",
    "\n",
    "# Вычисляем корреляцию для каждой пары соседних строк\n",
    "for i in range(len(df) - 1):\n",
    "    correlation = df.iloc[i].corr(df.iloc[i + 1])  # Корреляция текущей строки с следующей\n",
    "    correlation_list.append(correlation)\n",
    "\n",
    "# Превращаем список в DataFrame для удобного отображения\n",
    "correlation_df = pd.DataFrame(correlation_list, columns=['Correlation'], index=df.index[:-1])\n",
    "\n",
    "# Печатаем результат\n",
    "print(\"\\nКорреляция каждой строки с последующей:\\n\", correlation_df)\n"
   ]
  },
  {
   "cell_type": "markdown",
   "metadata": {},
   "source": [
    "## Упражнение № 65\n",
    "\n",
    "Замените все значения в обеих диагоналях `df` на 0.\n",
    "\n",
    "Пример входных данных:\n",
    "\n",
    "```python\n",
    "df = pd.DataFrame(np.random.randint(1,100, 100).reshape(10, -1))\n",
    "df\n",
    "#     0   1   2   3   4   5   6   7   8   9\n",
    "# 0  11  46  26  44  11  62  18  70  68  26\n",
    "# 1  87  71  52  50  81  43  83  39   3  59\n",
    "# 2  47  76  93  77  73   2   2  16  14  26\n",
    "# 3  64  18  74  22  16  37  60   8  66  39\n",
    "# 4  10  18  39  98  25   8  32   6   3  29\n",
    "# 5  29  91  27  86  23  84  28  31  97  10\n",
    "# 6  37  71  70  65   4  72  82  89  12  97\n",
    "# 7  65  22  97  75  17  10  43  78  12  77\n",
    "# 8  47  57  96  55  17  83  61  85  26  86\n",
    "# 9  76  80  28  45  77  12  67  80   7  63\n",
    "```\n",
    "\n",
    "Пример выходных данных:\n",
    "\n",
    "```python\n",
    "#     0   1   2   3   4   5   6   7   8   9\n",
    "# 0   0  46  26  44  11  62  18  70  68   0\n",
    "# 1  87   0  52  50  81  43  83  39   0  59\n",
    "# 2  47  76   0  77  73   2   2   0  14  26\n",
    "# 3  64  18  74   0  16  37   0   8  66  39\n",
    "# 4  10  18  39  98   0   0  32   6   3  29\n",
    "# 5  29  91  27  86   0   0  28  31  97  10\n",
    "# 6  37  71  70   0   4  72   0  89  12  97\n",
    "# 7  65  22   0  75  17  10  43   0  12  77\n",
    "# 8  47   0  96  55  17  83  61  85   0  86\n",
    "# 9   0  80  28  45  77  12  67  80   7   0\n",
    "```\n"
   ]
  },
  {
   "cell_type": "code",
   "execution_count": 72,
   "metadata": {},
   "outputs": [
    {
     "name": "stdout",
     "output_type": "stream",
     "text": [
      "Исходный DataFrame:\n",
      "     0   1   2   3   4   5   6   7   8   9\n",
      "0  27  63  17  73  33  84  77  92  29  13\n",
      "1  46  35   6  82  69  47  25  66  10  56\n",
      "2  30   5  33  65  18  96  49  11  85  26\n",
      "3  63  89  86  59  27  49  77  33  98  99\n",
      "4   1  21  55   6  92  81  69  95   5   3\n",
      "5  53  23  53  37  74  74  83  17  85  78\n",
      "6  73   1  51  45  77   4  62  65  32  34\n",
      "7  92  95  72  39  26  34  54   3  50  12\n",
      "8  65  54   5  94  94  57  17  47  23  79\n",
      "9  85  14  66  75  51  38  64  98  38  50\n",
      "\n",
      "DataFrame после замены диагоналей на 0:\n",
      "     0   1   2   3   4   5   6   7   8   9\n",
      "0   0  63  17  73  33  84  77  92  29   0\n",
      "1  46   0   6  82  69  47  25  66   0  56\n",
      "2  30   5   0  65  18  96  49   0  85  26\n",
      "3  63  89  86   0  27  49   0  33  98  99\n",
      "4   1  21  55   6   0   0  69  95   5   3\n",
      "5  53  23  53  37   0   0  83  17  85  78\n",
      "6  73   1  51   0  77   4   0  65  32  34\n",
      "7  92  95   0  39  26  34  54   0  50  12\n",
      "8  65   0   5  94  94  57  17  47   0  79\n",
      "9   0  14  66  75  51  38  64  98  38   0\n"
     ]
    }
   ],
   "source": [
    "import pandas as pd\n",
    "import numpy as np\n",
    "\n",
    "# Создаем DataFrame с примером входных данных\n",
    "df = pd.DataFrame(np.random.randint(1, 100, 100).reshape(10, -1))\n",
    "\n",
    "# Печатаем исходный DataFrame для наглядности\n",
    "print(\"Исходный DataFrame:\\n\", df)\n",
    "\n",
    "# Заменяем значения на главной диагонали на 0\n",
    "np.fill_diagonal(df.values, 0)\n",
    "\n",
    "# Заменяем значения на побочной диагонали на 0\n",
    "np.fill_diagonal(np.fliplr(df.values), 0)\n",
    "\n",
    "# Выводим результат\n",
    "print(\"\\nDataFrame после замены диагоналей на 0:\\n\", df)\n"
   ]
  },
  {
   "cell_type": "markdown",
   "metadata": {},
   "source": [
    "## Упражнение № 66\n",
    "\n",
    "Из `df_grouped` получите в виде датафрейма группу, относящуюся к `apple`.\n",
    "\n",
    "Пример входных данных:\n",
    "\n",
    "```python\n",
    "df = pd.DataFrame({'col1': ['apple', 'banana', 'orange'] * 3,\n",
    "                   'col2': np.random.rand(9),\n",
    "                   'col3': np.random.randint(0, 15, 9)})\n",
    "\n",
    "df_grouped = df.groupby(['col1'])\n",
    "```\n",
    "\n",
    "Пример выходных данных\n",
    "\n",
    "```\n",
    "    col1      col2  col3\n",
    "0  apple  0.673434     7\n",
    "3  apple  0.182348    14\n",
    "6  apple  0.050457     3\n",
    "```"
   ]
  },
  {
   "cell_type": "code",
   "execution_count": 74,
   "metadata": {},
   "outputs": [
    {
     "name": "stdout",
     "output_type": "stream",
     "text": [
      "    col1   col2  col3\n",
      "0  apple 0.7689     6\n",
      "1  apple 0.6208    10\n",
      "2  apple 0.5796     3\n"
     ]
    }
   ],
   "source": [
    "import pandas as pd\n",
    "import numpy as np\n",
    "\n",
    "# Создаем DataFrame с примером входных данных\n",
    "df = pd.DataFrame({'col1': ['apple', 'banana', 'orange'] * 3,\n",
    "                   'col2': np.random.rand(9),\n",
    "                   'col3': np.random.randint(0, 15, 9)})\n",
    "\n",
    "# Группируем по 'col1'\n",
    "df_grouped = df.groupby(['col1'])\n",
    "\n",
    "# Получаем группу, относящуюся к 'apple', передавая имя в виде кортежа\n",
    "apple_group = df_grouped.get_group(('apple',)).reset_index(drop=True)\n",
    "\n",
    "# Выводим датафрейм для группы apple\n",
    "print(apple_group)\n"
   ]
  },
  {
   "cell_type": "markdown",
   "metadata": {},
   "source": [
    "## Упражнение № 67\n",
    "\n",
    "В `df` найдите второе по величине значение `taste` для `banana`.\n",
    "\n",
    "Пример входных данных:\n",
    "\n",
    "```python\n",
    "df = pd.DataFrame({'fruit': ['apple', 'banana', 'orange'] * 3,\n",
    "                   'rating': np.random.rand(9),\n",
    "                   'price': np.random.randint(0, 15, 9)})\n",
    "```"
   ]
  },
  {
   "cell_type": "code",
   "execution_count": 75,
   "metadata": {},
   "outputs": [
    {
     "name": "stdout",
     "output_type": "stream",
     "text": [
      "Второе по величине значение rating для banana: 0.17231987120162984\n"
     ]
    }
   ],
   "source": [
    "import pandas as pd\n",
    "import numpy as np\n",
    "\n",
    "# Создаем DataFrame с примером входных данных\n",
    "df = pd.DataFrame({'fruit': ['apple', 'banana', 'orange'] * 3,\n",
    "                   'rating': np.random.rand(9),\n",
    "                   'price': np.random.randint(0, 15, 9)})\n",
    "\n",
    "# Отфильтровать строки с banana\n",
    "banana_ratings = df[df['fruit'] == 'banana']['rating']\n",
    "\n",
    "# Получаем уникальные значения и сортируем их по убыванию\n",
    "second_best_rating = banana_ratings.unique()\n",
    "\n",
    "# Проверим, что в выборке достаточно уникальных значений\n",
    "if len(second_best_rating) >= 2:\n",
    "    # Сортируем и выбираем второе по величине\n",
    "    second_highest = np.sort(second_best_rating)[-2]\n",
    "    print(f\"Второе по величине значение rating для banana: {second_highest}\")\n",
    "else:\n",
    "    print(\"Недостаточно уникальных значений для banana.\")\n"
   ]
  },
  {
   "cell_type": "markdown",
   "metadata": {},
   "source": [
    "## Упражнение № 68\n",
    "\n",
    "В `df` вычислите среднюю цену `Price` каждого фрукта `Fruit`, сохраняя фрукт как еще один столбец вместо индекса.\n",
    "\n",
    "Пример входных данных:\n",
    "\n",
    "```python\n",
    "df = pd.DataFrame({'fruit': ['apple', 'banana', 'orange'] * 3,\n",
    "                   'rating': np.random.rand(9),\n",
    "                   'price': np.random.randint(0, 15, 9)})\n",
    "```"
   ]
  },
  {
   "cell_type": "code",
   "execution_count": 76,
   "metadata": {},
   "outputs": [
    {
     "name": "stdout",
     "output_type": "stream",
     "text": [
      "    fruit  average_price\n",
      "0   apple         5.0000\n",
      "1  banana         0.6667\n",
      "2  orange         9.3333\n"
     ]
    }
   ],
   "source": [
    "import pandas as pd\n",
    "import numpy as np\n",
    "\n",
    "# Создаем DataFrame с примером входных данных\n",
    "df = pd.DataFrame({'fruit': ['apple', 'banana', 'orange'] * 3,\n",
    "                   'rating': np.random.rand(9),\n",
    "                   'price': np.random.randint(0, 15, 9)})\n",
    "\n",
    "# Вычисляем среднюю цену для каждого фрукта\n",
    "average_price = df.groupby('fruit')['price'].mean().reset_index()\n",
    "\n",
    "# Переименуем колонки для ясности (по желанию)\n",
    "average_price.columns = ['fruit', 'average_price']\n",
    "\n",
    "# Выводим результат\n",
    "print(average_price)\n"
   ]
  },
  {
   "cell_type": "markdown",
   "metadata": {},
   "source": [
    "## Упражнение № 69\n",
    "\n",
    "Объединить датафреймы `df1` и `df2` по признакам `fruit-pazham` и `weight-kilo`.\n",
    "\n",
    "Пример входных данных:\n",
    "\n",
    "```python\n",
    "df1 = pd.DataFrame({'fruit': ['apple', 'banana', 'orange'] * 3,\n",
    "                    'weight': ['high', 'medium', 'low'] * 3,\n",
    "                    'price': np.random.randint(0, 15, 9)})\n",
    "\n",
    "df2 = pd.DataFrame({'pazham': ['apple', 'orange', 'pine'] * 2,\n",
    "                    'kilo': ['high', 'low'] * 3,\n",
    "                    'price': np.random.randint(0, 15, 6)})\n",
    "```"
   ]
  },
  {
   "cell_type": "code",
   "execution_count": 77,
   "metadata": {},
   "outputs": [
    {
     "name": "stdout",
     "output_type": "stream",
     "text": [
      "    fruit weight  price_x  pazham  kilo  price_y\n",
      "0   apple   high        3   apple  high        6\n",
      "1  orange    low       14  orange   low       13\n",
      "2   apple   high       14   apple  high        6\n",
      "3  orange    low        5  orange   low       13\n",
      "4   apple   high       13   apple  high        6\n",
      "5  orange    low       11  orange   low       13\n"
     ]
    }
   ],
   "source": [
    "import pandas as pd\n",
    "import numpy as np\n",
    "\n",
    "# Создаем датафреймы с примером входных данных\n",
    "df1 = pd.DataFrame({'fruit': ['apple', 'banana', 'orange'] * 3,\n",
    "                    'weight': ['high', 'medium', 'low'] * 3,\n",
    "                    'price': np.random.randint(0, 15, 9)})\n",
    "\n",
    "df2 = pd.DataFrame({'pazham': ['apple', 'orange', 'pine'] * 2,\n",
    "                    'kilo': ['high', 'low'] * 3,\n",
    "                    'price': np.random.randint(0, 15, 6)})\n",
    "\n",
    "# Объединяем датафреймы df1 и df2\n",
    "merged_df = pd.merge(df1, df2, left_on=['fruit', 'weight'], right_on=['pazham', 'kilo'])\n",
    "\n",
    "# Выводим результат\n",
    "print(merged_df)\n"
   ]
  },
  {
   "cell_type": "markdown",
   "metadata": {},
   "source": [
    "## Упражнение № 70\n",
    "\n",
    "Создайте в `df` два новых столбца, один из них — `lag1` (сдвиг столбца `a` вниз на 1 строку) столбца 'a', а другой — `lead1` (сдвиг столбца `b` вверх на 1 строку).\n",
    "\n",
    "Пример входных данных:\n",
    "\n",
    "```python\n",
    "df = pd.DataFrame(np.random.randint(1, 100, 20).reshape(-1, 4), columns = list('abcd'))\n",
    "\n",
    "    a   b   c   d\n",
    "0  66  34  76  47\n",
    "1  20  86  10  81\n",
    "2  75  73  51  28\n",
    "3   1   1   9  83\n",
    "4  30  47  67   4\n",
    "```\n",
    "\n",
    "Пример выходных данных:\n",
    "\n",
    "```python\n",
    "    a   b   c   d  a_lag1  b_lead1\n",
    "0  66  34  76  47     NaN     86.0\n",
    "1  20  86  10  81    66.0     73.0\n",
    "2  75  73  51  28    20.0      1.0\n",
    "3   1   1   9  83    75.0     47.0\n",
    "4  30  47  67   4     1.0      NaN\n",
    "```"
   ]
  },
  {
   "cell_type": "code",
   "execution_count": 78,
   "metadata": {},
   "outputs": [
    {
     "name": "stdout",
     "output_type": "stream",
     "text": [
      "Исходный DataFrame:\n",
      "     a   b   c   d\n",
      "0  14  59  56   7\n",
      "1   3  23  18  38\n",
      "2  99  15  64  89\n",
      "3  28  74  39  57\n",
      "4  17  86  90  44\n",
      "\n",
      "DataFrame с новыми столбцами 'a_lag1' и 'b_lead1':\n",
      "     a   b   c   d  a_lag1  b_lead1\n",
      "0  14  59  56   7     NaN  23.0000\n",
      "1   3  23  18  38 14.0000  15.0000\n",
      "2  99  15  64  89  3.0000  74.0000\n",
      "3  28  74  39  57 99.0000  86.0000\n",
      "4  17  86  90  44 28.0000      NaN\n"
     ]
    }
   ],
   "source": [
    "import pandas as pd\n",
    "import numpy as np\n",
    "\n",
    "# Создаем пример DataFrame\n",
    "df = pd.DataFrame(np.random.randint(1, 100, 20).reshape(-1, 4), columns=list('abcd'))\n",
    "\n",
    "# Печатаем исходный датафрейм\n",
    "print(\"Исходный DataFrame:\\n\", df)\n",
    "\n",
    "# Создаем столбцы a_lag1 и b_lead1\n",
    "df['a_lag1'] = df['a'].shift(1)  # Сдвиг столбца 'a' вниз на 1 строку\n",
    "df['b_lead1'] = df['b'].shift(-1) # Сдвиг столбца 'b' вверх на 1 строку\n",
    "\n",
    "# Печатаем результат\n",
    "print(\"\\nDataFrame с новыми столбцами 'a_lag1' и 'b_lead1':\\n\", df)\n"
   ]
  },
  {
   "cell_type": "markdown",
   "metadata": {},
   "source": [
    "## Упражнение № 71\n",
    "\n",
    "Получите частоты уникальных значений по всему датафрейму `df`.\n",
    "\n",
    "Пример входных данных:\n",
    "\n",
    "```python\n",
    "df = pd.DataFrame(np.random.randint(1, 10, 20).reshape(-1, 4), columns = list('abcd'))\n",
    "```"
   ]
  },
  {
   "cell_type": "code",
   "execution_count": 79,
   "metadata": {},
   "outputs": [
    {
     "name": "stdout",
     "output_type": "stream",
     "text": [
      "Исходный DataFrame:\n",
      "    a  b  c  d\n",
      "0  9  1  4  9\n",
      "1  4  3  9  2\n",
      "2  4  6  2  8\n",
      "3  8  1  3  9\n",
      "4  5  6  4  2\n",
      "\n",
      "Частоты уникальных значений в DataFrame:\n",
      "        a      b      c      d\n",
      "1 0.0000 2.0000 0.0000 0.0000\n",
      "2 0.0000 0.0000 1.0000 2.0000\n",
      "3 0.0000 1.0000 1.0000 0.0000\n",
      "4 2.0000 0.0000 2.0000 0.0000\n",
      "5 1.0000 0.0000 0.0000 0.0000\n",
      "6 0.0000 2.0000 0.0000 0.0000\n",
      "8 1.0000 0.0000 0.0000 1.0000\n",
      "9 1.0000 0.0000 1.0000 2.0000\n"
     ]
    }
   ],
   "source": [
    "import pandas as pd\n",
    "import numpy as np\n",
    "\n",
    "# Создание примера DataFrame\n",
    "df = pd.DataFrame(np.random.randint(1, 10, 20).reshape(-1, 4), columns=list('abcd'))\n",
    "\n",
    "# Печатаем исходный DataFrame\n",
    "print(\"Исходный DataFrame:\\n\", df)\n",
    "\n",
    "# Получение частот уникальных значений для всего DataFrame\n",
    "value_counts = df.apply(pd.Series.value_counts).fillna(0)\n",
    "\n",
    "# Печатаем частоты уникальных значений\n",
    "print(\"\\nЧастоты уникальных значений в DataFrame:\\n\", value_counts)\n"
   ]
  },
  {
   "cell_type": "markdown",
   "metadata": {},
   "source": [
    "## Упражнение № 72\n",
    "\n",
    "Разделите столбец `row` в `df` так, чтобы сформировать датафрейм с 3 столбцами, как показано в примере выходных данных. \n",
    "\n",
    "Пример входных данных:\n",
    "\n",
    "```python\n",
    "df = pd.DataFrame([\"STD, City    State\",\n",
    "\"33, Kolkata    West Bengal\",\n",
    "\"44, Chennai    Tamil Nadu\",\n",
    "\"40, Hyderabad    Telengana\",\n",
    "\"80, Bangalore    Karnataka\"], columns=['row'])\n",
    "\n",
    "print(df)\n",
    "#>                         row\n",
    "#> 0          STD, City\\tState\n",
    "#> 1  33, Kolkata\\tWest Bengal\n",
    "#> 2   44, Chennai\\tTamil Nadu\n",
    "#> 3  40, Hyderabad\\tTelengana\n",
    "#> 4  80, Bangalore\\tKarnataka\n",
    "```\n",
    "\n",
    "Пример выходных данных:\n",
    "\n",
    "```\n",
    "0 STD        City        State\n",
    "1  33     Kolkata  West Bengal\n",
    "2  44     Chennai   Tamil Nadu\n",
    "3  40   Hyderabad    Telengana\n",
    "4  80   Bangalore    Karnataka\n",
    "```\n"
   ]
  },
  {
   "cell_type": "code",
   "execution_count": 89,
   "metadata": {},
   "outputs": [
    {
     "name": "stdout",
     "output_type": "stream",
     "text": [
      "     0                       1\n",
      "0  STD           City    State\n",
      "1   33  Kolkata    West Bengal\n",
      "2   44   Chennai    Tamil Nadu\n",
      "3   40  Hyderabad    Telengana\n",
      "4   80  Bangalore    Karnataka\n",
      "Количество столбцов не соответствует ожиданиям!\n",
      "     0                       1\n",
      "0  STD           City    State\n",
      "1   33  Kolkata    West Bengal\n",
      "2   44   Chennai    Tamil Nadu\n",
      "3   40  Hyderabad    Telengana\n",
      "4   80  Bangalore    Karnataka\n"
     ]
    }
   ],
   "source": [
    "import pandas as pd\n",
    "\n",
    "# Исходные данные\n",
    "df = pd.DataFrame([\n",
    "    \"STD, City    State\",\n",
    "    \"33, Kolkata    West Bengal\",\n",
    "    \"44, Chennai    Tamil Nadu\",\n",
    "    \"40, Hyderabad    Telengana\",\n",
    "    \"80, Bangalore    Karnataka\"\n",
    "], columns=['row'])\n",
    "\n",
    "# Разделим строку по запятой и создадим новые столбцы\n",
    "df_split = df['row'].str.split(',', expand=True)\n",
    "\n",
    "# Убираем лишние пробелы\n",
    "df_split = df_split.apply(lambda x: x.str.strip())\n",
    "\n",
    "# Проверяем количество столбцов\n",
    "print(df_split)\n",
    "\n",
    "# Переименовываем столбцы (если их 3)\n",
    "if df_split.shape[1] == 3:\n",
    "    df_split.columns = ['STD', 'City', 'State']\n",
    "else:\n",
    "    print(\"Количество столбцов не соответствует ожиданиям!\")\n",
    "\n",
    "# Выводим результат\n",
    "print(df_split)\n"
   ]
  }
 ],
 "metadata": {
  "kernelspec": {
   "display_name": "Python 3",
   "language": "python",
   "name": "python3"
  },
  "language_info": {
   "codemirror_mode": {
    "name": "ipython",
    "version": 3
   },
   "file_extension": ".py",
   "mimetype": "text/x-python",
   "name": "python",
   "nbconvert_exporter": "python",
   "pygments_lexer": "ipython3",
   "version": "3.12.7"
  }
 },
 "nbformat": 4,
 "nbformat_minor": 2
}
